{
  "cells": [
    {
      "cell_type": "markdown",
      "id": "2be7beba",
      "metadata": {
        "_cell_guid": "b1076dfc-b9ad-4769-8c92-a6c4dae69d19",
        "_uuid": "8f2839f25d086af736a60e9eeb907d3b93b6e0e5",
        "papermill": {
          "duration": 0.005236,
          "end_time": "2023-10-07T05:39:04.137040",
          "exception": false,
          "start_time": "2023-10-07T05:39:04.131804",
          "status": "completed"
        },
        "tags": [],
        "id": "2be7beba"
      },
      "source": [
        "<div style=\"\n",
        "    padding: 30px;\n",
        "    margin: 0 auto;\n",
        "    font-size: 270%;\n",
        "    text-align: center;\n",
        "    border-radius: 10px;\n",
        "    background-color: #040D12; /* Updated background color */\n",
        "    color: #ffffff; /* Text color */\n",
        "    box-shadow: 0 4px 8px rgba(0, 0, 0, 0.1); /* Adding a little shadow */\n",
        "    font-family: 'Segoe UI', Tahoma, Geneva, Verdana, sans-serif; /* Updated font-family */\n",
        "    font-weight: bold;\n",
        "    line-height: 1.3;\n",
        "\">\n",
        "    From Sporting to Al-Nassr<br/>\n",
        "    <div style = \"text-align:center;\">Cristiano Ronaldo: All Club Goals and Stats</div>\n",
        "</div>"
      ]
    },
    {
      "cell_type": "markdown",
      "id": "7c27cba0",
      "metadata": {
        "papermill": {
          "duration": 0.004462,
          "end_time": "2023-10-07T05:39:04.146340",
          "exception": false,
          "start_time": "2023-10-07T05:39:04.141878",
          "status": "completed"
        },
        "tags": [],
        "id": "7c27cba0"
      },
      "source": [
        "# 1. Introduction\n",
        "\n",
        "<div style=\"\">\n",
        "    <div>\n",
        "        <img style=\"width:23%;float: left;margin:5px 30px 5px 1px;height:100%\" src=\"https://pbs.twimg.com/media/FmMUBAVWYAAp9yZ.jpg:large\"  />\n",
        "    </div>\n",
        "    <div style=\"margin-left: 20px;\">\n",
        "        <p style=\"font-weight: bold; font-size: 20px;\">Cristiano Ronaldo dos Santos Aveiro</p>\n",
        "        <p style=\"font-size: 14px; line-height: 1.6;\">\n",
        "            A Portuguese professional footballer who plays as a forward for Saudi Pro League club <strong>Al Nassr</strong> and captains the <strong>Portugal national team</strong>. He is considered one of the greatest footballers of all time.\n",
        "        </p>\n",
        "        <p style=\"font-size: 14px; font-style: italic;\">\n",
        "            Here is a brief overview of Ronaldo's career:\n",
        "        </p>\n",
        "        <ul style=\"font-size: 14px; line-height: 1.6; position:relative;right:-15px\">\n",
        "            <li>Born: February 5, 1985 (age 38 years)</li>\n",
        "            <li>Current team: Al Nassr FC (#7 / Forward)</li>\n",
        "            <li>Height: 1.87 m</li>\n",
        "            <li>Partner: Georgina Rodríguez </li>\n",
        "            <li>Salary: 200 million EUR (2023-2024)</li>\n",
        "            <li>Ballon d'Or awards: 5 (2008, 2013, 2014, 2016, and 2017)</li>\n",
        "        </ul>\n",
        "    </div>\n",
        "        <p style=\"font-size: 14px; line-height: 1.6;\">\n",
        "            In this notebook, we will explore Ronaldo's goals and stats in detail. We will use data visualization techniques to identify trends and patterns in his performance.\n",
        "        </p>\n"
      ]
    },
    {
      "cell_type": "markdown",
      "id": "06a2c2a3",
      "metadata": {
        "papermill": {
          "duration": 0.004357,
          "end_time": "2023-10-07T05:39:04.155280",
          "exception": false,
          "start_time": "2023-10-07T05:39:04.150923",
          "status": "completed"
        },
        "tags": [],
        "id": "06a2c2a3"
      },
      "source": [
        "<div style=\"padding:20px;color:white;margin:0;font-size:220%;text-align:center;display:fill;border-radius:5px;background-color:#183D3D;overflow:hidden;font-weight:500\">Importing Libraries & Data Loading</div>"
      ]
    },
    {
      "cell_type": "markdown",
      "id": "bb061e91",
      "metadata": {
        "papermill": {
          "duration": 0.004318,
          "end_time": "2023-10-07T05:39:04.164044",
          "exception": false,
          "start_time": "2023-10-07T05:39:04.159726",
          "status": "completed"
        },
        "tags": [],
        "id": "bb061e91"
      },
      "source": [
        "# 2. Data loading"
      ]
    },
    {
      "cell_type": "code",
      "execution_count": null,
      "id": "745b0fab",
      "metadata": {
        "_kg_hide-input": false,
        "_kg_hide-output": true,
        "execution": {
          "iopub.execute_input": "2023-10-07T05:39:04.174474Z",
          "iopub.status.busy": "2023-10-07T05:39:04.174000Z",
          "iopub.status.idle": "2023-10-07T05:39:04.915395Z",
          "shell.execute_reply": "2023-10-07T05:39:04.914792Z"
        },
        "papermill": {
          "duration": 0.748646,
          "end_time": "2023-10-07T05:39:04.917110",
          "exception": false,
          "start_time": "2023-10-07T05:39:04.168464",
          "status": "completed"
        },
        "tags": [],
        "id": "745b0fab"
      },
      "outputs": [],
      "source": [
        "# NumPy is used for numerical operations and working with arrays\n",
        "import numpy as np\n",
        "\n",
        "# Pandas is used for data manipulation and analysis\n",
        "import pandas as pd\n",
        "\n",
        "# Matplotlib is used for creating static, interactive, and animated visualizations\n",
        "import matplotlib.pyplot as plt\n",
        "%matplotlib inline\n",
        "\n",
        "# Plotly's graph_objs provides graph objects for designing rich interactive visualizations\n",
        "import plotly.graph_objs as go\n",
        "\n",
        "# Plotly's offline mode allows you to create, render, and display Plotly figures without an internet connection\n",
        "from plotly.offline import download_plotlyjs, init_notebook_mode, plot, iplot\n",
        "\n",
        "# Useful for producing easy-to-make plots\n",
        "import plotly.express as px\n",
        "\n",
        "# timedelta is used for manipulating and formatting time durations\n",
        "import datetime as dt\n",
        "\n",
        "# Suppressing warning messages to ensure a clean output\n",
        "import warnings\n",
        "warnings.filterwarnings('ignore')"
      ]
    },
    {
      "cell_type": "code",
      "execution_count": null,
      "id": "f237bc8e",
      "metadata": {
        "execution": {
          "iopub.execute_input": "2023-10-07T05:39:04.928216Z",
          "iopub.status.busy": "2023-10-07T05:39:04.927772Z",
          "iopub.status.idle": "2023-10-07T05:39:04.948732Z",
          "shell.execute_reply": "2023-10-07T05:39:04.947914Z"
        },
        "papermill": {
          "duration": 0.028171,
          "end_time": "2023-10-07T05:39:04.950371",
          "exception": false,
          "start_time": "2023-10-07T05:39:04.922200",
          "status": "completed"
        },
        "tags": [],
        "id": "f237bc8e"
      },
      "outputs": [],
      "source": [
        "df = pd.read_csv(\"data.csv\")"
      ]
    },
    {
      "cell_type": "markdown",
      "id": "b41720da",
      "metadata": {
        "papermill": {
          "duration": 0.004777,
          "end_time": "2023-10-07T05:39:04.960223",
          "exception": false,
          "start_time": "2023-10-07T05:39:04.955446",
          "status": "completed"
        },
        "tags": [],
        "id": "b41720da"
      },
      "source": [
        "<div style=\"padding:20px;color:white;margin:0;font-size:220%;text-align:center;display:fill;border-radius:5px;background-color:#183D3D;overflow:hidden;font-weight:500\">Discovering the dataset</div>"
      ]
    },
    {
      "cell_type": "markdown",
      "id": "c589d250",
      "metadata": {
        "papermill": {
          "duration": 0.004419,
          "end_time": "2023-10-07T05:39:04.969300",
          "exception": false,
          "start_time": "2023-10-07T05:39:04.964881",
          "status": "completed"
        },
        "tags": [],
        "id": "c589d250"
      },
      "source": [
        "# 3. Initial Discovery of the data"
      ]
    },
    {
      "cell_type": "code",
      "execution_count": null,
      "id": "b45fe848",
      "metadata": {
        "execution": {
          "iopub.execute_input": "2023-10-07T05:39:04.979961Z",
          "iopub.status.busy": "2023-10-07T05:39:04.979685Z",
          "iopub.status.idle": "2023-10-07T05:39:04.999861Z",
          "shell.execute_reply": "2023-10-07T05:39:04.999004Z"
        },
        "papermill": {
          "duration": 0.027534,
          "end_time": "2023-10-07T05:39:05.001353",
          "exception": false,
          "start_time": "2023-10-07T05:39:04.973819",
          "status": "completed"
        },
        "tags": [],
        "colab": {
          "base_uri": "https://localhost:8080/",
          "height": 365
        },
        "id": "b45fe848",
        "outputId": "e5a980aa-173e-4d9c-e575-adf9b86c323b"
      },
      "outputs": [
        {
          "output_type": "execute_result",
          "data": {
            "text/plain": [
              "  Season               Competition      Matchday      Date Venue         Club  \\\n",
              "0  02/03             Liga Portugal             6  10-07-02     H  Sporting CP   \n",
              "1  02/03             Liga Portugal             6  10-07-02     H  Sporting CP   \n",
              "2  02/03             Liga Portugal             8  10/26/02     A  Sporting CP   \n",
              "3  02/03  Taca de Portugal Placard  Fourth Round  11/24/02     H  Sporting CP   \n",
              "4  02/03  Taca de Portugal Placard   Fifth Round  12/18/02     H  Sporting CP   \n",
              "\n",
              "                  Opponent Result Playing_Position Minute At_score  \\\n",
              "0            Moreirense FC   3:00               LW     34     2:00   \n",
              "1            Moreirense FC   3:00               LW   90+5     3:00   \n",
              "2              Boavista FC   1:02              NaN     88     1:02   \n",
              "3             CD Estarreja   4:01              NaN     67     3:00   \n",
              "4  FC Oliveira do Hospital   8:01              NaN     13     3:00   \n",
              "\n",
              "                Type     Goal_assist  \n",
              "0           Solo run             NaN  \n",
              "1             Header       Rui Jorge  \n",
              "2  Right-footed shot  Carlos Martins  \n",
              "3   Left-footed shot    Cesar Prates  \n",
              "4                NaN             NaN  "
            ],
            "text/html": [
              "\n",
              "  <div id=\"df-5fdff80d-e84c-4759-a8b7-1ccb81229411\" class=\"colab-df-container\">\n",
              "    <div>\n",
              "<style scoped>\n",
              "    .dataframe tbody tr th:only-of-type {\n",
              "        vertical-align: middle;\n",
              "    }\n",
              "\n",
              "    .dataframe tbody tr th {\n",
              "        vertical-align: top;\n",
              "    }\n",
              "\n",
              "    .dataframe thead th {\n",
              "        text-align: right;\n",
              "    }\n",
              "</style>\n",
              "<table border=\"1\" class=\"dataframe\">\n",
              "  <thead>\n",
              "    <tr style=\"text-align: right;\">\n",
              "      <th></th>\n",
              "      <th>Season</th>\n",
              "      <th>Competition</th>\n",
              "      <th>Matchday</th>\n",
              "      <th>Date</th>\n",
              "      <th>Venue</th>\n",
              "      <th>Club</th>\n",
              "      <th>Opponent</th>\n",
              "      <th>Result</th>\n",
              "      <th>Playing_Position</th>\n",
              "      <th>Minute</th>\n",
              "      <th>At_score</th>\n",
              "      <th>Type</th>\n",
              "      <th>Goal_assist</th>\n",
              "    </tr>\n",
              "  </thead>\n",
              "  <tbody>\n",
              "    <tr>\n",
              "      <th>0</th>\n",
              "      <td>02/03</td>\n",
              "      <td>Liga Portugal</td>\n",
              "      <td>6</td>\n",
              "      <td>10-07-02</td>\n",
              "      <td>H</td>\n",
              "      <td>Sporting CP</td>\n",
              "      <td>Moreirense FC</td>\n",
              "      <td>3:00</td>\n",
              "      <td>LW</td>\n",
              "      <td>34</td>\n",
              "      <td>2:00</td>\n",
              "      <td>Solo run</td>\n",
              "      <td>NaN</td>\n",
              "    </tr>\n",
              "    <tr>\n",
              "      <th>1</th>\n",
              "      <td>02/03</td>\n",
              "      <td>Liga Portugal</td>\n",
              "      <td>6</td>\n",
              "      <td>10-07-02</td>\n",
              "      <td>H</td>\n",
              "      <td>Sporting CP</td>\n",
              "      <td>Moreirense FC</td>\n",
              "      <td>3:00</td>\n",
              "      <td>LW</td>\n",
              "      <td>90+5</td>\n",
              "      <td>3:00</td>\n",
              "      <td>Header</td>\n",
              "      <td>Rui Jorge</td>\n",
              "    </tr>\n",
              "    <tr>\n",
              "      <th>2</th>\n",
              "      <td>02/03</td>\n",
              "      <td>Liga Portugal</td>\n",
              "      <td>8</td>\n",
              "      <td>10/26/02</td>\n",
              "      <td>A</td>\n",
              "      <td>Sporting CP</td>\n",
              "      <td>Boavista FC</td>\n",
              "      <td>1:02</td>\n",
              "      <td>NaN</td>\n",
              "      <td>88</td>\n",
              "      <td>1:02</td>\n",
              "      <td>Right-footed shot</td>\n",
              "      <td>Carlos Martins</td>\n",
              "    </tr>\n",
              "    <tr>\n",
              "      <th>3</th>\n",
              "      <td>02/03</td>\n",
              "      <td>Taca de Portugal Placard</td>\n",
              "      <td>Fourth Round</td>\n",
              "      <td>11/24/02</td>\n",
              "      <td>H</td>\n",
              "      <td>Sporting CP</td>\n",
              "      <td>CD Estarreja</td>\n",
              "      <td>4:01</td>\n",
              "      <td>NaN</td>\n",
              "      <td>67</td>\n",
              "      <td>3:00</td>\n",
              "      <td>Left-footed shot</td>\n",
              "      <td>Cesar Prates</td>\n",
              "    </tr>\n",
              "    <tr>\n",
              "      <th>4</th>\n",
              "      <td>02/03</td>\n",
              "      <td>Taca de Portugal Placard</td>\n",
              "      <td>Fifth Round</td>\n",
              "      <td>12/18/02</td>\n",
              "      <td>H</td>\n",
              "      <td>Sporting CP</td>\n",
              "      <td>FC Oliveira do Hospital</td>\n",
              "      <td>8:01</td>\n",
              "      <td>NaN</td>\n",
              "      <td>13</td>\n",
              "      <td>3:00</td>\n",
              "      <td>NaN</td>\n",
              "      <td>NaN</td>\n",
              "    </tr>\n",
              "  </tbody>\n",
              "</table>\n",
              "</div>\n",
              "    <div class=\"colab-df-buttons\">\n",
              "\n",
              "  <div class=\"colab-df-container\">\n",
              "    <button class=\"colab-df-convert\" onclick=\"convertToInteractive('df-5fdff80d-e84c-4759-a8b7-1ccb81229411')\"\n",
              "            title=\"Convert this dataframe to an interactive table.\"\n",
              "            style=\"display:none;\">\n",
              "\n",
              "  <svg xmlns=\"http://www.w3.org/2000/svg\" height=\"24px\" viewBox=\"0 -960 960 960\">\n",
              "    <path d=\"M120-120v-720h720v720H120Zm60-500h600v-160H180v160Zm220 220h160v-160H400v160Zm0 220h160v-160H400v160ZM180-400h160v-160H180v160Zm440 0h160v-160H620v160ZM180-180h160v-160H180v160Zm440 0h160v-160H620v160Z\"/>\n",
              "  </svg>\n",
              "    </button>\n",
              "\n",
              "  <style>\n",
              "    .colab-df-container {\n",
              "      display:flex;\n",
              "      gap: 12px;\n",
              "    }\n",
              "\n",
              "    .colab-df-convert {\n",
              "      background-color: #E8F0FE;\n",
              "      border: none;\n",
              "      border-radius: 50%;\n",
              "      cursor: pointer;\n",
              "      display: none;\n",
              "      fill: #1967D2;\n",
              "      height: 32px;\n",
              "      padding: 0 0 0 0;\n",
              "      width: 32px;\n",
              "    }\n",
              "\n",
              "    .colab-df-convert:hover {\n",
              "      background-color: #E2EBFA;\n",
              "      box-shadow: 0px 1px 2px rgba(60, 64, 67, 0.3), 0px 1px 3px 1px rgba(60, 64, 67, 0.15);\n",
              "      fill: #174EA6;\n",
              "    }\n",
              "\n",
              "    .colab-df-buttons div {\n",
              "      margin-bottom: 4px;\n",
              "    }\n",
              "\n",
              "    [theme=dark] .colab-df-convert {\n",
              "      background-color: #3B4455;\n",
              "      fill: #D2E3FC;\n",
              "    }\n",
              "\n",
              "    [theme=dark] .colab-df-convert:hover {\n",
              "      background-color: #434B5C;\n",
              "      box-shadow: 0px 1px 3px 1px rgba(0, 0, 0, 0.15);\n",
              "      filter: drop-shadow(0px 1px 2px rgba(0, 0, 0, 0.3));\n",
              "      fill: #FFFFFF;\n",
              "    }\n",
              "  </style>\n",
              "\n",
              "    <script>\n",
              "      const buttonEl =\n",
              "        document.querySelector('#df-5fdff80d-e84c-4759-a8b7-1ccb81229411 button.colab-df-convert');\n",
              "      buttonEl.style.display =\n",
              "        google.colab.kernel.accessAllowed ? 'block' : 'none';\n",
              "\n",
              "      async function convertToInteractive(key) {\n",
              "        const element = document.querySelector('#df-5fdff80d-e84c-4759-a8b7-1ccb81229411');\n",
              "        const dataTable =\n",
              "          await google.colab.kernel.invokeFunction('convertToInteractive',\n",
              "                                                    [key], {});\n",
              "        if (!dataTable) return;\n",
              "\n",
              "        const docLinkHtml = 'Like what you see? Visit the ' +\n",
              "          '<a target=\"_blank\" href=https://colab.research.google.com/notebooks/data_table.ipynb>data table notebook</a>'\n",
              "          + ' to learn more about interactive tables.';\n",
              "        element.innerHTML = '';\n",
              "        dataTable['output_type'] = 'display_data';\n",
              "        await google.colab.output.renderOutput(dataTable, element);\n",
              "        const docLink = document.createElement('div');\n",
              "        docLink.innerHTML = docLinkHtml;\n",
              "        element.appendChild(docLink);\n",
              "      }\n",
              "    </script>\n",
              "  </div>\n",
              "\n",
              "\n",
              "<div id=\"df-54fcc3cb-8c99-45db-a8fe-c1885500facb\">\n",
              "  <button class=\"colab-df-quickchart\" onclick=\"quickchart('df-54fcc3cb-8c99-45db-a8fe-c1885500facb')\"\n",
              "            title=\"Suggest charts\"\n",
              "            style=\"display:none;\">\n",
              "\n",
              "<svg xmlns=\"http://www.w3.org/2000/svg\" height=\"24px\"viewBox=\"0 0 24 24\"\n",
              "     width=\"24px\">\n",
              "    <g>\n",
              "        <path d=\"M19 3H5c-1.1 0-2 .9-2 2v14c0 1.1.9 2 2 2h14c1.1 0 2-.9 2-2V5c0-1.1-.9-2-2-2zM9 17H7v-7h2v7zm4 0h-2V7h2v10zm4 0h-2v-4h2v4z\"/>\n",
              "    </g>\n",
              "</svg>\n",
              "  </button>\n",
              "\n",
              "<style>\n",
              "  .colab-df-quickchart {\n",
              "      --bg-color: #E8F0FE;\n",
              "      --fill-color: #1967D2;\n",
              "      --hover-bg-color: #E2EBFA;\n",
              "      --hover-fill-color: #174EA6;\n",
              "      --disabled-fill-color: #AAA;\n",
              "      --disabled-bg-color: #DDD;\n",
              "  }\n",
              "\n",
              "  [theme=dark] .colab-df-quickchart {\n",
              "      --bg-color: #3B4455;\n",
              "      --fill-color: #D2E3FC;\n",
              "      --hover-bg-color: #434B5C;\n",
              "      --hover-fill-color: #FFFFFF;\n",
              "      --disabled-bg-color: #3B4455;\n",
              "      --disabled-fill-color: #666;\n",
              "  }\n",
              "\n",
              "  .colab-df-quickchart {\n",
              "    background-color: var(--bg-color);\n",
              "    border: none;\n",
              "    border-radius: 50%;\n",
              "    cursor: pointer;\n",
              "    display: none;\n",
              "    fill: var(--fill-color);\n",
              "    height: 32px;\n",
              "    padding: 0;\n",
              "    width: 32px;\n",
              "  }\n",
              "\n",
              "  .colab-df-quickchart:hover {\n",
              "    background-color: var(--hover-bg-color);\n",
              "    box-shadow: 0 1px 2px rgba(60, 64, 67, 0.3), 0 1px 3px 1px rgba(60, 64, 67, 0.15);\n",
              "    fill: var(--button-hover-fill-color);\n",
              "  }\n",
              "\n",
              "  .colab-df-quickchart-complete:disabled,\n",
              "  .colab-df-quickchart-complete:disabled:hover {\n",
              "    background-color: var(--disabled-bg-color);\n",
              "    fill: var(--disabled-fill-color);\n",
              "    box-shadow: none;\n",
              "  }\n",
              "\n",
              "  .colab-df-spinner {\n",
              "    border: 2px solid var(--fill-color);\n",
              "    border-color: transparent;\n",
              "    border-bottom-color: var(--fill-color);\n",
              "    animation:\n",
              "      spin 1s steps(1) infinite;\n",
              "  }\n",
              "\n",
              "  @keyframes spin {\n",
              "    0% {\n",
              "      border-color: transparent;\n",
              "      border-bottom-color: var(--fill-color);\n",
              "      border-left-color: var(--fill-color);\n",
              "    }\n",
              "    20% {\n",
              "      border-color: transparent;\n",
              "      border-left-color: var(--fill-color);\n",
              "      border-top-color: var(--fill-color);\n",
              "    }\n",
              "    30% {\n",
              "      border-color: transparent;\n",
              "      border-left-color: var(--fill-color);\n",
              "      border-top-color: var(--fill-color);\n",
              "      border-right-color: var(--fill-color);\n",
              "    }\n",
              "    40% {\n",
              "      border-color: transparent;\n",
              "      border-right-color: var(--fill-color);\n",
              "      border-top-color: var(--fill-color);\n",
              "    }\n",
              "    60% {\n",
              "      border-color: transparent;\n",
              "      border-right-color: var(--fill-color);\n",
              "    }\n",
              "    80% {\n",
              "      border-color: transparent;\n",
              "      border-right-color: var(--fill-color);\n",
              "      border-bottom-color: var(--fill-color);\n",
              "    }\n",
              "    90% {\n",
              "      border-color: transparent;\n",
              "      border-bottom-color: var(--fill-color);\n",
              "    }\n",
              "  }\n",
              "</style>\n",
              "\n",
              "  <script>\n",
              "    async function quickchart(key) {\n",
              "      const quickchartButtonEl =\n",
              "        document.querySelector('#' + key + ' button');\n",
              "      quickchartButtonEl.disabled = true;  // To prevent multiple clicks.\n",
              "      quickchartButtonEl.classList.add('colab-df-spinner');\n",
              "      try {\n",
              "        const charts = await google.colab.kernel.invokeFunction(\n",
              "            'suggestCharts', [key], {});\n",
              "      } catch (error) {\n",
              "        console.error('Error during call to suggestCharts:', error);\n",
              "      }\n",
              "      quickchartButtonEl.classList.remove('colab-df-spinner');\n",
              "      quickchartButtonEl.classList.add('colab-df-quickchart-complete');\n",
              "    }\n",
              "    (() => {\n",
              "      let quickchartButtonEl =\n",
              "        document.querySelector('#df-54fcc3cb-8c99-45db-a8fe-c1885500facb button');\n",
              "      quickchartButtonEl.style.display =\n",
              "        google.colab.kernel.accessAllowed ? 'block' : 'none';\n",
              "    })();\n",
              "  </script>\n",
              "</div>\n",
              "\n",
              "    </div>\n",
              "  </div>\n"
            ],
            "application/vnd.google.colaboratory.intrinsic+json": {
              "type": "dataframe",
              "variable_name": "df",
              "summary": "{\n  \"name\": \"df\",\n  \"rows\": 710,\n  \"fields\": [\n    {\n      \"column\": \"Season\",\n      \"properties\": {\n        \"dtype\": \"category\",\n        \"num_unique_values\": 21,\n        \"samples\": [\n          \"02/03\",\n          \"19/20\",\n          \"17/18\"\n        ],\n        \"semantic_type\": \"\",\n        \"description\": \"\"\n      }\n    },\n    {\n      \"column\": \"Competition\",\n      \"properties\": {\n        \"dtype\": \"category\",\n        \"num_unique_values\": 17,\n        \"samples\": [\n          \"Liga Portugal\",\n          \"Taca de Portugal Placard\",\n          \"EFL Cup\"\n        ],\n        \"semantic_type\": \"\",\n        \"description\": \"\"\n      }\n    },\n    {\n      \"column\": \"Matchday\",\n      \"properties\": {\n        \"dtype\": \"category\",\n        \"num_unique_values\": 52,\n        \"samples\": [\n          \"26\",\n          \"34\",\n          \"7\"\n        ],\n        \"semantic_type\": \"\",\n        \"description\": \"\"\n      }\n    },\n    {\n      \"column\": \"Date\",\n      \"properties\": {\n        \"dtype\": \"object\",\n        \"num_unique_values\": 468,\n        \"samples\": [\n          \"12-08-07\",\n          \"1/30/08\",\n          \"12/23/06\"\n        ],\n        \"semantic_type\": \"\",\n        \"description\": \"\"\n      }\n    },\n    {\n      \"column\": \"Venue\",\n      \"properties\": {\n        \"dtype\": \"category\",\n        \"num_unique_values\": 2,\n        \"samples\": [\n          \"A\",\n          \"H\"\n        ],\n        \"semantic_type\": \"\",\n        \"description\": \"\"\n      }\n    },\n    {\n      \"column\": \"Club\",\n      \"properties\": {\n        \"dtype\": \"category\",\n        \"num_unique_values\": 5,\n        \"samples\": [\n          \"Manchester United\",\n          \"Al-Nassr FC\"\n        ],\n        \"semantic_type\": \"\",\n        \"description\": \"\"\n      }\n    },\n    {\n      \"column\": \"Opponent\",\n      \"properties\": {\n        \"dtype\": \"category\",\n        \"num_unique_values\": 129,\n        \"samples\": [\n          \"CA Osasuna\",\n          \"Deportivo de La Coru\\u00c3\\u00b1a\"\n        ],\n        \"semantic_type\": \"\",\n        \"description\": \"\"\n      }\n    },\n    {\n      \"column\": \"Result\",\n      \"properties\": {\n        \"dtype\": \"category\",\n        \"num_unique_values\": 57,\n        \"samples\": [\n          \"3:00\",\n          \"0:02\"\n        ],\n        \"semantic_type\": \"\",\n        \"description\": \"\"\n      }\n    },\n    {\n      \"column\": \"Playing_Position\",\n      \"properties\": {\n        \"dtype\": \"category\",\n        \"num_unique_values\": 5,\n        \"samples\": [\n          \"RW\",\n          \"CF \"\n        ],\n        \"semantic_type\": \"\",\n        \"description\": \"\"\n      }\n    },\n    {\n      \"column\": \"Minute\",\n      \"properties\": {\n        \"dtype\": \"category\",\n        \"num_unique_values\": 106,\n        \"samples\": [\n          \"104\",\n          \"44\"\n        ],\n        \"semantic_type\": \"\",\n        \"description\": \"\"\n      }\n    },\n    {\n      \"column\": \"At_score\",\n      \"properties\": {\n        \"dtype\": \"category\",\n        \"num_unique_values\": 43,\n        \"samples\": [\n          \"2:2\",\n          \"6:00\"\n        ],\n        \"semantic_type\": \"\",\n        \"description\": \"\"\n      }\n    },\n    {\n      \"column\": \"Type\",\n      \"properties\": {\n        \"dtype\": \"category\",\n        \"num_unique_values\": 11,\n        \"samples\": [\n          \"Tap-in\",\n          \"Solo run\"\n        ],\n        \"semantic_type\": \"\",\n        \"description\": \"\"\n      }\n    },\n    {\n      \"column\": \"Goal_assist\",\n      \"properties\": {\n        \"dtype\": \"category\",\n        \"num_unique_values\": 91,\n        \"samples\": [\n          \"Jose Callej\\u00c3\\u00b3n\",\n          \"Anderson\"\n        ],\n        \"semantic_type\": \"\",\n        \"description\": \"\"\n      }\n    }\n  ]\n}"
            }
          },
          "metadata": {},
          "execution_count": 8
        }
      ],
      "source": [
        "pd.set_option('display.max_columns', None) # Display all columns\n",
        "df.head(5) #First five rows"
      ]
    },
    {
      "cell_type": "code",
      "execution_count": null,
      "id": "1f0ceb59",
      "metadata": {
        "execution": {
          "iopub.execute_input": "2023-10-07T05:39:05.012516Z",
          "iopub.status.busy": "2023-10-07T05:39:05.012277Z",
          "iopub.status.idle": "2023-10-07T05:39:05.016137Z",
          "shell.execute_reply": "2023-10-07T05:39:05.015425Z"
        },
        "papermill": {
          "duration": 0.011385,
          "end_time": "2023-10-07T05:39:05.017920",
          "exception": false,
          "start_time": "2023-10-07T05:39:05.006535",
          "status": "completed"
        },
        "tags": [],
        "colab": {
          "base_uri": "https://localhost:8080/"
        },
        "id": "1f0ceb59",
        "outputId": "1ddc282f-a553-4305-b22d-385303122dbf"
      },
      "outputs": [
        {
          "output_type": "stream",
          "name": "stdout",
          "text": [
            "Shape of DataFrame: (710, 13)\n",
            "\n"
          ]
        }
      ],
      "source": [
        "print(f'Shape of DataFrame: {df.shape}\\n')\n"
      ]
    },
    {
      "cell_type": "code",
      "execution_count": null,
      "id": "3f6cb689",
      "metadata": {
        "_kg_hide-output": true,
        "execution": {
          "iopub.execute_input": "2023-10-07T05:39:05.029367Z",
          "iopub.status.busy": "2023-10-07T05:39:05.029146Z",
          "iopub.status.idle": "2023-10-07T05:39:05.048544Z",
          "shell.execute_reply": "2023-10-07T05:39:05.047801Z"
        },
        "papermill": {
          "duration": 0.026778,
          "end_time": "2023-10-07T05:39:05.050074",
          "exception": false,
          "start_time": "2023-10-07T05:39:05.023296",
          "status": "completed"
        },
        "tags": [],
        "colab": {
          "base_uri": "https://localhost:8080/"
        },
        "id": "3f6cb689",
        "outputId": "afb15640-975b-4614-cdf4-a560efe38d96"
      },
      "outputs": [
        {
          "output_type": "stream",
          "name": "stdout",
          "text": [
            "<class 'pandas.core.frame.DataFrame'>\n",
            "RangeIndex: 710 entries, 0 to 709\n",
            "Data columns (total 13 columns):\n",
            " #   Column            Non-Null Count  Dtype \n",
            "---  ------            --------------  ----- \n",
            " 0   Season            710 non-null    object\n",
            " 1   Competition       710 non-null    object\n",
            " 2   Matchday          710 non-null    object\n",
            " 3   Date              710 non-null    object\n",
            " 4   Venue             710 non-null    object\n",
            " 5   Club              710 non-null    object\n",
            " 6   Opponent          710 non-null    object\n",
            " 7   Result            710 non-null    object\n",
            " 8   Playing_Position  652 non-null    object\n",
            " 9   Minute            710 non-null    object\n",
            " 10  At_score          710 non-null    object\n",
            " 11  Type              695 non-null    object\n",
            " 12  Goal_assist       464 non-null    object\n",
            "dtypes: object(13)\n",
            "memory usage: 72.2+ KB\n"
          ]
        }
      ],
      "source": [
        "df.info() #Some nulls in the Type, Goal_assist, Playing_position. No need to rename columns"
      ]
    },
    {
      "cell_type": "code",
      "execution_count": null,
      "id": "aafe082a",
      "metadata": {
        "execution": {
          "iopub.execute_input": "2023-10-07T05:39:05.061064Z",
          "iopub.status.busy": "2023-10-07T05:39:05.060824Z",
          "iopub.status.idle": "2023-10-07T05:39:05.066934Z",
          "shell.execute_reply": "2023-10-07T05:39:05.066020Z"
        },
        "papermill": {
          "duration": 0.013343,
          "end_time": "2023-10-07T05:39:05.068446",
          "exception": false,
          "start_time": "2023-10-07T05:39:05.055103",
          "status": "completed"
        },
        "tags": [],
        "colab": {
          "base_uri": "https://localhost:8080/"
        },
        "id": "aafe082a",
        "outputId": "477b5eef-835d-41ba-881e-aff833ce091c"
      },
      "outputs": [
        {
          "output_type": "stream",
          "name": "stdout",
          "text": [
            "Percentage of null values in each column:\n",
            "Season                0.0%\n",
            "Competition           0.0%\n",
            "Matchday              0.0%\n",
            "Date                  0.0%\n",
            "Venue                 0.0%\n",
            "Club                  0.0%\n",
            "Opponent              0.0%\n",
            "Result                0.0%\n",
            "Playing_Position     8.17%\n",
            "Minute                0.0%\n",
            "At_score              0.0%\n",
            "Type                 2.11%\n",
            "Goal_assist         34.65%\n",
            "dtype: object\n"
          ]
        }
      ],
      "source": [
        "null_percentage = (df.isnull().mean() * 100).round(2).astype(str) + '%'\n",
        "print(\"Percentage of null values in each column:\")\n",
        "print(null_percentage)"
      ]
    },
    {
      "cell_type": "code",
      "execution_count": null,
      "id": "bed1dddc",
      "metadata": {
        "execution": {
          "iopub.execute_input": "2023-10-07T05:39:05.082427Z",
          "iopub.status.busy": "2023-10-07T05:39:05.081361Z",
          "iopub.status.idle": "2023-10-07T05:39:05.101888Z",
          "shell.execute_reply": "2023-10-07T05:39:05.101102Z"
        },
        "papermill": {
          "duration": 0.027968,
          "end_time": "2023-10-07T05:39:05.103251",
          "exception": false,
          "start_time": "2023-10-07T05:39:05.075283",
          "status": "completed"
        },
        "tags": [],
        "colab": {
          "base_uri": "https://localhost:8080/",
          "height": 457
        },
        "id": "bed1dddc",
        "outputId": "c63828f6-f220-443d-9d4d-d60aaa98da4f"
      },
      "outputs": [
        {
          "output_type": "execute_result",
          "data": {
            "text/plain": [
              "                 count unique                top freq\n",
              "Season             710     21              14/15   61\n",
              "Competition        710     17             LaLiga  311\n",
              "Matchday           710     52        Group Stage   75\n",
              "Date               710    468           09-12-15    5\n",
              "Venue              710      2                  H  404\n",
              "Club               710      5        Real Madrid  450\n",
              "Opponent           710    129         Sevilla FC   27\n",
              "Result             710     57               3:00   49\n",
              "Playing_Position   652      5                 LW  356\n",
              "Minute             710    106                 90   17\n",
              "At_score           710     43               1:00  111\n",
              "Type               695     11  Right-footed shot  253\n",
              "Goal_assist        464     91      Karim Benzema   44"
            ],
            "text/html": [
              "\n",
              "  <div id=\"df-0091a226-50ce-4ed2-865f-69038923a645\" class=\"colab-df-container\">\n",
              "    <div>\n",
              "<style scoped>\n",
              "    .dataframe tbody tr th:only-of-type {\n",
              "        vertical-align: middle;\n",
              "    }\n",
              "\n",
              "    .dataframe tbody tr th {\n",
              "        vertical-align: top;\n",
              "    }\n",
              "\n",
              "    .dataframe thead th {\n",
              "        text-align: right;\n",
              "    }\n",
              "</style>\n",
              "<table border=\"1\" class=\"dataframe\">\n",
              "  <thead>\n",
              "    <tr style=\"text-align: right;\">\n",
              "      <th></th>\n",
              "      <th>count</th>\n",
              "      <th>unique</th>\n",
              "      <th>top</th>\n",
              "      <th>freq</th>\n",
              "    </tr>\n",
              "  </thead>\n",
              "  <tbody>\n",
              "    <tr>\n",
              "      <th>Season</th>\n",
              "      <td>710</td>\n",
              "      <td>21</td>\n",
              "      <td>14/15</td>\n",
              "      <td>61</td>\n",
              "    </tr>\n",
              "    <tr>\n",
              "      <th>Competition</th>\n",
              "      <td>710</td>\n",
              "      <td>17</td>\n",
              "      <td>LaLiga</td>\n",
              "      <td>311</td>\n",
              "    </tr>\n",
              "    <tr>\n",
              "      <th>Matchday</th>\n",
              "      <td>710</td>\n",
              "      <td>52</td>\n",
              "      <td>Group Stage</td>\n",
              "      <td>75</td>\n",
              "    </tr>\n",
              "    <tr>\n",
              "      <th>Date</th>\n",
              "      <td>710</td>\n",
              "      <td>468</td>\n",
              "      <td>09-12-15</td>\n",
              "      <td>5</td>\n",
              "    </tr>\n",
              "    <tr>\n",
              "      <th>Venue</th>\n",
              "      <td>710</td>\n",
              "      <td>2</td>\n",
              "      <td>H</td>\n",
              "      <td>404</td>\n",
              "    </tr>\n",
              "    <tr>\n",
              "      <th>Club</th>\n",
              "      <td>710</td>\n",
              "      <td>5</td>\n",
              "      <td>Real Madrid</td>\n",
              "      <td>450</td>\n",
              "    </tr>\n",
              "    <tr>\n",
              "      <th>Opponent</th>\n",
              "      <td>710</td>\n",
              "      <td>129</td>\n",
              "      <td>Sevilla FC</td>\n",
              "      <td>27</td>\n",
              "    </tr>\n",
              "    <tr>\n",
              "      <th>Result</th>\n",
              "      <td>710</td>\n",
              "      <td>57</td>\n",
              "      <td>3:00</td>\n",
              "      <td>49</td>\n",
              "    </tr>\n",
              "    <tr>\n",
              "      <th>Playing_Position</th>\n",
              "      <td>652</td>\n",
              "      <td>5</td>\n",
              "      <td>LW</td>\n",
              "      <td>356</td>\n",
              "    </tr>\n",
              "    <tr>\n",
              "      <th>Minute</th>\n",
              "      <td>710</td>\n",
              "      <td>106</td>\n",
              "      <td>90</td>\n",
              "      <td>17</td>\n",
              "    </tr>\n",
              "    <tr>\n",
              "      <th>At_score</th>\n",
              "      <td>710</td>\n",
              "      <td>43</td>\n",
              "      <td>1:00</td>\n",
              "      <td>111</td>\n",
              "    </tr>\n",
              "    <tr>\n",
              "      <th>Type</th>\n",
              "      <td>695</td>\n",
              "      <td>11</td>\n",
              "      <td>Right-footed shot</td>\n",
              "      <td>253</td>\n",
              "    </tr>\n",
              "    <tr>\n",
              "      <th>Goal_assist</th>\n",
              "      <td>464</td>\n",
              "      <td>91</td>\n",
              "      <td>Karim Benzema</td>\n",
              "      <td>44</td>\n",
              "    </tr>\n",
              "  </tbody>\n",
              "</table>\n",
              "</div>\n",
              "    <div class=\"colab-df-buttons\">\n",
              "\n",
              "  <div class=\"colab-df-container\">\n",
              "    <button class=\"colab-df-convert\" onclick=\"convertToInteractive('df-0091a226-50ce-4ed2-865f-69038923a645')\"\n",
              "            title=\"Convert this dataframe to an interactive table.\"\n",
              "            style=\"display:none;\">\n",
              "\n",
              "  <svg xmlns=\"http://www.w3.org/2000/svg\" height=\"24px\" viewBox=\"0 -960 960 960\">\n",
              "    <path d=\"M120-120v-720h720v720H120Zm60-500h600v-160H180v160Zm220 220h160v-160H400v160Zm0 220h160v-160H400v160ZM180-400h160v-160H180v160Zm440 0h160v-160H620v160ZM180-180h160v-160H180v160Zm440 0h160v-160H620v160Z\"/>\n",
              "  </svg>\n",
              "    </button>\n",
              "\n",
              "  <style>\n",
              "    .colab-df-container {\n",
              "      display:flex;\n",
              "      gap: 12px;\n",
              "    }\n",
              "\n",
              "    .colab-df-convert {\n",
              "      background-color: #E8F0FE;\n",
              "      border: none;\n",
              "      border-radius: 50%;\n",
              "      cursor: pointer;\n",
              "      display: none;\n",
              "      fill: #1967D2;\n",
              "      height: 32px;\n",
              "      padding: 0 0 0 0;\n",
              "      width: 32px;\n",
              "    }\n",
              "\n",
              "    .colab-df-convert:hover {\n",
              "      background-color: #E2EBFA;\n",
              "      box-shadow: 0px 1px 2px rgba(60, 64, 67, 0.3), 0px 1px 3px 1px rgba(60, 64, 67, 0.15);\n",
              "      fill: #174EA6;\n",
              "    }\n",
              "\n",
              "    .colab-df-buttons div {\n",
              "      margin-bottom: 4px;\n",
              "    }\n",
              "\n",
              "    [theme=dark] .colab-df-convert {\n",
              "      background-color: #3B4455;\n",
              "      fill: #D2E3FC;\n",
              "    }\n",
              "\n",
              "    [theme=dark] .colab-df-convert:hover {\n",
              "      background-color: #434B5C;\n",
              "      box-shadow: 0px 1px 3px 1px rgba(0, 0, 0, 0.15);\n",
              "      filter: drop-shadow(0px 1px 2px rgba(0, 0, 0, 0.3));\n",
              "      fill: #FFFFFF;\n",
              "    }\n",
              "  </style>\n",
              "\n",
              "    <script>\n",
              "      const buttonEl =\n",
              "        document.querySelector('#df-0091a226-50ce-4ed2-865f-69038923a645 button.colab-df-convert');\n",
              "      buttonEl.style.display =\n",
              "        google.colab.kernel.accessAllowed ? 'block' : 'none';\n",
              "\n",
              "      async function convertToInteractive(key) {\n",
              "        const element = document.querySelector('#df-0091a226-50ce-4ed2-865f-69038923a645');\n",
              "        const dataTable =\n",
              "          await google.colab.kernel.invokeFunction('convertToInteractive',\n",
              "                                                    [key], {});\n",
              "        if (!dataTable) return;\n",
              "\n",
              "        const docLinkHtml = 'Like what you see? Visit the ' +\n",
              "          '<a target=\"_blank\" href=https://colab.research.google.com/notebooks/data_table.ipynb>data table notebook</a>'\n",
              "          + ' to learn more about interactive tables.';\n",
              "        element.innerHTML = '';\n",
              "        dataTable['output_type'] = 'display_data';\n",
              "        await google.colab.output.renderOutput(dataTable, element);\n",
              "        const docLink = document.createElement('div');\n",
              "        docLink.innerHTML = docLinkHtml;\n",
              "        element.appendChild(docLink);\n",
              "      }\n",
              "    </script>\n",
              "  </div>\n",
              "\n",
              "\n",
              "<div id=\"df-01b59cf0-fbf8-441c-979f-a18558471d4d\">\n",
              "  <button class=\"colab-df-quickchart\" onclick=\"quickchart('df-01b59cf0-fbf8-441c-979f-a18558471d4d')\"\n",
              "            title=\"Suggest charts\"\n",
              "            style=\"display:none;\">\n",
              "\n",
              "<svg xmlns=\"http://www.w3.org/2000/svg\" height=\"24px\"viewBox=\"0 0 24 24\"\n",
              "     width=\"24px\">\n",
              "    <g>\n",
              "        <path d=\"M19 3H5c-1.1 0-2 .9-2 2v14c0 1.1.9 2 2 2h14c1.1 0 2-.9 2-2V5c0-1.1-.9-2-2-2zM9 17H7v-7h2v7zm4 0h-2V7h2v10zm4 0h-2v-4h2v4z\"/>\n",
              "    </g>\n",
              "</svg>\n",
              "  </button>\n",
              "\n",
              "<style>\n",
              "  .colab-df-quickchart {\n",
              "      --bg-color: #E8F0FE;\n",
              "      --fill-color: #1967D2;\n",
              "      --hover-bg-color: #E2EBFA;\n",
              "      --hover-fill-color: #174EA6;\n",
              "      --disabled-fill-color: #AAA;\n",
              "      --disabled-bg-color: #DDD;\n",
              "  }\n",
              "\n",
              "  [theme=dark] .colab-df-quickchart {\n",
              "      --bg-color: #3B4455;\n",
              "      --fill-color: #D2E3FC;\n",
              "      --hover-bg-color: #434B5C;\n",
              "      --hover-fill-color: #FFFFFF;\n",
              "      --disabled-bg-color: #3B4455;\n",
              "      --disabled-fill-color: #666;\n",
              "  }\n",
              "\n",
              "  .colab-df-quickchart {\n",
              "    background-color: var(--bg-color);\n",
              "    border: none;\n",
              "    border-radius: 50%;\n",
              "    cursor: pointer;\n",
              "    display: none;\n",
              "    fill: var(--fill-color);\n",
              "    height: 32px;\n",
              "    padding: 0;\n",
              "    width: 32px;\n",
              "  }\n",
              "\n",
              "  .colab-df-quickchart:hover {\n",
              "    background-color: var(--hover-bg-color);\n",
              "    box-shadow: 0 1px 2px rgba(60, 64, 67, 0.3), 0 1px 3px 1px rgba(60, 64, 67, 0.15);\n",
              "    fill: var(--button-hover-fill-color);\n",
              "  }\n",
              "\n",
              "  .colab-df-quickchart-complete:disabled,\n",
              "  .colab-df-quickchart-complete:disabled:hover {\n",
              "    background-color: var(--disabled-bg-color);\n",
              "    fill: var(--disabled-fill-color);\n",
              "    box-shadow: none;\n",
              "  }\n",
              "\n",
              "  .colab-df-spinner {\n",
              "    border: 2px solid var(--fill-color);\n",
              "    border-color: transparent;\n",
              "    border-bottom-color: var(--fill-color);\n",
              "    animation:\n",
              "      spin 1s steps(1) infinite;\n",
              "  }\n",
              "\n",
              "  @keyframes spin {\n",
              "    0% {\n",
              "      border-color: transparent;\n",
              "      border-bottom-color: var(--fill-color);\n",
              "      border-left-color: var(--fill-color);\n",
              "    }\n",
              "    20% {\n",
              "      border-color: transparent;\n",
              "      border-left-color: var(--fill-color);\n",
              "      border-top-color: var(--fill-color);\n",
              "    }\n",
              "    30% {\n",
              "      border-color: transparent;\n",
              "      border-left-color: var(--fill-color);\n",
              "      border-top-color: var(--fill-color);\n",
              "      border-right-color: var(--fill-color);\n",
              "    }\n",
              "    40% {\n",
              "      border-color: transparent;\n",
              "      border-right-color: var(--fill-color);\n",
              "      border-top-color: var(--fill-color);\n",
              "    }\n",
              "    60% {\n",
              "      border-color: transparent;\n",
              "      border-right-color: var(--fill-color);\n",
              "    }\n",
              "    80% {\n",
              "      border-color: transparent;\n",
              "      border-right-color: var(--fill-color);\n",
              "      border-bottom-color: var(--fill-color);\n",
              "    }\n",
              "    90% {\n",
              "      border-color: transparent;\n",
              "      border-bottom-color: var(--fill-color);\n",
              "    }\n",
              "  }\n",
              "</style>\n",
              "\n",
              "  <script>\n",
              "    async function quickchart(key) {\n",
              "      const quickchartButtonEl =\n",
              "        document.querySelector('#' + key + ' button');\n",
              "      quickchartButtonEl.disabled = true;  // To prevent multiple clicks.\n",
              "      quickchartButtonEl.classList.add('colab-df-spinner');\n",
              "      try {\n",
              "        const charts = await google.colab.kernel.invokeFunction(\n",
              "            'suggestCharts', [key], {});\n",
              "      } catch (error) {\n",
              "        console.error('Error during call to suggestCharts:', error);\n",
              "      }\n",
              "      quickchartButtonEl.classList.remove('colab-df-spinner');\n",
              "      quickchartButtonEl.classList.add('colab-df-quickchart-complete');\n",
              "    }\n",
              "    (() => {\n",
              "      let quickchartButtonEl =\n",
              "        document.querySelector('#df-01b59cf0-fbf8-441c-979f-a18558471d4d button');\n",
              "      quickchartButtonEl.style.display =\n",
              "        google.colab.kernel.accessAllowed ? 'block' : 'none';\n",
              "    })();\n",
              "  </script>\n",
              "</div>\n",
              "\n",
              "    </div>\n",
              "  </div>\n"
            ],
            "application/vnd.google.colaboratory.intrinsic+json": {
              "type": "dataframe",
              "summary": "{\n  \"name\": \"#Intersting things: The data type of Date column is object\",\n  \"rows\": 13,\n  \"fields\": [\n    {\n      \"column\": \"count\",\n      \"properties\": {\n        \"dtype\": \"date\",\n        \"min\": \"464\",\n        \"max\": \"710\",\n        \"num_unique_values\": 4,\n        \"samples\": [\n          \"652\",\n          \"464\",\n          \"710\"\n        ],\n        \"semantic_type\": \"\",\n        \"description\": \"\"\n      }\n    },\n    {\n      \"column\": \"unique\",\n      \"properties\": {\n        \"dtype\": \"date\",\n        \"min\": 2,\n        \"max\": 468,\n        \"num_unique_values\": 12,\n        \"samples\": [\n          11,\n          43,\n          21\n        ],\n        \"semantic_type\": \"\",\n        \"description\": \"\"\n      }\n    },\n    {\n      \"column\": \"top\",\n      \"properties\": {\n        \"dtype\": \"string\",\n        \"num_unique_values\": 13,\n        \"samples\": [\n          \"Right-footed shot\",\n          \"90\",\n          \"14/15\"\n        ],\n        \"semantic_type\": \"\",\n        \"description\": \"\"\n      }\n    },\n    {\n      \"column\": \"freq\",\n      \"properties\": {\n        \"dtype\": \"date\",\n        \"min\": \"5\",\n        \"max\": \"450\",\n        \"num_unique_values\": 13,\n        \"samples\": [\n          \"253\",\n          \"17\",\n          \"61\"\n        ],\n        \"semantic_type\": \"\",\n        \"description\": \"\"\n      }\n    }\n  ]\n}"
            }
          },
          "metadata": {},
          "execution_count": 12
        }
      ],
      "source": [
        "pd.DataFrame(df.describe(include = 'object').T)\n",
        "#Intersting things: The data type of Date column is object. The data type of Minute column is object"
      ]
    },
    {
      "cell_type": "code",
      "execution_count": null,
      "id": "68dd6dbb",
      "metadata": {
        "execution": {
          "iopub.execute_input": "2023-10-07T05:39:05.114718Z",
          "iopub.status.busy": "2023-10-07T05:39:05.114476Z",
          "iopub.status.idle": "2023-10-07T05:39:05.123155Z",
          "shell.execute_reply": "2023-10-07T05:39:05.122128Z"
        },
        "papermill": {
          "duration": 0.016296,
          "end_time": "2023-10-07T05:39:05.124883",
          "exception": false,
          "start_time": "2023-10-07T05:39:05.108587",
          "status": "completed"
        },
        "tags": [],
        "colab": {
          "base_uri": "https://localhost:8080/"
        },
        "id": "68dd6dbb",
        "outputId": "5f158b57-1c76-417f-bed8-526f80a1282e"
      },
      "outputs": [
        {
          "output_type": "execute_result",
          "data": {
            "text/plain": [
              "False"
            ]
          },
          "metadata": {},
          "execution_count": 13
        }
      ],
      "source": [
        "df.duplicated().any()"
      ]
    },
    {
      "cell_type": "markdown",
      "id": "440a9468",
      "metadata": {
        "execution": {
          "iopub.execute_input": "2023-09-13T04:59:59.277369Z",
          "iopub.status.busy": "2023-09-13T04:59:59.276990Z",
          "iopub.status.idle": "2023-09-13T04:59:59.284937Z",
          "shell.execute_reply": "2023-09-13T04:59:59.282996Z",
          "shell.execute_reply.started": "2023-09-13T04:59:59.277343Z"
        },
        "papermill": {
          "duration": 0.004962,
          "end_time": "2023-10-07T05:39:05.135452",
          "exception": false,
          "start_time": "2023-10-07T05:39:05.130490",
          "status": "completed"
        },
        "tags": [],
        "id": "440a9468"
      },
      "source": [
        "<div style=\"padding:20px;color:white;margin:0;font-size:220%;text-align:center;display:fill;border-radius:5px;background-color:#183D3D;overflow:hidden;font-weight:500\">Data Types and Conversion</div>"
      ]
    },
    {
      "cell_type": "markdown",
      "id": "4bc566e6",
      "metadata": {
        "papermill": {
          "duration": 0.00597,
          "end_time": "2023-10-07T05:39:05.146373",
          "exception": false,
          "start_time": "2023-10-07T05:39:05.140403",
          "status": "completed"
        },
        "tags": [],
        "id": "4bc566e6"
      },
      "source": [
        "# 4. Data Types and Conversion"
      ]
    },
    {
      "cell_type": "code",
      "execution_count": null,
      "id": "2a4fd1dd",
      "metadata": {
        "execution": {
          "iopub.execute_input": "2023-10-07T05:39:05.158446Z",
          "iopub.status.busy": "2023-10-07T05:39:05.158175Z",
          "iopub.status.idle": "2023-10-07T05:39:05.191436Z",
          "shell.execute_reply": "2023-10-07T05:39:05.190635Z"
        },
        "papermill": {
          "duration": 0.041057,
          "end_time": "2023-10-07T05:39:05.192901",
          "exception": false,
          "start_time": "2023-10-07T05:39:05.151844",
          "status": "completed"
        },
        "tags": [],
        "colab": {
          "base_uri": "https://localhost:8080/"
        },
        "id": "2a4fd1dd",
        "outputId": "fd9b5aaf-a282-4164-83c5-8d2e32febc9a"
      },
      "outputs": [
        {
          "output_type": "execute_result",
          "data": {
            "text/plain": [
              "pandas._libs.tslibs.timestamps.Timestamp"
            ]
          },
          "metadata": {},
          "execution_count": 16
        }
      ],
      "source": [
        "df['Date'] = pd.to_datetime(df['Date'],dayfirst = True) #Converting object to datetime\n",
        "type(df['Date'][0]) #checking the data type after conversion Venue"
      ]
    },
    {
      "cell_type": "code",
      "execution_count": null,
      "id": "8e7fc7b5",
      "metadata": {
        "execution": {
          "iopub.execute_input": "2023-10-07T05:39:05.205525Z",
          "iopub.status.busy": "2023-10-07T05:39:05.205268Z",
          "iopub.status.idle": "2023-10-07T05:39:05.209356Z",
          "shell.execute_reply": "2023-10-07T05:39:05.208528Z"
        },
        "papermill": {
          "duration": 0.011882,
          "end_time": "2023-10-07T05:39:05.210674",
          "exception": false,
          "start_time": "2023-10-07T05:39:05.198792",
          "status": "completed"
        },
        "tags": [],
        "id": "8e7fc7b5"
      },
      "outputs": [],
      "source": [
        "df['Season'] = df['Season'].apply(lambda x: '12/13' if x == 'Dec-13' else x) #It should be 12-13 like the rest of the Season column format\n",
        "#df['Season'] = df['Season'].str.replace('Dec-13','12-13') #Another way to achieve the same result"
      ]
    },
    {
      "cell_type": "code",
      "execution_count": null,
      "id": "5fc20fe2",
      "metadata": {
        "execution": {
          "iopub.execute_input": "2023-10-07T05:39:05.222537Z",
          "iopub.status.busy": "2023-10-07T05:39:05.221947Z",
          "iopub.status.idle": "2023-10-07T05:39:05.228218Z",
          "shell.execute_reply": "2023-10-07T05:39:05.227734Z"
        },
        "papermill": {
          "duration": 0.013445,
          "end_time": "2023-10-07T05:39:05.229454",
          "exception": false,
          "start_time": "2023-10-07T05:39:05.216009",
          "status": "completed"
        },
        "tags": [],
        "id": "5fc20fe2"
      },
      "outputs": [],
      "source": [
        "df['Playing_Position'].fillna(method='ffill', inplace=True) # Fill NaN with the previous value (The best approach here.)"
      ]
    },
    {
      "cell_type": "code",
      "execution_count": null,
      "id": "e6ea81df",
      "metadata": {
        "execution": {
          "iopub.execute_input": "2023-10-07T05:39:05.241648Z",
          "iopub.status.busy": "2023-10-07T05:39:05.241188Z",
          "iopub.status.idle": "2023-10-07T05:39:05.245065Z",
          "shell.execute_reply": "2023-10-07T05:39:05.244501Z"
        },
        "papermill": {
          "duration": 0.0113,
          "end_time": "2023-10-07T05:39:05.246262",
          "exception": false,
          "start_time": "2023-10-07T05:39:05.234962",
          "status": "completed"
        },
        "tags": [],
        "id": "e6ea81df"
      },
      "outputs": [],
      "source": [
        "df['Playing_Position'] = df['Playing_Position'].str.strip() #Some values has extra spaces that might affect our analysis"
      ]
    },
    {
      "cell_type": "code",
      "execution_count": null,
      "id": "55881aa1",
      "metadata": {
        "execution": {
          "iopub.execute_input": "2023-10-07T05:39:05.258348Z",
          "iopub.status.busy": "2023-10-07T05:39:05.257925Z",
          "iopub.status.idle": "2023-10-07T05:39:05.262040Z",
          "shell.execute_reply": "2023-10-07T05:39:05.261521Z"
        },
        "papermill": {
          "duration": 0.011389,
          "end_time": "2023-10-07T05:39:05.263195",
          "exception": false,
          "start_time": "2023-10-07T05:39:05.251806",
          "status": "completed"
        },
        "tags": [],
        "id": "55881aa1"
      },
      "outputs": [],
      "source": [
        "#Creating a Win VS Loss column based on final result (3:00 for ex) and venue (H,A)\n",
        "def check_win(row):\n",
        "    raw_result = ''.join([c for c in row['Result'] if c.isdigit() or c == ':'])  # Removing any extra strings like AET...\n",
        "    home_goals, away_goals = map(int, raw_result.split(':')) #splitting home and away goals then checking the Venue in the next lines\n",
        "\n",
        "    outcome = 'draw' if home_goals == away_goals else 'win' if (home_goals > away_goals and row['Venue'] == 'H') \\\n",
        "    else 'win' if (home_goals < away_goals and row['Venue'] == 'A') else 'loss' if (home_goals < away_goals and row['Venue'] == 'H') \\\n",
        "    else 'loss'\n",
        "\n",
        "    return outcome\n"
      ]
    },
    {
      "cell_type": "code",
      "execution_count": null,
      "id": "63daa4ac",
      "metadata": {
        "execution": {
          "iopub.execute_input": "2023-10-07T05:39:05.274806Z",
          "iopub.status.busy": "2023-10-07T05:39:05.274244Z",
          "iopub.status.idle": "2023-10-07T05:39:05.288056Z",
          "shell.execute_reply": "2023-10-07T05:39:05.287413Z"
        },
        "papermill": {
          "duration": 0.020805,
          "end_time": "2023-10-07T05:39:05.289328",
          "exception": false,
          "start_time": "2023-10-07T05:39:05.268523",
          "status": "completed"
        },
        "tags": [],
        "colab": {
          "base_uri": "https://localhost:8080/",
          "height": 143
        },
        "id": "63daa4ac",
        "outputId": "19dab266-48f9-40c9-9937-b1e23319da6d"
      },
      "outputs": [
        {
          "output_type": "execute_result",
          "data": {
            "text/plain": [
              "    Result Venue winLoss\n",
              "42    3:02     H     win\n",
              "162   6:01     H     win\n",
              "391   5:00     H     win"
            ],
            "text/html": [
              "\n",
              "  <div id=\"df-8c8f52b2-526d-4672-bdfd-99f15edd3cae\" class=\"colab-df-container\">\n",
              "    <div>\n",
              "<style scoped>\n",
              "    .dataframe tbody tr th:only-of-type {\n",
              "        vertical-align: middle;\n",
              "    }\n",
              "\n",
              "    .dataframe tbody tr th {\n",
              "        vertical-align: top;\n",
              "    }\n",
              "\n",
              "    .dataframe thead th {\n",
              "        text-align: right;\n",
              "    }\n",
              "</style>\n",
              "<table border=\"1\" class=\"dataframe\">\n",
              "  <thead>\n",
              "    <tr style=\"text-align: right;\">\n",
              "      <th></th>\n",
              "      <th>Result</th>\n",
              "      <th>Venue</th>\n",
              "      <th>winLoss</th>\n",
              "    </tr>\n",
              "  </thead>\n",
              "  <tbody>\n",
              "    <tr>\n",
              "      <th>42</th>\n",
              "      <td>3:02</td>\n",
              "      <td>H</td>\n",
              "      <td>win</td>\n",
              "    </tr>\n",
              "    <tr>\n",
              "      <th>162</th>\n",
              "      <td>6:01</td>\n",
              "      <td>H</td>\n",
              "      <td>win</td>\n",
              "    </tr>\n",
              "    <tr>\n",
              "      <th>391</th>\n",
              "      <td>5:00</td>\n",
              "      <td>H</td>\n",
              "      <td>win</td>\n",
              "    </tr>\n",
              "  </tbody>\n",
              "</table>\n",
              "</div>\n",
              "    <div class=\"colab-df-buttons\">\n",
              "\n",
              "  <div class=\"colab-df-container\">\n",
              "    <button class=\"colab-df-convert\" onclick=\"convertToInteractive('df-8c8f52b2-526d-4672-bdfd-99f15edd3cae')\"\n",
              "            title=\"Convert this dataframe to an interactive table.\"\n",
              "            style=\"display:none;\">\n",
              "\n",
              "  <svg xmlns=\"http://www.w3.org/2000/svg\" height=\"24px\" viewBox=\"0 -960 960 960\">\n",
              "    <path d=\"M120-120v-720h720v720H120Zm60-500h600v-160H180v160Zm220 220h160v-160H400v160Zm0 220h160v-160H400v160ZM180-400h160v-160H180v160Zm440 0h160v-160H620v160ZM180-180h160v-160H180v160Zm440 0h160v-160H620v160Z\"/>\n",
              "  </svg>\n",
              "    </button>\n",
              "\n",
              "  <style>\n",
              "    .colab-df-container {\n",
              "      display:flex;\n",
              "      gap: 12px;\n",
              "    }\n",
              "\n",
              "    .colab-df-convert {\n",
              "      background-color: #E8F0FE;\n",
              "      border: none;\n",
              "      border-radius: 50%;\n",
              "      cursor: pointer;\n",
              "      display: none;\n",
              "      fill: #1967D2;\n",
              "      height: 32px;\n",
              "      padding: 0 0 0 0;\n",
              "      width: 32px;\n",
              "    }\n",
              "\n",
              "    .colab-df-convert:hover {\n",
              "      background-color: #E2EBFA;\n",
              "      box-shadow: 0px 1px 2px rgba(60, 64, 67, 0.3), 0px 1px 3px 1px rgba(60, 64, 67, 0.15);\n",
              "      fill: #174EA6;\n",
              "    }\n",
              "\n",
              "    .colab-df-buttons div {\n",
              "      margin-bottom: 4px;\n",
              "    }\n",
              "\n",
              "    [theme=dark] .colab-df-convert {\n",
              "      background-color: #3B4455;\n",
              "      fill: #D2E3FC;\n",
              "    }\n",
              "\n",
              "    [theme=dark] .colab-df-convert:hover {\n",
              "      background-color: #434B5C;\n",
              "      box-shadow: 0px 1px 3px 1px rgba(0, 0, 0, 0.15);\n",
              "      filter: drop-shadow(0px 1px 2px rgba(0, 0, 0, 0.3));\n",
              "      fill: #FFFFFF;\n",
              "    }\n",
              "  </style>\n",
              "\n",
              "    <script>\n",
              "      const buttonEl =\n",
              "        document.querySelector('#df-8c8f52b2-526d-4672-bdfd-99f15edd3cae button.colab-df-convert');\n",
              "      buttonEl.style.display =\n",
              "        google.colab.kernel.accessAllowed ? 'block' : 'none';\n",
              "\n",
              "      async function convertToInteractive(key) {\n",
              "        const element = document.querySelector('#df-8c8f52b2-526d-4672-bdfd-99f15edd3cae');\n",
              "        const dataTable =\n",
              "          await google.colab.kernel.invokeFunction('convertToInteractive',\n",
              "                                                    [key], {});\n",
              "        if (!dataTable) return;\n",
              "\n",
              "        const docLinkHtml = 'Like what you see? Visit the ' +\n",
              "          '<a target=\"_blank\" href=https://colab.research.google.com/notebooks/data_table.ipynb>data table notebook</a>'\n",
              "          + ' to learn more about interactive tables.';\n",
              "        element.innerHTML = '';\n",
              "        dataTable['output_type'] = 'display_data';\n",
              "        await google.colab.output.renderOutput(dataTable, element);\n",
              "        const docLink = document.createElement('div');\n",
              "        docLink.innerHTML = docLinkHtml;\n",
              "        element.appendChild(docLink);\n",
              "      }\n",
              "    </script>\n",
              "  </div>\n",
              "\n",
              "\n",
              "<div id=\"df-95da2d2f-ea89-4cf1-8c4d-5e461a4664a5\">\n",
              "  <button class=\"colab-df-quickchart\" onclick=\"quickchart('df-95da2d2f-ea89-4cf1-8c4d-5e461a4664a5')\"\n",
              "            title=\"Suggest charts\"\n",
              "            style=\"display:none;\">\n",
              "\n",
              "<svg xmlns=\"http://www.w3.org/2000/svg\" height=\"24px\"viewBox=\"0 0 24 24\"\n",
              "     width=\"24px\">\n",
              "    <g>\n",
              "        <path d=\"M19 3H5c-1.1 0-2 .9-2 2v14c0 1.1.9 2 2 2h14c1.1 0 2-.9 2-2V5c0-1.1-.9-2-2-2zM9 17H7v-7h2v7zm4 0h-2V7h2v10zm4 0h-2v-4h2v4z\"/>\n",
              "    </g>\n",
              "</svg>\n",
              "  </button>\n",
              "\n",
              "<style>\n",
              "  .colab-df-quickchart {\n",
              "      --bg-color: #E8F0FE;\n",
              "      --fill-color: #1967D2;\n",
              "      --hover-bg-color: #E2EBFA;\n",
              "      --hover-fill-color: #174EA6;\n",
              "      --disabled-fill-color: #AAA;\n",
              "      --disabled-bg-color: #DDD;\n",
              "  }\n",
              "\n",
              "  [theme=dark] .colab-df-quickchart {\n",
              "      --bg-color: #3B4455;\n",
              "      --fill-color: #D2E3FC;\n",
              "      --hover-bg-color: #434B5C;\n",
              "      --hover-fill-color: #FFFFFF;\n",
              "      --disabled-bg-color: #3B4455;\n",
              "      --disabled-fill-color: #666;\n",
              "  }\n",
              "\n",
              "  .colab-df-quickchart {\n",
              "    background-color: var(--bg-color);\n",
              "    border: none;\n",
              "    border-radius: 50%;\n",
              "    cursor: pointer;\n",
              "    display: none;\n",
              "    fill: var(--fill-color);\n",
              "    height: 32px;\n",
              "    padding: 0;\n",
              "    width: 32px;\n",
              "  }\n",
              "\n",
              "  .colab-df-quickchart:hover {\n",
              "    background-color: var(--hover-bg-color);\n",
              "    box-shadow: 0 1px 2px rgba(60, 64, 67, 0.3), 0 1px 3px 1px rgba(60, 64, 67, 0.15);\n",
              "    fill: var(--button-hover-fill-color);\n",
              "  }\n",
              "\n",
              "  .colab-df-quickchart-complete:disabled,\n",
              "  .colab-df-quickchart-complete:disabled:hover {\n",
              "    background-color: var(--disabled-bg-color);\n",
              "    fill: var(--disabled-fill-color);\n",
              "    box-shadow: none;\n",
              "  }\n",
              "\n",
              "  .colab-df-spinner {\n",
              "    border: 2px solid var(--fill-color);\n",
              "    border-color: transparent;\n",
              "    border-bottom-color: var(--fill-color);\n",
              "    animation:\n",
              "      spin 1s steps(1) infinite;\n",
              "  }\n",
              "\n",
              "  @keyframes spin {\n",
              "    0% {\n",
              "      border-color: transparent;\n",
              "      border-bottom-color: var(--fill-color);\n",
              "      border-left-color: var(--fill-color);\n",
              "    }\n",
              "    20% {\n",
              "      border-color: transparent;\n",
              "      border-left-color: var(--fill-color);\n",
              "      border-top-color: var(--fill-color);\n",
              "    }\n",
              "    30% {\n",
              "      border-color: transparent;\n",
              "      border-left-color: var(--fill-color);\n",
              "      border-top-color: var(--fill-color);\n",
              "      border-right-color: var(--fill-color);\n",
              "    }\n",
              "    40% {\n",
              "      border-color: transparent;\n",
              "      border-right-color: var(--fill-color);\n",
              "      border-top-color: var(--fill-color);\n",
              "    }\n",
              "    60% {\n",
              "      border-color: transparent;\n",
              "      border-right-color: var(--fill-color);\n",
              "    }\n",
              "    80% {\n",
              "      border-color: transparent;\n",
              "      border-right-color: var(--fill-color);\n",
              "      border-bottom-color: var(--fill-color);\n",
              "    }\n",
              "    90% {\n",
              "      border-color: transparent;\n",
              "      border-bottom-color: var(--fill-color);\n",
              "    }\n",
              "  }\n",
              "</style>\n",
              "\n",
              "  <script>\n",
              "    async function quickchart(key) {\n",
              "      const quickchartButtonEl =\n",
              "        document.querySelector('#' + key + ' button');\n",
              "      quickchartButtonEl.disabled = true;  // To prevent multiple clicks.\n",
              "      quickchartButtonEl.classList.add('colab-df-spinner');\n",
              "      try {\n",
              "        const charts = await google.colab.kernel.invokeFunction(\n",
              "            'suggestCharts', [key], {});\n",
              "      } catch (error) {\n",
              "        console.error('Error during call to suggestCharts:', error);\n",
              "      }\n",
              "      quickchartButtonEl.classList.remove('colab-df-spinner');\n",
              "      quickchartButtonEl.classList.add('colab-df-quickchart-complete');\n",
              "    }\n",
              "    (() => {\n",
              "      let quickchartButtonEl =\n",
              "        document.querySelector('#df-95da2d2f-ea89-4cf1-8c4d-5e461a4664a5 button');\n",
              "      quickchartButtonEl.style.display =\n",
              "        google.colab.kernel.accessAllowed ? 'block' : 'none';\n",
              "    })();\n",
              "  </script>\n",
              "</div>\n",
              "\n",
              "    </div>\n",
              "  </div>\n"
            ],
            "application/vnd.google.colaboratory.intrinsic+json": {
              "type": "dataframe",
              "repr_error": "0"
            }
          },
          "metadata": {},
          "execution_count": 21
        }
      ],
      "source": [
        "df['winLoss'] = df.apply(check_win, axis=1)\n",
        "df[['Result','Venue', 'winLoss']].sample(3)"
      ]
    },
    {
      "cell_type": "markdown",
      "id": "0fd42f63",
      "metadata": {
        "papermill": {
          "duration": 0.005185,
          "end_time": "2023-10-07T05:39:05.299950",
          "exception": false,
          "start_time": "2023-10-07T05:39:05.294765",
          "status": "completed"
        },
        "tags": [],
        "id": "0fd42f63"
      },
      "source": [
        "*<div style=\"padding:20px;color:white;margin:0;font-size:220%;text-align:center;display:fill;border-radius:5px;background-color:#183D3D;overflow:hidden;font-weight:500\">Exploratory Data Analysis </div>"
      ]
    },
    {
      "cell_type": "markdown",
      "id": "f0e1d3c4",
      "metadata": {
        "papermill": {
          "duration": 0.005091,
          "end_time": "2023-10-07T05:39:05.310242",
          "exception": false,
          "start_time": "2023-10-07T05:39:05.305151",
          "status": "completed"
        },
        "tags": [],
        "id": "f0e1d3c4"
      },
      "source": [
        "# 5. Exploratory Data Analysis"
      ]
    },
    {
      "cell_type": "code",
      "execution_count": null,
      "id": "9c513aab",
      "metadata": {
        "execution": {
          "iopub.execute_input": "2023-10-07T05:39:05.364886Z",
          "iopub.status.busy": "2023-10-07T05:39:05.364407Z",
          "iopub.status.idle": "2023-10-07T05:39:06.738310Z",
          "shell.execute_reply": "2023-10-07T05:39:06.737644Z"
        },
        "papermill": {
          "duration": 1.42433,
          "end_time": "2023-10-07T05:39:06.739766",
          "exception": false,
          "start_time": "2023-10-07T05:39:05.315436",
          "status": "completed"
        },
        "tags": [],
        "colab": {
          "base_uri": "https://localhost:8080/"
        },
        "id": "9c513aab",
        "outputId": "fc543958-57c3-4655-ed0f-ff2b85af2b8b"
      },
      "outputs": [
        {
          "output_type": "display_data",
          "data": {
            "text/html": [
              "<html>\n",
              "<head><meta charset=\"utf-8\" /></head>\n",
              "<body>\n",
              "    <div>            <script src=\"https://cdnjs.cloudflare.com/ajax/libs/mathjax/2.7.5/MathJax.js?config=TeX-AMS-MML_SVG\"></script><script type=\"text/javascript\">if (window.MathJax && window.MathJax.Hub && window.MathJax.Hub.Config) {window.MathJax.Hub.Config({SVG: {font: \"STIX-Web\"}});}</script>                <script type=\"text/javascript\">window.PlotlyConfig = {MathJaxConfig: 'local'};</script>\n",
              "        <script charset=\"utf-8\" src=\"https://cdn.plot.ly/plotly-2.24.1.min.js\"></script>                <div id=\"835aab0a-3335-4641-865c-ec521f8834d9\" class=\"plotly-graph-div\" style=\"height:525px; width:100%;\"></div>            <script type=\"text/javascript\">                                    window.PLOTLYENV=window.PLOTLYENV || {};                                    if (document.getElementById(\"835aab0a-3335-4641-865c-ec521f8834d9\")) {                    Plotly.newPlot(                        \"835aab0a-3335-4641-865c-ec521f8834d9\",                        [{\"alignmentgroup\":\"True\",\"hovertemplate\":\"Football Club=%{x}\\u003cbr\\u003eNumber of Goals=%{text}\\u003cextra\\u003e\\u003c\\u002fextra\\u003e\",\"legendgroup\":\"Real Madrid\",\"marker\":{\"color\":\"#4D2DB7\",\"pattern\":{\"shape\":\"\"}},\"name\":\"Real Madrid\",\"offsetgroup\":\"Real Madrid\",\"orientation\":\"v\",\"showlegend\":true,\"text\":[450.0],\"textposition\":\"auto\",\"x\":[\"Real Madrid\"],\"xaxis\":\"x\",\"y\":[450],\"yaxis\":\"y\",\"type\":\"bar\"},{\"alignmentgroup\":\"True\",\"hovertemplate\":\"Football Club=%{x}\\u003cbr\\u003eNumber of Goals=%{text}\\u003cextra\\u003e\\u003c\\u002fextra\\u003e\",\"legendgroup\":\"Manchester United\",\"marker\":{\"color\":\"#C70039\",\"pattern\":{\"shape\":\"\"}},\"name\":\"Manchester United\",\"offsetgroup\":\"Manchester United\",\"orientation\":\"v\",\"showlegend\":true,\"text\":[145.0],\"textposition\":\"auto\",\"x\":[\"Manchester United\"],\"xaxis\":\"x\",\"y\":[145],\"yaxis\":\"y\",\"type\":\"bar\"},{\"alignmentgroup\":\"True\",\"hovertemplate\":\"Football Club=%{x}\\u003cbr\\u003eNumber of Goals=%{text}\\u003cextra\\u003e\\u003c\\u002fextra\\u003e\",\"legendgroup\":\"Juventus FC\",\"marker\":{\"color\":\"#040D12\",\"pattern\":{\"shape\":\"\"}},\"name\":\"Juventus FC\",\"offsetgroup\":\"Juventus FC\",\"orientation\":\"v\",\"showlegend\":true,\"text\":[101.0],\"textposition\":\"auto\",\"x\":[\"Juventus FC\"],\"xaxis\":\"x\",\"y\":[101],\"yaxis\":\"y\",\"type\":\"bar\"},{\"alignmentgroup\":\"True\",\"hovertemplate\":\"Football Club=%{x}\\u003cbr\\u003eNumber of Goals=%{text}\\u003cextra\\u003e\\u003c\\u002fextra\\u003e\",\"legendgroup\":\"Al-Nassr FC\",\"marker\":{\"color\":\"#F8DE22\",\"pattern\":{\"shape\":\"\"}},\"name\":\"Al-Nassr FC\",\"offsetgroup\":\"Al-Nassr FC\",\"orientation\":\"v\",\"showlegend\":true,\"text\":[9.0],\"textposition\":\"auto\",\"x\":[\"Al-Nassr FC\"],\"xaxis\":\"x\",\"y\":[9],\"yaxis\":\"y\",\"type\":\"bar\"},{\"alignmentgroup\":\"True\",\"hovertemplate\":\"Football Club=%{x}\\u003cbr\\u003eNumber of Goals=%{text}\\u003cextra\\u003e\\u003c\\u002fextra\\u003e\",\"legendgroup\":\"Sporting CP\",\"marker\":{\"color\":\"green\",\"pattern\":{\"shape\":\"\"}},\"name\":\"Sporting CP\",\"offsetgroup\":\"Sporting CP\",\"orientation\":\"v\",\"showlegend\":true,\"text\":[5.0],\"textposition\":\"auto\",\"x\":[\"Sporting CP\"],\"xaxis\":\"x\",\"y\":[5],\"yaxis\":\"y\",\"type\":\"bar\"}],                        {\"template\":{\"data\":{\"histogram2dcontour\":[{\"type\":\"histogram2dcontour\",\"colorbar\":{\"outlinewidth\":0,\"ticks\":\"\"},\"colorscale\":[[0.0,\"#0d0887\"],[0.1111111111111111,\"#46039f\"],[0.2222222222222222,\"#7201a8\"],[0.3333333333333333,\"#9c179e\"],[0.4444444444444444,\"#bd3786\"],[0.5555555555555556,\"#d8576b\"],[0.6666666666666666,\"#ed7953\"],[0.7777777777777778,\"#fb9f3a\"],[0.8888888888888888,\"#fdca26\"],[1.0,\"#f0f921\"]]}],\"choropleth\":[{\"type\":\"choropleth\",\"colorbar\":{\"outlinewidth\":0,\"ticks\":\"\"}}],\"histogram2d\":[{\"type\":\"histogram2d\",\"colorbar\":{\"outlinewidth\":0,\"ticks\":\"\"},\"colorscale\":[[0.0,\"#0d0887\"],[0.1111111111111111,\"#46039f\"],[0.2222222222222222,\"#7201a8\"],[0.3333333333333333,\"#9c179e\"],[0.4444444444444444,\"#bd3786\"],[0.5555555555555556,\"#d8576b\"],[0.6666666666666666,\"#ed7953\"],[0.7777777777777778,\"#fb9f3a\"],[0.8888888888888888,\"#fdca26\"],[1.0,\"#f0f921\"]]}],\"heatmap\":[{\"type\":\"heatmap\",\"colorbar\":{\"outlinewidth\":0,\"ticks\":\"\"},\"colorscale\":[[0.0,\"#0d0887\"],[0.1111111111111111,\"#46039f\"],[0.2222222222222222,\"#7201a8\"],[0.3333333333333333,\"#9c179e\"],[0.4444444444444444,\"#bd3786\"],[0.5555555555555556,\"#d8576b\"],[0.6666666666666666,\"#ed7953\"],[0.7777777777777778,\"#fb9f3a\"],[0.8888888888888888,\"#fdca26\"],[1.0,\"#f0f921\"]]}],\"heatmapgl\":[{\"type\":\"heatmapgl\",\"colorbar\":{\"outlinewidth\":0,\"ticks\":\"\"},\"colorscale\":[[0.0,\"#0d0887\"],[0.1111111111111111,\"#46039f\"],[0.2222222222222222,\"#7201a8\"],[0.3333333333333333,\"#9c179e\"],[0.4444444444444444,\"#bd3786\"],[0.5555555555555556,\"#d8576b\"],[0.6666666666666666,\"#ed7953\"],[0.7777777777777778,\"#fb9f3a\"],[0.8888888888888888,\"#fdca26\"],[1.0,\"#f0f921\"]]}],\"contourcarpet\":[{\"type\":\"contourcarpet\",\"colorbar\":{\"outlinewidth\":0,\"ticks\":\"\"}}],\"contour\":[{\"type\":\"contour\",\"colorbar\":{\"outlinewidth\":0,\"ticks\":\"\"},\"colorscale\":[[0.0,\"#0d0887\"],[0.1111111111111111,\"#46039f\"],[0.2222222222222222,\"#7201a8\"],[0.3333333333333333,\"#9c179e\"],[0.4444444444444444,\"#bd3786\"],[0.5555555555555556,\"#d8576b\"],[0.6666666666666666,\"#ed7953\"],[0.7777777777777778,\"#fb9f3a\"],[0.8888888888888888,\"#fdca26\"],[1.0,\"#f0f921\"]]}],\"surface\":[{\"type\":\"surface\",\"colorbar\":{\"outlinewidth\":0,\"ticks\":\"\"},\"colorscale\":[[0.0,\"#0d0887\"],[0.1111111111111111,\"#46039f\"],[0.2222222222222222,\"#7201a8\"],[0.3333333333333333,\"#9c179e\"],[0.4444444444444444,\"#bd3786\"],[0.5555555555555556,\"#d8576b\"],[0.6666666666666666,\"#ed7953\"],[0.7777777777777778,\"#fb9f3a\"],[0.8888888888888888,\"#fdca26\"],[1.0,\"#f0f921\"]]}],\"mesh3d\":[{\"type\":\"mesh3d\",\"colorbar\":{\"outlinewidth\":0,\"ticks\":\"\"}}],\"scatter\":[{\"fillpattern\":{\"fillmode\":\"overlay\",\"size\":10,\"solidity\":0.2},\"type\":\"scatter\"}],\"parcoords\":[{\"type\":\"parcoords\",\"line\":{\"colorbar\":{\"outlinewidth\":0,\"ticks\":\"\"}}}],\"scatterpolargl\":[{\"type\":\"scatterpolargl\",\"marker\":{\"colorbar\":{\"outlinewidth\":0,\"ticks\":\"\"}}}],\"bar\":[{\"error_x\":{\"color\":\"#2a3f5f\"},\"error_y\":{\"color\":\"#2a3f5f\"},\"marker\":{\"line\":{\"color\":\"#E5ECF6\",\"width\":0.5},\"pattern\":{\"fillmode\":\"overlay\",\"size\":10,\"solidity\":0.2}},\"type\":\"bar\"}],\"scattergeo\":[{\"type\":\"scattergeo\",\"marker\":{\"colorbar\":{\"outlinewidth\":0,\"ticks\":\"\"}}}],\"scatterpolar\":[{\"type\":\"scatterpolar\",\"marker\":{\"colorbar\":{\"outlinewidth\":0,\"ticks\":\"\"}}}],\"histogram\":[{\"marker\":{\"pattern\":{\"fillmode\":\"overlay\",\"size\":10,\"solidity\":0.2}},\"type\":\"histogram\"}],\"scattergl\":[{\"type\":\"scattergl\",\"marker\":{\"colorbar\":{\"outlinewidth\":0,\"ticks\":\"\"}}}],\"scatter3d\":[{\"type\":\"scatter3d\",\"line\":{\"colorbar\":{\"outlinewidth\":0,\"ticks\":\"\"}},\"marker\":{\"colorbar\":{\"outlinewidth\":0,\"ticks\":\"\"}}}],\"scattermapbox\":[{\"type\":\"scattermapbox\",\"marker\":{\"colorbar\":{\"outlinewidth\":0,\"ticks\":\"\"}}}],\"scatterternary\":[{\"type\":\"scatterternary\",\"marker\":{\"colorbar\":{\"outlinewidth\":0,\"ticks\":\"\"}}}],\"scattercarpet\":[{\"type\":\"scattercarpet\",\"marker\":{\"colorbar\":{\"outlinewidth\":0,\"ticks\":\"\"}}}],\"carpet\":[{\"aaxis\":{\"endlinecolor\":\"#2a3f5f\",\"gridcolor\":\"white\",\"linecolor\":\"white\",\"minorgridcolor\":\"white\",\"startlinecolor\":\"#2a3f5f\"},\"baxis\":{\"endlinecolor\":\"#2a3f5f\",\"gridcolor\":\"white\",\"linecolor\":\"white\",\"minorgridcolor\":\"white\",\"startlinecolor\":\"#2a3f5f\"},\"type\":\"carpet\"}],\"table\":[{\"cells\":{\"fill\":{\"color\":\"#EBF0F8\"},\"line\":{\"color\":\"white\"}},\"header\":{\"fill\":{\"color\":\"#C8D4E3\"},\"line\":{\"color\":\"white\"}},\"type\":\"table\"}],\"barpolar\":[{\"marker\":{\"line\":{\"color\":\"#E5ECF6\",\"width\":0.5},\"pattern\":{\"fillmode\":\"overlay\",\"size\":10,\"solidity\":0.2}},\"type\":\"barpolar\"}],\"pie\":[{\"automargin\":true,\"type\":\"pie\"}]},\"layout\":{\"autotypenumbers\":\"strict\",\"colorway\":[\"#636efa\",\"#EF553B\",\"#00cc96\",\"#ab63fa\",\"#FFA15A\",\"#19d3f3\",\"#FF6692\",\"#B6E880\",\"#FF97FF\",\"#FECB52\"],\"font\":{\"color\":\"#2a3f5f\"},\"hovermode\":\"closest\",\"hoverlabel\":{\"align\":\"left\"},\"paper_bgcolor\":\"white\",\"plot_bgcolor\":\"#E5ECF6\",\"polar\":{\"bgcolor\":\"#E5ECF6\",\"angularaxis\":{\"gridcolor\":\"white\",\"linecolor\":\"white\",\"ticks\":\"\"},\"radialaxis\":{\"gridcolor\":\"white\",\"linecolor\":\"white\",\"ticks\":\"\"}},\"ternary\":{\"bgcolor\":\"#E5ECF6\",\"aaxis\":{\"gridcolor\":\"white\",\"linecolor\":\"white\",\"ticks\":\"\"},\"baxis\":{\"gridcolor\":\"white\",\"linecolor\":\"white\",\"ticks\":\"\"},\"caxis\":{\"gridcolor\":\"white\",\"linecolor\":\"white\",\"ticks\":\"\"}},\"coloraxis\":{\"colorbar\":{\"outlinewidth\":0,\"ticks\":\"\"}},\"colorscale\":{\"sequential\":[[0.0,\"#0d0887\"],[0.1111111111111111,\"#46039f\"],[0.2222222222222222,\"#7201a8\"],[0.3333333333333333,\"#9c179e\"],[0.4444444444444444,\"#bd3786\"],[0.5555555555555556,\"#d8576b\"],[0.6666666666666666,\"#ed7953\"],[0.7777777777777778,\"#fb9f3a\"],[0.8888888888888888,\"#fdca26\"],[1.0,\"#f0f921\"]],\"sequentialminus\":[[0.0,\"#0d0887\"],[0.1111111111111111,\"#46039f\"],[0.2222222222222222,\"#7201a8\"],[0.3333333333333333,\"#9c179e\"],[0.4444444444444444,\"#bd3786\"],[0.5555555555555556,\"#d8576b\"],[0.6666666666666666,\"#ed7953\"],[0.7777777777777778,\"#fb9f3a\"],[0.8888888888888888,\"#fdca26\"],[1.0,\"#f0f921\"]],\"diverging\":[[0,\"#8e0152\"],[0.1,\"#c51b7d\"],[0.2,\"#de77ae\"],[0.3,\"#f1b6da\"],[0.4,\"#fde0ef\"],[0.5,\"#f7f7f7\"],[0.6,\"#e6f5d0\"],[0.7,\"#b8e186\"],[0.8,\"#7fbc41\"],[0.9,\"#4d9221\"],[1,\"#276419\"]]},\"xaxis\":{\"gridcolor\":\"white\",\"linecolor\":\"white\",\"ticks\":\"\",\"title\":{\"standoff\":15},\"zerolinecolor\":\"white\",\"automargin\":true,\"zerolinewidth\":2},\"yaxis\":{\"gridcolor\":\"white\",\"linecolor\":\"white\",\"ticks\":\"\",\"title\":{\"standoff\":15},\"zerolinecolor\":\"white\",\"automargin\":true,\"zerolinewidth\":2},\"scene\":{\"xaxis\":{\"backgroundcolor\":\"#E5ECF6\",\"gridcolor\":\"white\",\"linecolor\":\"white\",\"showbackground\":true,\"ticks\":\"\",\"zerolinecolor\":\"white\",\"gridwidth\":2},\"yaxis\":{\"backgroundcolor\":\"#E5ECF6\",\"gridcolor\":\"white\",\"linecolor\":\"white\",\"showbackground\":true,\"ticks\":\"\",\"zerolinecolor\":\"white\",\"gridwidth\":2},\"zaxis\":{\"backgroundcolor\":\"#E5ECF6\",\"gridcolor\":\"white\",\"linecolor\":\"white\",\"showbackground\":true,\"ticks\":\"\",\"zerolinecolor\":\"white\",\"gridwidth\":2}},\"shapedefaults\":{\"line\":{\"color\":\"#2a3f5f\"}},\"annotationdefaults\":{\"arrowcolor\":\"#2a3f5f\",\"arrowhead\":0,\"arrowwidth\":1},\"geo\":{\"bgcolor\":\"white\",\"landcolor\":\"#E5ECF6\",\"subunitcolor\":\"white\",\"showland\":true,\"showlakes\":true,\"lakecolor\":\"white\"},\"title\":{\"x\":0.05},\"mapbox\":{\"style\":\"light\"}}},\"xaxis\":{\"anchor\":\"y\",\"domain\":[0.0,1.0],\"title\":{\"text\":\"Football Club\"},\"categoryorder\":\"array\",\"categoryarray\":[\"Real Madrid\",\"Manchester United\",\"Juventus FC\",\"Al-Nassr FC\",\"Sporting CP\"]},\"yaxis\":{\"anchor\":\"x\",\"domain\":[0.0,1.0],\"title\":{\"text\":\"Number of Goals\"}},\"legend\":{\"title\":{\"text\":\"Football Club\"},\"tracegroupgap\":0},\"title\":{\"text\":\"Ronaldo Goals per Club\"},\"barmode\":\"relative\"},                        {\"responsive\": true}                    ).then(function(){\n",
              "                            \n",
              "var gd = document.getElementById('835aab0a-3335-4641-865c-ec521f8834d9');\n",
              "var x = new MutationObserver(function (mutations, observer) {{\n",
              "        var display = window.getComputedStyle(gd).display;\n",
              "        if (!display || display === 'none') {{\n",
              "            console.log([gd, 'removed!']);\n",
              "            Plotly.purge(gd);\n",
              "            observer.disconnect();\n",
              "        }}\n",
              "}});\n",
              "\n",
              "// Listen for the removal of the full notebook cells\n",
              "var notebookContainer = gd.closest('#notebook-container');\n",
              "if (notebookContainer) {{\n",
              "    x.observe(notebookContainer, {childList: true});\n",
              "}}\n",
              "\n",
              "// Listen for the clearing of the current output cell\n",
              "var outputEl = gd.closest('.output');\n",
              "if (outputEl) {{\n",
              "    x.observe(outputEl, {childList: true});\n",
              "}}\n",
              "\n",
              "                        })                };                            </script>        </div>\n",
              "</body>\n",
              "</html>"
            ]
          },
          "metadata": {}
        }
      ],
      "source": [
        "# Group goals by club and count the number of goals\n",
        "goals_per_club = df.groupby('Club').size().reset_index(name='Goals').sort_values(by = \"Goals\", ascending=False)\n",
        "\n",
        "color_map ={'Real Madrid':'#4D2DB7', 'Juventus FC':'#040D12', 'Manchester United':'#C70039', 'Al-Nassr FC':'#F8DE22','Sporting CP': 'green'}\n",
        "\n",
        "fig = px.bar(goals_per_club, x='Club', y='Goals', title='Ronaldo Goals per Club',\n",
        "             labels={'Club': 'Football Club', 'Goals': 'Number of Goals'}, text= 'Goals',\n",
        "              color_discrete_map = color_map, color = 'Club')\n",
        "# Show the plot\n",
        "fig.show()"
      ]
    },
    {
      "cell_type": "code",
      "execution_count": null,
      "id": "c63278de",
      "metadata": {
        "_kg_hide-input": false,
        "execution": {
          "iopub.execute_input": "2023-10-07T05:39:06.753461Z",
          "iopub.status.busy": "2023-10-07T05:39:06.753054Z",
          "iopub.status.idle": "2023-10-07T05:39:06.817191Z",
          "shell.execute_reply": "2023-10-07T05:39:06.816655Z"
        },
        "papermill": {
          "duration": 0.072148,
          "end_time": "2023-10-07T05:39:06.818472",
          "exception": false,
          "start_time": "2023-10-07T05:39:06.746324",
          "status": "completed"
        },
        "tags": [],
        "colab": {
          "base_uri": "https://localhost:8080/"
        },
        "id": "c63278de",
        "outputId": "58673e56-cfc1-40a5-84ba-a9e597a3981c"
      },
      "outputs": [
        {
          "output_type": "display_data",
          "data": {
            "text/html": [
              "<html>\n",
              "<head><meta charset=\"utf-8\" /></head>\n",
              "<body>\n",
              "    <div>            <script src=\"https://cdnjs.cloudflare.com/ajax/libs/mathjax/2.7.5/MathJax.js?config=TeX-AMS-MML_SVG\"></script><script type=\"text/javascript\">if (window.MathJax && window.MathJax.Hub && window.MathJax.Hub.Config) {window.MathJax.Hub.Config({SVG: {font: \"STIX-Web\"}});}</script>                <script type=\"text/javascript\">window.PlotlyConfig = {MathJaxConfig: 'local'};</script>\n",
              "        <script charset=\"utf-8\" src=\"https://cdn.plot.ly/plotly-2.24.1.min.js\"></script>                <div id=\"b8add4e6-3173-42a7-b20f-a20e1dadee5f\" class=\"plotly-graph-div\" style=\"height:525px; width:100%;\"></div>            <script type=\"text/javascript\">                                    window.PLOTLYENV=window.PLOTLYENV || {};                                    if (document.getElementById(\"b8add4e6-3173-42a7-b20f-a20e1dadee5f\")) {                    Plotly.newPlot(                        \"b8add4e6-3173-42a7-b20f-a20e1dadee5f\",                        [{\"customdata\":[[\"Real Madrid\"],[\"Manchester United\"],[\"Juventus FC\"],[\"Al-Nassr FC\"],[\"Sporting CP\"]],\"domain\":{\"x\":[0.0,1.0],\"y\":[0.0,1.0]},\"hovertemplate\":\"Club=%{customdata[0]}\\u003cbr\\u003eNumber of Goals=%{value}\\u003cextra\\u003e\\u003c\\u002fextra\\u003e\",\"labels\":[\"Real Madrid\",\"Manchester United\",\"Juventus FC\",\"Al-Nassr FC\",\"Sporting CP\"],\"legendgroup\":\"\",\"marker\":{\"colors\":[\"#4D2DB7\",\"#C70039\",\"#040D12\",\"#F8DE22\",\"green\"]},\"name\":\"\",\"showlegend\":true,\"values\":[450,145,101,9,5],\"type\":\"pie\",\"text\":[\"Real Madrid\\u003cbr\\u003e450\",\"Manchester United\\u003cbr\\u003e145\",\"Juventus FC\\u003cbr\\u003e101\",\"Al-Nassr FC\\u003cbr\\u003e9\",\"Sporting CP\\u003cbr\\u003e5\"],\"textinfo\":\"label+percent\"}],                        {\"template\":{\"data\":{\"histogram2dcontour\":[{\"type\":\"histogram2dcontour\",\"colorbar\":{\"outlinewidth\":0,\"ticks\":\"\"},\"colorscale\":[[0.0,\"#0d0887\"],[0.1111111111111111,\"#46039f\"],[0.2222222222222222,\"#7201a8\"],[0.3333333333333333,\"#9c179e\"],[0.4444444444444444,\"#bd3786\"],[0.5555555555555556,\"#d8576b\"],[0.6666666666666666,\"#ed7953\"],[0.7777777777777778,\"#fb9f3a\"],[0.8888888888888888,\"#fdca26\"],[1.0,\"#f0f921\"]]}],\"choropleth\":[{\"type\":\"choropleth\",\"colorbar\":{\"outlinewidth\":0,\"ticks\":\"\"}}],\"histogram2d\":[{\"type\":\"histogram2d\",\"colorbar\":{\"outlinewidth\":0,\"ticks\":\"\"},\"colorscale\":[[0.0,\"#0d0887\"],[0.1111111111111111,\"#46039f\"],[0.2222222222222222,\"#7201a8\"],[0.3333333333333333,\"#9c179e\"],[0.4444444444444444,\"#bd3786\"],[0.5555555555555556,\"#d8576b\"],[0.6666666666666666,\"#ed7953\"],[0.7777777777777778,\"#fb9f3a\"],[0.8888888888888888,\"#fdca26\"],[1.0,\"#f0f921\"]]}],\"heatmap\":[{\"type\":\"heatmap\",\"colorbar\":{\"outlinewidth\":0,\"ticks\":\"\"},\"colorscale\":[[0.0,\"#0d0887\"],[0.1111111111111111,\"#46039f\"],[0.2222222222222222,\"#7201a8\"],[0.3333333333333333,\"#9c179e\"],[0.4444444444444444,\"#bd3786\"],[0.5555555555555556,\"#d8576b\"],[0.6666666666666666,\"#ed7953\"],[0.7777777777777778,\"#fb9f3a\"],[0.8888888888888888,\"#fdca26\"],[1.0,\"#f0f921\"]]}],\"heatmapgl\":[{\"type\":\"heatmapgl\",\"colorbar\":{\"outlinewidth\":0,\"ticks\":\"\"},\"colorscale\":[[0.0,\"#0d0887\"],[0.1111111111111111,\"#46039f\"],[0.2222222222222222,\"#7201a8\"],[0.3333333333333333,\"#9c179e\"],[0.4444444444444444,\"#bd3786\"],[0.5555555555555556,\"#d8576b\"],[0.6666666666666666,\"#ed7953\"],[0.7777777777777778,\"#fb9f3a\"],[0.8888888888888888,\"#fdca26\"],[1.0,\"#f0f921\"]]}],\"contourcarpet\":[{\"type\":\"contourcarpet\",\"colorbar\":{\"outlinewidth\":0,\"ticks\":\"\"}}],\"contour\":[{\"type\":\"contour\",\"colorbar\":{\"outlinewidth\":0,\"ticks\":\"\"},\"colorscale\":[[0.0,\"#0d0887\"],[0.1111111111111111,\"#46039f\"],[0.2222222222222222,\"#7201a8\"],[0.3333333333333333,\"#9c179e\"],[0.4444444444444444,\"#bd3786\"],[0.5555555555555556,\"#d8576b\"],[0.6666666666666666,\"#ed7953\"],[0.7777777777777778,\"#fb9f3a\"],[0.8888888888888888,\"#fdca26\"],[1.0,\"#f0f921\"]]}],\"surface\":[{\"type\":\"surface\",\"colorbar\":{\"outlinewidth\":0,\"ticks\":\"\"},\"colorscale\":[[0.0,\"#0d0887\"],[0.1111111111111111,\"#46039f\"],[0.2222222222222222,\"#7201a8\"],[0.3333333333333333,\"#9c179e\"],[0.4444444444444444,\"#bd3786\"],[0.5555555555555556,\"#d8576b\"],[0.6666666666666666,\"#ed7953\"],[0.7777777777777778,\"#fb9f3a\"],[0.8888888888888888,\"#fdca26\"],[1.0,\"#f0f921\"]]}],\"mesh3d\":[{\"type\":\"mesh3d\",\"colorbar\":{\"outlinewidth\":0,\"ticks\":\"\"}}],\"scatter\":[{\"fillpattern\":{\"fillmode\":\"overlay\",\"size\":10,\"solidity\":0.2},\"type\":\"scatter\"}],\"parcoords\":[{\"type\":\"parcoords\",\"line\":{\"colorbar\":{\"outlinewidth\":0,\"ticks\":\"\"}}}],\"scatterpolargl\":[{\"type\":\"scatterpolargl\",\"marker\":{\"colorbar\":{\"outlinewidth\":0,\"ticks\":\"\"}}}],\"bar\":[{\"error_x\":{\"color\":\"#2a3f5f\"},\"error_y\":{\"color\":\"#2a3f5f\"},\"marker\":{\"line\":{\"color\":\"#E5ECF6\",\"width\":0.5},\"pattern\":{\"fillmode\":\"overlay\",\"size\":10,\"solidity\":0.2}},\"type\":\"bar\"}],\"scattergeo\":[{\"type\":\"scattergeo\",\"marker\":{\"colorbar\":{\"outlinewidth\":0,\"ticks\":\"\"}}}],\"scatterpolar\":[{\"type\":\"scatterpolar\",\"marker\":{\"colorbar\":{\"outlinewidth\":0,\"ticks\":\"\"}}}],\"histogram\":[{\"marker\":{\"pattern\":{\"fillmode\":\"overlay\",\"size\":10,\"solidity\":0.2}},\"type\":\"histogram\"}],\"scattergl\":[{\"type\":\"scattergl\",\"marker\":{\"colorbar\":{\"outlinewidth\":0,\"ticks\":\"\"}}}],\"scatter3d\":[{\"type\":\"scatter3d\",\"line\":{\"colorbar\":{\"outlinewidth\":0,\"ticks\":\"\"}},\"marker\":{\"colorbar\":{\"outlinewidth\":0,\"ticks\":\"\"}}}],\"scattermapbox\":[{\"type\":\"scattermapbox\",\"marker\":{\"colorbar\":{\"outlinewidth\":0,\"ticks\":\"\"}}}],\"scatterternary\":[{\"type\":\"scatterternary\",\"marker\":{\"colorbar\":{\"outlinewidth\":0,\"ticks\":\"\"}}}],\"scattercarpet\":[{\"type\":\"scattercarpet\",\"marker\":{\"colorbar\":{\"outlinewidth\":0,\"ticks\":\"\"}}}],\"carpet\":[{\"aaxis\":{\"endlinecolor\":\"#2a3f5f\",\"gridcolor\":\"white\",\"linecolor\":\"white\",\"minorgridcolor\":\"white\",\"startlinecolor\":\"#2a3f5f\"},\"baxis\":{\"endlinecolor\":\"#2a3f5f\",\"gridcolor\":\"white\",\"linecolor\":\"white\",\"minorgridcolor\":\"white\",\"startlinecolor\":\"#2a3f5f\"},\"type\":\"carpet\"}],\"table\":[{\"cells\":{\"fill\":{\"color\":\"#EBF0F8\"},\"line\":{\"color\":\"white\"}},\"header\":{\"fill\":{\"color\":\"#C8D4E3\"},\"line\":{\"color\":\"white\"}},\"type\":\"table\"}],\"barpolar\":[{\"marker\":{\"line\":{\"color\":\"#E5ECF6\",\"width\":0.5},\"pattern\":{\"fillmode\":\"overlay\",\"size\":10,\"solidity\":0.2}},\"type\":\"barpolar\"}],\"pie\":[{\"automargin\":true,\"type\":\"pie\"}]},\"layout\":{\"autotypenumbers\":\"strict\",\"colorway\":[\"#636efa\",\"#EF553B\",\"#00cc96\",\"#ab63fa\",\"#FFA15A\",\"#19d3f3\",\"#FF6692\",\"#B6E880\",\"#FF97FF\",\"#FECB52\"],\"font\":{\"color\":\"#2a3f5f\"},\"hovermode\":\"closest\",\"hoverlabel\":{\"align\":\"left\"},\"paper_bgcolor\":\"white\",\"plot_bgcolor\":\"#E5ECF6\",\"polar\":{\"bgcolor\":\"#E5ECF6\",\"angularaxis\":{\"gridcolor\":\"white\",\"linecolor\":\"white\",\"ticks\":\"\"},\"radialaxis\":{\"gridcolor\":\"white\",\"linecolor\":\"white\",\"ticks\":\"\"}},\"ternary\":{\"bgcolor\":\"#E5ECF6\",\"aaxis\":{\"gridcolor\":\"white\",\"linecolor\":\"white\",\"ticks\":\"\"},\"baxis\":{\"gridcolor\":\"white\",\"linecolor\":\"white\",\"ticks\":\"\"},\"caxis\":{\"gridcolor\":\"white\",\"linecolor\":\"white\",\"ticks\":\"\"}},\"coloraxis\":{\"colorbar\":{\"outlinewidth\":0,\"ticks\":\"\"}},\"colorscale\":{\"sequential\":[[0.0,\"#0d0887\"],[0.1111111111111111,\"#46039f\"],[0.2222222222222222,\"#7201a8\"],[0.3333333333333333,\"#9c179e\"],[0.4444444444444444,\"#bd3786\"],[0.5555555555555556,\"#d8576b\"],[0.6666666666666666,\"#ed7953\"],[0.7777777777777778,\"#fb9f3a\"],[0.8888888888888888,\"#fdca26\"],[1.0,\"#f0f921\"]],\"sequentialminus\":[[0.0,\"#0d0887\"],[0.1111111111111111,\"#46039f\"],[0.2222222222222222,\"#7201a8\"],[0.3333333333333333,\"#9c179e\"],[0.4444444444444444,\"#bd3786\"],[0.5555555555555556,\"#d8576b\"],[0.6666666666666666,\"#ed7953\"],[0.7777777777777778,\"#fb9f3a\"],[0.8888888888888888,\"#fdca26\"],[1.0,\"#f0f921\"]],\"diverging\":[[0,\"#8e0152\"],[0.1,\"#c51b7d\"],[0.2,\"#de77ae\"],[0.3,\"#f1b6da\"],[0.4,\"#fde0ef\"],[0.5,\"#f7f7f7\"],[0.6,\"#e6f5d0\"],[0.7,\"#b8e186\"],[0.8,\"#7fbc41\"],[0.9,\"#4d9221\"],[1,\"#276419\"]]},\"xaxis\":{\"gridcolor\":\"white\",\"linecolor\":\"white\",\"ticks\":\"\",\"title\":{\"standoff\":15},\"zerolinecolor\":\"white\",\"automargin\":true,\"zerolinewidth\":2},\"yaxis\":{\"gridcolor\":\"white\",\"linecolor\":\"white\",\"ticks\":\"\",\"title\":{\"standoff\":15},\"zerolinecolor\":\"white\",\"automargin\":true,\"zerolinewidth\":2},\"scene\":{\"xaxis\":{\"backgroundcolor\":\"#E5ECF6\",\"gridcolor\":\"white\",\"linecolor\":\"white\",\"showbackground\":true,\"ticks\":\"\",\"zerolinecolor\":\"white\",\"gridwidth\":2},\"yaxis\":{\"backgroundcolor\":\"#E5ECF6\",\"gridcolor\":\"white\",\"linecolor\":\"white\",\"showbackground\":true,\"ticks\":\"\",\"zerolinecolor\":\"white\",\"gridwidth\":2},\"zaxis\":{\"backgroundcolor\":\"#E5ECF6\",\"gridcolor\":\"white\",\"linecolor\":\"white\",\"showbackground\":true,\"ticks\":\"\",\"zerolinecolor\":\"white\",\"gridwidth\":2}},\"shapedefaults\":{\"line\":{\"color\":\"#2a3f5f\"}},\"annotationdefaults\":{\"arrowcolor\":\"#2a3f5f\",\"arrowhead\":0,\"arrowwidth\":1},\"geo\":{\"bgcolor\":\"white\",\"landcolor\":\"#E5ECF6\",\"subunitcolor\":\"white\",\"showland\":true,\"showlakes\":true,\"lakecolor\":\"white\"},\"title\":{\"x\":0.05},\"mapbox\":{\"style\":\"light\"}}},\"legend\":{\"tracegroupgap\":0},\"title\":{\"text\":\"Ronaldo's goals percentage per club %\\u26bd%\"}},                        {\"responsive\": true}                    ).then(function(){\n",
              "                            \n",
              "var gd = document.getElementById('b8add4e6-3173-42a7-b20f-a20e1dadee5f');\n",
              "var x = new MutationObserver(function (mutations, observer) {{\n",
              "        var display = window.getComputedStyle(gd).display;\n",
              "        if (!display || display === 'none') {{\n",
              "            console.log([gd, 'removed!']);\n",
              "            Plotly.purge(gd);\n",
              "            observer.disconnect();\n",
              "        }}\n",
              "}});\n",
              "\n",
              "// Listen for the removal of the full notebook cells\n",
              "var notebookContainer = gd.closest('#notebook-container');\n",
              "if (notebookContainer) {{\n",
              "    x.observe(notebookContainer, {childList: true});\n",
              "}}\n",
              "\n",
              "// Listen for the clearing of the current output cell\n",
              "var outputEl = gd.closest('.output');\n",
              "if (outputEl) {{\n",
              "    x.observe(outputEl, {childList: true});\n",
              "}}\n",
              "\n",
              "                        })                };                            </script>        </div>\n",
              "</body>\n",
              "</html>"
            ]
          },
          "metadata": {}
        }
      ],
      "source": [
        "#Ronaldo's goals percentage per club\n",
        "fig = px.pie(goals_per_club,\n",
        "             names='Club',\n",
        "             values='Goals',\n",
        "             title=\"Ronaldo's goals percentage per club %⚽%\",\n",
        "             labels={'Club':'Club', 'Goals':'Number of Goals'},\n",
        "             color_discrete_map= color_map, color = 'Club')\n",
        "\n",
        "# Create a custom text label that combines the club name and the number of goals\n",
        "custom_label = goals_per_club.apply(lambda row: f\"{row['Club']}<br>{row['Goals']}\", axis=1)\n",
        "\n",
        "# Customize the text labels\n",
        "fig.update_traces(textinfo=\"label+percent\", text=custom_label)\n",
        "\n",
        "# Show the plot\n",
        "fig.show()"
      ]
    },
    {
      "cell_type": "code",
      "execution_count": null,
      "id": "96dac299",
      "metadata": {
        "execution": {
          "iopub.execute_input": "2023-10-07T05:39:06.832049Z",
          "iopub.status.busy": "2023-10-07T05:39:06.831470Z",
          "iopub.status.idle": "2023-10-07T05:39:06.899993Z",
          "shell.execute_reply": "2023-10-07T05:39:06.899170Z"
        },
        "papermill": {
          "duration": 0.076558,
          "end_time": "2023-10-07T05:39:06.901270",
          "exception": false,
          "start_time": "2023-10-07T05:39:06.824712",
          "status": "completed"
        },
        "tags": [],
        "colab": {
          "base_uri": "https://localhost:8080/"
        },
        "id": "96dac299",
        "outputId": "986fa612-c1b3-49a0-c12e-85ef393ed9f0"
      },
      "outputs": [
        {
          "output_type": "display_data",
          "data": {
            "text/html": [
              "<html>\n",
              "<head><meta charset=\"utf-8\" /></head>\n",
              "<body>\n",
              "    <div>            <script src=\"https://cdnjs.cloudflare.com/ajax/libs/mathjax/2.7.5/MathJax.js?config=TeX-AMS-MML_SVG\"></script><script type=\"text/javascript\">if (window.MathJax && window.MathJax.Hub && window.MathJax.Hub.Config) {window.MathJax.Hub.Config({SVG: {font: \"STIX-Web\"}});}</script>                <script type=\"text/javascript\">window.PlotlyConfig = {MathJaxConfig: 'local'};</script>\n",
              "        <script charset=\"utf-8\" src=\"https://cdn.plot.ly/plotly-2.24.1.min.js\"></script>                <div id=\"b19db80b-f3ee-48a4-8220-c7d154f4c0af\" class=\"plotly-graph-div\" style=\"height:500px; width:100%;\"></div>            <script type=\"text/javascript\">                                    window.PLOTLYENV=window.PLOTLYENV || {};                                    if (document.getElementById(\"b19db80b-f3ee-48a4-8220-c7d154f4c0af\")) {                    Plotly.newPlot(                        \"b19db80b-f3ee-48a4-8220-c7d154f4c0af\",                        [{\"alignmentgroup\":\"True\",\"bingroup\":\"x\",\"hovertemplate\":\"Club=Sporting CP\\u003cbr\\u003eSeason=%{x}\\u003cbr\\u003ecount=%{y}\\u003cextra\\u003e\\u003c\\u002fextra\\u003e\",\"legendgroup\":\"Sporting CP\",\"marker\":{\"color\":\"green\",\"pattern\":{\"shape\":\"\"}},\"name\":\"Sporting CP\",\"offsetgroup\":\"Sporting CP\",\"orientation\":\"v\",\"showlegend\":true,\"x\":[\"02\\u002f03\",\"02\\u002f03\",\"02\\u002f03\",\"02\\u002f03\",\"02\\u002f03\"],\"xaxis\":\"x\",\"yaxis\":\"y\",\"type\":\"histogram\"},{\"alignmentgroup\":\"True\",\"bingroup\":\"x\",\"hovertemplate\":\"Club=Manchester United\\u003cbr\\u003eSeason=%{x}\\u003cbr\\u003ecount=%{y}\\u003cextra\\u003e\\u003c\\u002fextra\\u003e\",\"legendgroup\":\"Manchester United\",\"marker\":{\"color\":\"#C70039\",\"pattern\":{\"shape\":\"\"}},\"name\":\"Manchester United\",\"offsetgroup\":\"Manchester United\",\"orientation\":\"v\",\"showlegend\":true,\"x\":[\"03\\u002f04\",\"03\\u002f04\",\"03\\u002f04\",\"03\\u002f04\",\"03\\u002f04\",\"03\\u002f04\",\"04\\u002f05\",\"04\\u002f05\",\"04\\u002f05\",\"04\\u002f05\",\"04\\u002f05\",\"04\\u002f05\",\"04\\u002f05\",\"04\\u002f05\",\"04\\u002f05\",\"05\\u002f06\",\"05\\u002f06\",\"05\\u002f06\",\"05\\u002f06\",\"05\\u002f06\",\"05\\u002f06\",\"05\\u002f06\",\"05\\u002f06\",\"05\\u002f06\",\"05\\u002f06\",\"05\\u002f06\",\"05\\u002f06\",\"06\\u002f07\",\"06\\u002f07\",\"06\\u002f07\",\"06\\u002f07\",\"06\\u002f07\",\"06\\u002f07\",\"06\\u002f07\",\"06\\u002f07\",\"06\\u002f07\",\"06\\u002f07\",\"06\\u002f07\",\"06\\u002f07\",\"06\\u002f07\",\"06\\u002f07\",\"06\\u002f07\",\"06\\u002f07\",\"06\\u002f07\",\"06\\u002f07\",\"06\\u002f07\",\"06\\u002f07\",\"06\\u002f07\",\"06\\u002f07\",\"06\\u002f07\",\"07\\u002f08\",\"07\\u002f08\",\"07\\u002f08\",\"07\\u002f08\",\"07\\u002f08\",\"07\\u002f08\",\"07\\u002f08\",\"07\\u002f08\",\"07\\u002f08\",\"07\\u002f08\",\"07\\u002f08\",\"07\\u002f08\",\"07\\u002f08\",\"07\\u002f08\",\"07\\u002f08\",\"07\\u002f08\",\"07\\u002f08\",\"07\\u002f08\",\"07\\u002f08\",\"07\\u002f08\",\"07\\u002f08\",\"07\\u002f08\",\"07\\u002f08\",\"07\\u002f08\",\"07\\u002f08\",\"07\\u002f08\",\"07\\u002f08\",\"07\\u002f08\",\"07\\u002f08\",\"07\\u002f08\",\"07\\u002f08\",\"07\\u002f08\",\"07\\u002f08\",\"07\\u002f08\",\"07\\u002f08\",\"07\\u002f08\",\"07\\u002f08\",\"07\\u002f08\",\"07\\u002f08\",\"07\\u002f08\",\"07\\u002f08\",\"07\\u002f08\",\"08\\u002f09\",\"08\\u002f09\",\"08\\u002f09\",\"08\\u002f09\",\"08\\u002f09\",\"08\\u002f09\",\"08\\u002f09\",\"08\\u002f09\",\"08\\u002f09\",\"08\\u002f09\",\"08\\u002f09\",\"08\\u002f09\",\"08\\u002f09\",\"08\\u002f09\",\"08\\u002f09\",\"08\\u002f09\",\"08\\u002f09\",\"08\\u002f09\",\"08\\u002f09\",\"08\\u002f09\",\"08\\u002f09\",\"08\\u002f09\",\"08\\u002f09\",\"08\\u002f09\",\"08\\u002f09\",\"08\\u002f09\",\"21\\u002f22\",\"21\\u002f22\",\"21\\u002f22\",\"21\\u002f22\",\"21\\u002f22\",\"21\\u002f22\",\"21\\u002f22\",\"21\\u002f22\",\"21\\u002f22\",\"21\\u002f22\",\"21\\u002f22\",\"21\\u002f22\",\"21\\u002f22\",\"21\\u002f22\",\"21\\u002f22\",\"21\\u002f22\",\"21\\u002f22\",\"21\\u002f22\",\"21\\u002f22\",\"21\\u002f22\",\"21\\u002f22\",\"21\\u002f22\",\"21\\u002f22\",\"21\\u002f22\",\"22\\u002f23\",\"22\\u002f23\",\"22\\u002f23\"],\"xaxis\":\"x\",\"yaxis\":\"y\",\"type\":\"histogram\"},{\"alignmentgroup\":\"True\",\"bingroup\":\"x\",\"hovertemplate\":\"Club=Real Madrid\\u003cbr\\u003eSeason=%{x}\\u003cbr\\u003ecount=%{y}\\u003cextra\\u003e\\u003c\\u002fextra\\u003e\",\"legendgroup\":\"Real Madrid\",\"marker\":{\"color\":\"#4D2DB7\",\"pattern\":{\"shape\":\"\"}},\"name\":\"Real Madrid\",\"offsetgroup\":\"Real Madrid\",\"orientation\":\"v\",\"showlegend\":true,\"x\":[\"09\\u002f10\",\"09\\u002f10\",\"09\\u002f10\",\"09\\u002f10\",\"09\\u002f10\",\"09\\u002f10\",\"09\\u002f10\",\"09\\u002f10\",\"09\\u002f10\",\"09\\u002f10\",\"09\\u002f10\",\"09\\u002f10\",\"09\\u002f10\",\"09\\u002f10\",\"09\\u002f10\",\"09\\u002f10\",\"09\\u002f10\",\"09\\u002f10\",\"09\\u002f10\",\"09\\u002f10\",\"09\\u002f10\",\"09\\u002f10\",\"09\\u002f10\",\"09\\u002f10\",\"09\\u002f10\",\"09\\u002f10\",\"09\\u002f10\",\"09\\u002f10\",\"09\\u002f10\",\"09\\u002f10\",\"09\\u002f10\",\"09\\u002f10\",\"09\\u002f10\",\"10\\u002f11\",\"10\\u002f11\",\"10\\u002f11\",\"10\\u002f11\",\"10\\u002f11\",\"10\\u002f11\",\"10\\u002f11\",\"10\\u002f11\",\"10\\u002f11\",\"10\\u002f11\",\"10\\u002f11\",\"10\\u002f11\",\"10\\u002f11\",\"10\\u002f11\",\"10\\u002f11\",\"10\\u002f11\",\"10\\u002f11\",\"10\\u002f11\",\"10\\u002f11\",\"10\\u002f11\",\"10\\u002f11\",\"10\\u002f11\",\"10\\u002f11\",\"10\\u002f11\",\"10\\u002f11\",\"10\\u002f11\",\"10\\u002f11\",\"10\\u002f11\",\"10\\u002f11\",\"10\\u002f11\",\"10\\u002f11\",\"10\\u002f11\",\"10\\u002f11\",\"10\\u002f11\",\"10\\u002f11\",\"10\\u002f11\",\"10\\u002f11\",\"10\\u002f11\",\"10\\u002f11\",\"10\\u002f11\",\"10\\u002f11\",\"10\\u002f11\",\"10\\u002f11\",\"10\\u002f11\",\"10\\u002f11\",\"10\\u002f11\",\"10\\u002f11\",\"10\\u002f11\",\"10\\u002f11\",\"10\\u002f11\",\"10\\u002f11\",\"10\\u002f11\",\"10\\u002f11\",\"11\\u002f12\",\"11\\u002f12\",\"11\\u002f12\",\"11\\u002f12\",\"11\\u002f12\",\"11\\u002f12\",\"11\\u002f12\",\"11\\u002f12\",\"11\\u002f12\",\"11\\u002f12\",\"11\\u002f12\",\"11\\u002f12\",\"11\\u002f12\",\"11\\u002f12\",\"11\\u002f12\",\"11\\u002f12\",\"11\\u002f12\",\"11\\u002f12\",\"11\\u002f12\",\"11\\u002f12\",\"11\\u002f12\",\"11\\u002f12\",\"11\\u002f12\",\"11\\u002f12\",\"11\\u002f12\",\"11\\u002f12\",\"11\\u002f12\",\"11\\u002f12\",\"11\\u002f12\",\"11\\u002f12\",\"11\\u002f12\",\"11\\u002f12\",\"11\\u002f12\",\"11\\u002f12\",\"11\\u002f12\",\"11\\u002f12\",\"11\\u002f12\",\"11\\u002f12\",\"11\\u002f12\",\"11\\u002f12\",\"11\\u002f12\",\"11\\u002f12\",\"11\\u002f12\",\"11\\u002f12\",\"11\\u002f12\",\"11\\u002f12\",\"11\\u002f12\",\"11\\u002f12\",\"11\\u002f12\",\"11\\u002f12\",\"11\\u002f12\",\"11\\u002f12\",\"11\\u002f12\",\"11\\u002f12\",\"11\\u002f12\",\"11\\u002f12\",\"11\\u002f12\",\"11\\u002f12\",\"11\\u002f12\",\"11\\u002f12\",\"12\\u002f13\",\"12\\u002f13\",\"12\\u002f13\",\"12\\u002f13\",\"12\\u002f13\",\"12\\u002f13\",\"12\\u002f13\",\"12\\u002f13\",\"12\\u002f13\",\"12\\u002f13\",\"12\\u002f13\",\"12\\u002f13\",\"12\\u002f13\",\"12\\u002f13\",\"12\\u002f13\",\"12\\u002f13\",\"12\\u002f13\",\"12\\u002f13\",\"12\\u002f13\",\"12\\u002f13\",\"12\\u002f13\",\"12\\u002f13\",\"12\\u002f13\",\"12\\u002f13\",\"12\\u002f13\",\"12\\u002f13\",\"12\\u002f13\",\"12\\u002f13\",\"12\\u002f13\",\"12\\u002f13\",\"12\\u002f13\",\"12\\u002f13\",\"12\\u002f13\",\"12\\u002f13\",\"12\\u002f13\",\"12\\u002f13\",\"12\\u002f13\",\"12\\u002f13\",\"12\\u002f13\",\"12\\u002f13\",\"12\\u002f13\",\"12\\u002f13\",\"12\\u002f13\",\"12\\u002f13\",\"12\\u002f13\",\"12\\u002f13\",\"12\\u002f13\",\"12\\u002f13\",\"12\\u002f13\",\"12\\u002f13\",\"12\\u002f13\",\"12\\u002f13\",\"12\\u002f13\",\"12\\u002f13\",\"12\\u002f13\",\"13\\u002f14\",\"13\\u002f14\",\"13\\u002f14\",\"13\\u002f14\",\"13\\u002f14\",\"13\\u002f14\",\"13\\u002f14\",\"13\\u002f14\",\"13\\u002f14\",\"13\\u002f14\",\"13\\u002f14\",\"13\\u002f14\",\"13\\u002f14\",\"13\\u002f14\",\"13\\u002f14\",\"13\\u002f14\",\"13\\u002f14\",\"13\\u002f14\",\"13\\u002f14\",\"13\\u002f14\",\"13\\u002f14\",\"13\\u002f14\",\"13\\u002f14\",\"13\\u002f14\",\"13\\u002f14\",\"13\\u002f14\",\"13\\u002f14\",\"13\\u002f14\",\"13\\u002f14\",\"13\\u002f14\",\"13\\u002f14\",\"13\\u002f14\",\"13\\u002f14\",\"13\\u002f14\",\"13\\u002f14\",\"13\\u002f14\",\"13\\u002f14\",\"13\\u002f14\",\"13\\u002f14\",\"13\\u002f14\",\"13\\u002f14\",\"13\\u002f14\",\"13\\u002f14\",\"13\\u002f14\",\"13\\u002f14\",\"13\\u002f14\",\"13\\u002f14\",\"13\\u002f14\",\"13\\u002f14\",\"13\\u002f14\",\"13\\u002f14\",\"14\\u002f15\",\"14\\u002f15\",\"14\\u002f15\",\"14\\u002f15\",\"14\\u002f15\",\"14\\u002f15\",\"14\\u002f15\",\"14\\u002f15\",\"14\\u002f15\",\"14\\u002f15\",\"14\\u002f15\",\"14\\u002f15\",\"14\\u002f15\",\"14\\u002f15\",\"14\\u002f15\",\"14\\u002f15\",\"14\\u002f15\",\"14\\u002f15\",\"14\\u002f15\",\"14\\u002f15\",\"14\\u002f15\",\"14\\u002f15\",\"14\\u002f15\",\"14\\u002f15\",\"14\\u002f15\",\"14\\u002f15\",\"14\\u002f15\",\"14\\u002f15\",\"14\\u002f15\",\"14\\u002f15\",\"14\\u002f15\",\"14\\u002f15\",\"14\\u002f15\",\"14\\u002f15\",\"14\\u002f15\",\"14\\u002f15\",\"14\\u002f15\",\"14\\u002f15\",\"14\\u002f15\",\"14\\u002f15\",\"14\\u002f15\",\"14\\u002f15\",\"14\\u002f15\",\"14\\u002f15\",\"14\\u002f15\",\"14\\u002f15\",\"14\\u002f15\",\"14\\u002f15\",\"14\\u002f15\",\"14\\u002f15\",\"14\\u002f15\",\"14\\u002f15\",\"14\\u002f15\",\"14\\u002f15\",\"14\\u002f15\",\"14\\u002f15\",\"14\\u002f15\",\"14\\u002f15\",\"14\\u002f15\",\"14\\u002f15\",\"14\\u002f15\",\"15\\u002f16\",\"15\\u002f16\",\"15\\u002f16\",\"15\\u002f16\",\"15\\u002f16\",\"15\\u002f16\",\"15\\u002f16\",\"15\\u002f16\",\"15\\u002f16\",\"15\\u002f16\",\"15\\u002f16\",\"15\\u002f16\",\"15\\u002f16\",\"15\\u002f16\",\"15\\u002f16\",\"15\\u002f16\",\"15\\u002f16\",\"15\\u002f16\",\"15\\u002f16\",\"15\\u002f16\",\"15\\u002f16\",\"15\\u002f16\",\"15\\u002f16\",\"15\\u002f16\",\"15\\u002f16\",\"15\\u002f16\",\"15\\u002f16\",\"15\\u002f16\",\"15\\u002f16\",\"15\\u002f16\",\"15\\u002f16\",\"15\\u002f16\",\"15\\u002f16\",\"15\\u002f16\",\"15\\u002f16\",\"15\\u002f16\",\"15\\u002f16\",\"15\\u002f16\",\"15\\u002f16\",\"15\\u002f16\",\"15\\u002f16\",\"15\\u002f16\",\"15\\u002f16\",\"15\\u002f16\",\"15\\u002f16\",\"15\\u002f16\",\"15\\u002f16\",\"15\\u002f16\",\"15\\u002f16\",\"15\\u002f16\",\"15\\u002f16\",\"16\\u002f17\",\"16\\u002f17\",\"16\\u002f17\",\"16\\u002f17\",\"16\\u002f17\",\"16\\u002f17\",\"16\\u002f17\",\"16\\u002f17\",\"16\\u002f17\",\"16\\u002f17\",\"16\\u002f17\",\"16\\u002f17\",\"16\\u002f17\",\"16\\u002f17\",\"16\\u002f17\",\"16\\u002f17\",\"16\\u002f17\",\"16\\u002f17\",\"16\\u002f17\",\"16\\u002f17\",\"16\\u002f17\",\"16\\u002f17\",\"16\\u002f17\",\"16\\u002f17\",\"16\\u002f17\",\"16\\u002f17\",\"16\\u002f17\",\"16\\u002f17\",\"16\\u002f17\",\"16\\u002f17\",\"16\\u002f17\",\"16\\u002f17\",\"16\\u002f17\",\"16\\u002f17\",\"16\\u002f17\",\"16\\u002f17\",\"16\\u002f17\",\"16\\u002f17\",\"16\\u002f17\",\"16\\u002f17\",\"16\\u002f17\",\"16\\u002f17\",\"17\\u002f18\",\"17\\u002f18\",\"17\\u002f18\",\"17\\u002f18\",\"17\\u002f18\",\"17\\u002f18\",\"17\\u002f18\",\"17\\u002f18\",\"17\\u002f18\",\"17\\u002f18\",\"17\\u002f18\",\"17\\u002f18\",\"17\\u002f18\",\"17\\u002f18\",\"17\\u002f18\",\"17\\u002f18\",\"17\\u002f18\",\"17\\u002f18\",\"17\\u002f18\",\"17\\u002f18\",\"17\\u002f18\",\"17\\u002f18\",\"17\\u002f18\",\"17\\u002f18\",\"17\\u002f18\",\"17\\u002f18\",\"17\\u002f18\",\"17\\u002f18\",\"17\\u002f18\",\"17\\u002f18\",\"17\\u002f18\",\"17\\u002f18\",\"17\\u002f18\",\"17\\u002f18\",\"17\\u002f18\",\"17\\u002f18\",\"17\\u002f18\",\"17\\u002f18\",\"17\\u002f18\",\"17\\u002f18\",\"17\\u002f18\",\"17\\u002f18\",\"17\\u002f18\",\"17\\u002f18\"],\"xaxis\":\"x\",\"yaxis\":\"y\",\"type\":\"histogram\"},{\"alignmentgroup\":\"True\",\"bingroup\":\"x\",\"hovertemplate\":\"Club=Juventus FC\\u003cbr\\u003eSeason=%{x}\\u003cbr\\u003ecount=%{y}\\u003cextra\\u003e\\u003c\\u002fextra\\u003e\",\"legendgroup\":\"Juventus FC\",\"marker\":{\"color\":\"#040D12\",\"pattern\":{\"shape\":\"\"}},\"name\":\"Juventus FC\",\"offsetgroup\":\"Juventus FC\",\"orientation\":\"v\",\"showlegend\":true,\"x\":[\"18\\u002f19\",\"18\\u002f19\",\"18\\u002f19\",\"18\\u002f19\",\"18\\u002f19\",\"18\\u002f19\",\"18\\u002f19\",\"18\\u002f19\",\"18\\u002f19\",\"18\\u002f19\",\"18\\u002f19\",\"18\\u002f19\",\"18\\u002f19\",\"18\\u002f19\",\"18\\u002f19\",\"18\\u002f19\",\"18\\u002f19\",\"18\\u002f19\",\"18\\u002f19\",\"18\\u002f19\",\"18\\u002f19\",\"18\\u002f19\",\"18\\u002f19\",\"18\\u002f19\",\"18\\u002f19\",\"18\\u002f19\",\"18\\u002f19\",\"18\\u002f19\",\"19\\u002f20\",\"19\\u002f20\",\"19\\u002f20\",\"19\\u002f20\",\"19\\u002f20\",\"19\\u002f20\",\"19\\u002f20\",\"19\\u002f20\",\"19\\u002f20\",\"19\\u002f20\",\"19\\u002f20\",\"19\\u002f20\",\"19\\u002f20\",\"19\\u002f20\",\"19\\u002f20\",\"19\\u002f20\",\"19\\u002f20\",\"19\\u002f20\",\"19\\u002f20\",\"19\\u002f20\",\"19\\u002f20\",\"19\\u002f20\",\"19\\u002f20\",\"19\\u002f20\",\"19\\u002f20\",\"19\\u002f20\",\"19\\u002f20\",\"19\\u002f20\",\"19\\u002f20\",\"19\\u002f20\",\"19\\u002f20\",\"19\\u002f20\",\"19\\u002f20\",\"19\\u002f20\",\"19\\u002f20\",\"19\\u002f20\",\"19\\u002f20\",\"20\\u002f21\",\"20\\u002f21\",\"20\\u002f21\",\"20\\u002f21\",\"20\\u002f21\",\"20\\u002f21\",\"20\\u002f21\",\"20\\u002f21\",\"20\\u002f21\",\"20\\u002f21\",\"20\\u002f21\",\"20\\u002f21\",\"20\\u002f21\",\"20\\u002f21\",\"20\\u002f21\",\"20\\u002f21\",\"20\\u002f21\",\"20\\u002f21\",\"20\\u002f21\",\"20\\u002f21\",\"20\\u002f21\",\"20\\u002f21\",\"20\\u002f21\",\"20\\u002f21\",\"20\\u002f21\",\"20\\u002f21\",\"20\\u002f21\",\"20\\u002f21\",\"20\\u002f21\",\"20\\u002f21\",\"20\\u002f21\",\"20\\u002f21\",\"20\\u002f21\",\"20\\u002f21\",\"20\\u002f21\",\"20\\u002f21\"],\"xaxis\":\"x\",\"yaxis\":\"y\",\"type\":\"histogram\"},{\"alignmentgroup\":\"True\",\"bingroup\":\"x\",\"hovertemplate\":\"Club=Al-Nassr FC\\u003cbr\\u003eSeason=%{x}\\u003cbr\\u003ecount=%{y}\\u003cextra\\u003e\\u003c\\u002fextra\\u003e\",\"legendgroup\":\"Al-Nassr FC\",\"marker\":{\"color\":\"#F8DE22\",\"pattern\":{\"shape\":\"\"}},\"name\":\"Al-Nassr FC\",\"offsetgroup\":\"Al-Nassr FC\",\"orientation\":\"v\",\"showlegend\":true,\"x\":[\"22\\u002f23\",\"22\\u002f23\",\"22\\u002f23\",\"22\\u002f23\",\"22\\u002f23\",\"22\\u002f23\",\"22\\u002f23\",\"22\\u002f23\",\"22\\u002f23\"],\"xaxis\":\"x\",\"yaxis\":\"y\",\"type\":\"histogram\"}],                        {\"template\":{\"data\":{\"histogram2dcontour\":[{\"type\":\"histogram2dcontour\",\"colorbar\":{\"outlinewidth\":0,\"ticks\":\"\"},\"colorscale\":[[0.0,\"#0d0887\"],[0.1111111111111111,\"#46039f\"],[0.2222222222222222,\"#7201a8\"],[0.3333333333333333,\"#9c179e\"],[0.4444444444444444,\"#bd3786\"],[0.5555555555555556,\"#d8576b\"],[0.6666666666666666,\"#ed7953\"],[0.7777777777777778,\"#fb9f3a\"],[0.8888888888888888,\"#fdca26\"],[1.0,\"#f0f921\"]]}],\"choropleth\":[{\"type\":\"choropleth\",\"colorbar\":{\"outlinewidth\":0,\"ticks\":\"\"}}],\"histogram2d\":[{\"type\":\"histogram2d\",\"colorbar\":{\"outlinewidth\":0,\"ticks\":\"\"},\"colorscale\":[[0.0,\"#0d0887\"],[0.1111111111111111,\"#46039f\"],[0.2222222222222222,\"#7201a8\"],[0.3333333333333333,\"#9c179e\"],[0.4444444444444444,\"#bd3786\"],[0.5555555555555556,\"#d8576b\"],[0.6666666666666666,\"#ed7953\"],[0.7777777777777778,\"#fb9f3a\"],[0.8888888888888888,\"#fdca26\"],[1.0,\"#f0f921\"]]}],\"heatmap\":[{\"type\":\"heatmap\",\"colorbar\":{\"outlinewidth\":0,\"ticks\":\"\"},\"colorscale\":[[0.0,\"#0d0887\"],[0.1111111111111111,\"#46039f\"],[0.2222222222222222,\"#7201a8\"],[0.3333333333333333,\"#9c179e\"],[0.4444444444444444,\"#bd3786\"],[0.5555555555555556,\"#d8576b\"],[0.6666666666666666,\"#ed7953\"],[0.7777777777777778,\"#fb9f3a\"],[0.8888888888888888,\"#fdca26\"],[1.0,\"#f0f921\"]]}],\"heatmapgl\":[{\"type\":\"heatmapgl\",\"colorbar\":{\"outlinewidth\":0,\"ticks\":\"\"},\"colorscale\":[[0.0,\"#0d0887\"],[0.1111111111111111,\"#46039f\"],[0.2222222222222222,\"#7201a8\"],[0.3333333333333333,\"#9c179e\"],[0.4444444444444444,\"#bd3786\"],[0.5555555555555556,\"#d8576b\"],[0.6666666666666666,\"#ed7953\"],[0.7777777777777778,\"#fb9f3a\"],[0.8888888888888888,\"#fdca26\"],[1.0,\"#f0f921\"]]}],\"contourcarpet\":[{\"type\":\"contourcarpet\",\"colorbar\":{\"outlinewidth\":0,\"ticks\":\"\"}}],\"contour\":[{\"type\":\"contour\",\"colorbar\":{\"outlinewidth\":0,\"ticks\":\"\"},\"colorscale\":[[0.0,\"#0d0887\"],[0.1111111111111111,\"#46039f\"],[0.2222222222222222,\"#7201a8\"],[0.3333333333333333,\"#9c179e\"],[0.4444444444444444,\"#bd3786\"],[0.5555555555555556,\"#d8576b\"],[0.6666666666666666,\"#ed7953\"],[0.7777777777777778,\"#fb9f3a\"],[0.8888888888888888,\"#fdca26\"],[1.0,\"#f0f921\"]]}],\"surface\":[{\"type\":\"surface\",\"colorbar\":{\"outlinewidth\":0,\"ticks\":\"\"},\"colorscale\":[[0.0,\"#0d0887\"],[0.1111111111111111,\"#46039f\"],[0.2222222222222222,\"#7201a8\"],[0.3333333333333333,\"#9c179e\"],[0.4444444444444444,\"#bd3786\"],[0.5555555555555556,\"#d8576b\"],[0.6666666666666666,\"#ed7953\"],[0.7777777777777778,\"#fb9f3a\"],[0.8888888888888888,\"#fdca26\"],[1.0,\"#f0f921\"]]}],\"mesh3d\":[{\"type\":\"mesh3d\",\"colorbar\":{\"outlinewidth\":0,\"ticks\":\"\"}}],\"scatter\":[{\"fillpattern\":{\"fillmode\":\"overlay\",\"size\":10,\"solidity\":0.2},\"type\":\"scatter\"}],\"parcoords\":[{\"type\":\"parcoords\",\"line\":{\"colorbar\":{\"outlinewidth\":0,\"ticks\":\"\"}}}],\"scatterpolargl\":[{\"type\":\"scatterpolargl\",\"marker\":{\"colorbar\":{\"outlinewidth\":0,\"ticks\":\"\"}}}],\"bar\":[{\"error_x\":{\"color\":\"#2a3f5f\"},\"error_y\":{\"color\":\"#2a3f5f\"},\"marker\":{\"line\":{\"color\":\"#E5ECF6\",\"width\":0.5},\"pattern\":{\"fillmode\":\"overlay\",\"size\":10,\"solidity\":0.2}},\"type\":\"bar\"}],\"scattergeo\":[{\"type\":\"scattergeo\",\"marker\":{\"colorbar\":{\"outlinewidth\":0,\"ticks\":\"\"}}}],\"scatterpolar\":[{\"type\":\"scatterpolar\",\"marker\":{\"colorbar\":{\"outlinewidth\":0,\"ticks\":\"\"}}}],\"histogram\":[{\"marker\":{\"pattern\":{\"fillmode\":\"overlay\",\"size\":10,\"solidity\":0.2}},\"type\":\"histogram\"}],\"scattergl\":[{\"type\":\"scattergl\",\"marker\":{\"colorbar\":{\"outlinewidth\":0,\"ticks\":\"\"}}}],\"scatter3d\":[{\"type\":\"scatter3d\",\"line\":{\"colorbar\":{\"outlinewidth\":0,\"ticks\":\"\"}},\"marker\":{\"colorbar\":{\"outlinewidth\":0,\"ticks\":\"\"}}}],\"scattermapbox\":[{\"type\":\"scattermapbox\",\"marker\":{\"colorbar\":{\"outlinewidth\":0,\"ticks\":\"\"}}}],\"scatterternary\":[{\"type\":\"scatterternary\",\"marker\":{\"colorbar\":{\"outlinewidth\":0,\"ticks\":\"\"}}}],\"scattercarpet\":[{\"type\":\"scattercarpet\",\"marker\":{\"colorbar\":{\"outlinewidth\":0,\"ticks\":\"\"}}}],\"carpet\":[{\"aaxis\":{\"endlinecolor\":\"#2a3f5f\",\"gridcolor\":\"white\",\"linecolor\":\"white\",\"minorgridcolor\":\"white\",\"startlinecolor\":\"#2a3f5f\"},\"baxis\":{\"endlinecolor\":\"#2a3f5f\",\"gridcolor\":\"white\",\"linecolor\":\"white\",\"minorgridcolor\":\"white\",\"startlinecolor\":\"#2a3f5f\"},\"type\":\"carpet\"}],\"table\":[{\"cells\":{\"fill\":{\"color\":\"#EBF0F8\"},\"line\":{\"color\":\"white\"}},\"header\":{\"fill\":{\"color\":\"#C8D4E3\"},\"line\":{\"color\":\"white\"}},\"type\":\"table\"}],\"barpolar\":[{\"marker\":{\"line\":{\"color\":\"#E5ECF6\",\"width\":0.5},\"pattern\":{\"fillmode\":\"overlay\",\"size\":10,\"solidity\":0.2}},\"type\":\"barpolar\"}],\"pie\":[{\"automargin\":true,\"type\":\"pie\"}]},\"layout\":{\"autotypenumbers\":\"strict\",\"colorway\":[\"#636efa\",\"#EF553B\",\"#00cc96\",\"#ab63fa\",\"#FFA15A\",\"#19d3f3\",\"#FF6692\",\"#B6E880\",\"#FF97FF\",\"#FECB52\"],\"font\":{\"color\":\"#2a3f5f\"},\"hovermode\":\"closest\",\"hoverlabel\":{\"align\":\"left\"},\"paper_bgcolor\":\"white\",\"plot_bgcolor\":\"#E5ECF6\",\"polar\":{\"bgcolor\":\"#E5ECF6\",\"angularaxis\":{\"gridcolor\":\"white\",\"linecolor\":\"white\",\"ticks\":\"\"},\"radialaxis\":{\"gridcolor\":\"white\",\"linecolor\":\"white\",\"ticks\":\"\"}},\"ternary\":{\"bgcolor\":\"#E5ECF6\",\"aaxis\":{\"gridcolor\":\"white\",\"linecolor\":\"white\",\"ticks\":\"\"},\"baxis\":{\"gridcolor\":\"white\",\"linecolor\":\"white\",\"ticks\":\"\"},\"caxis\":{\"gridcolor\":\"white\",\"linecolor\":\"white\",\"ticks\":\"\"}},\"coloraxis\":{\"colorbar\":{\"outlinewidth\":0,\"ticks\":\"\"}},\"colorscale\":{\"sequential\":[[0.0,\"#0d0887\"],[0.1111111111111111,\"#46039f\"],[0.2222222222222222,\"#7201a8\"],[0.3333333333333333,\"#9c179e\"],[0.4444444444444444,\"#bd3786\"],[0.5555555555555556,\"#d8576b\"],[0.6666666666666666,\"#ed7953\"],[0.7777777777777778,\"#fb9f3a\"],[0.8888888888888888,\"#fdca26\"],[1.0,\"#f0f921\"]],\"sequentialminus\":[[0.0,\"#0d0887\"],[0.1111111111111111,\"#46039f\"],[0.2222222222222222,\"#7201a8\"],[0.3333333333333333,\"#9c179e\"],[0.4444444444444444,\"#bd3786\"],[0.5555555555555556,\"#d8576b\"],[0.6666666666666666,\"#ed7953\"],[0.7777777777777778,\"#fb9f3a\"],[0.8888888888888888,\"#fdca26\"],[1.0,\"#f0f921\"]],\"diverging\":[[0,\"#8e0152\"],[0.1,\"#c51b7d\"],[0.2,\"#de77ae\"],[0.3,\"#f1b6da\"],[0.4,\"#fde0ef\"],[0.5,\"#f7f7f7\"],[0.6,\"#e6f5d0\"],[0.7,\"#b8e186\"],[0.8,\"#7fbc41\"],[0.9,\"#4d9221\"],[1,\"#276419\"]]},\"xaxis\":{\"gridcolor\":\"white\",\"linecolor\":\"white\",\"ticks\":\"\",\"title\":{\"standoff\":15},\"zerolinecolor\":\"white\",\"automargin\":true,\"zerolinewidth\":2},\"yaxis\":{\"gridcolor\":\"white\",\"linecolor\":\"white\",\"ticks\":\"\",\"title\":{\"standoff\":15},\"zerolinecolor\":\"white\",\"automargin\":true,\"zerolinewidth\":2},\"scene\":{\"xaxis\":{\"backgroundcolor\":\"#E5ECF6\",\"gridcolor\":\"white\",\"linecolor\":\"white\",\"showbackground\":true,\"ticks\":\"\",\"zerolinecolor\":\"white\",\"gridwidth\":2},\"yaxis\":{\"backgroundcolor\":\"#E5ECF6\",\"gridcolor\":\"white\",\"linecolor\":\"white\",\"showbackground\":true,\"ticks\":\"\",\"zerolinecolor\":\"white\",\"gridwidth\":2},\"zaxis\":{\"backgroundcolor\":\"#E5ECF6\",\"gridcolor\":\"white\",\"linecolor\":\"white\",\"showbackground\":true,\"ticks\":\"\",\"zerolinecolor\":\"white\",\"gridwidth\":2}},\"shapedefaults\":{\"line\":{\"color\":\"#2a3f5f\"}},\"annotationdefaults\":{\"arrowcolor\":\"#2a3f5f\",\"arrowhead\":0,\"arrowwidth\":1},\"geo\":{\"bgcolor\":\"white\",\"landcolor\":\"#E5ECF6\",\"subunitcolor\":\"white\",\"showland\":true,\"showlakes\":true,\"lakecolor\":\"white\"},\"title\":{\"x\":0.05},\"mapbox\":{\"style\":\"light\"}}},\"xaxis\":{\"anchor\":\"y\",\"domain\":[0.0,1.0],\"title\":{\"text\":\"Season\"}},\"yaxis\":{\"anchor\":\"x\",\"domain\":[0.0,1.0],\"title\":{\"text\":\"count\"}},\"legend\":{\"title\":{\"text\":\"Club\"},\"tracegroupgap\":0},\"title\":{\"text\":\"CR7 goals per season \\ud83d\\udcca\\u26bd\"},\"barmode\":\"relative\",\"height\":500},                        {\"responsive\": true}                    ).then(function(){\n",
              "                            \n",
              "var gd = document.getElementById('b19db80b-f3ee-48a4-8220-c7d154f4c0af');\n",
              "var x = new MutationObserver(function (mutations, observer) {{\n",
              "        var display = window.getComputedStyle(gd).display;\n",
              "        if (!display || display === 'none') {{\n",
              "            console.log([gd, 'removed!']);\n",
              "            Plotly.purge(gd);\n",
              "            observer.disconnect();\n",
              "        }}\n",
              "}});\n",
              "\n",
              "// Listen for the removal of the full notebook cells\n",
              "var notebookContainer = gd.closest('#notebook-container');\n",
              "if (notebookContainer) {{\n",
              "    x.observe(notebookContainer, {childList: true});\n",
              "}}\n",
              "\n",
              "// Listen for the clearing of the current output cell\n",
              "var outputEl = gd.closest('.output');\n",
              "if (outputEl) {{\n",
              "    x.observe(outputEl, {childList: true});\n",
              "}}\n",
              "\n",
              "                        })                };                            </script>        </div>\n",
              "</body>\n",
              "</html>"
            ]
          },
          "metadata": {}
        }
      ],
      "source": [
        "# Plotting a histogram to visualize CR7 goals per season using the Plotly Express library\n",
        "#Simply it displayes how many times a season appears in the dataset. Each goal corresponds to a row in the data frame with the season value.\n",
        "px.histogram(\n",
        "    data_frame=df,              # Data source\n",
        "    x='Season',                 # Column for x-axis\n",
        "    title=\"CR7 goals per season 📊⚽\",   # Chart title\n",
        "    height=500,                 # Height of the chart\n",
        "    color='Club' , # Color based on 'Club' column\n",
        "    color_discrete_map= color_map, #A specific color for each club\n",
        "    hover_name='Club',          # Display 'Club' name on hover\n",
        "    hover_data=['Competition', 'Season', 'Club']  # Additional hover data\n",
        ")"
      ]
    },
    {
      "cell_type": "code",
      "execution_count": null,
      "id": "afca312d",
      "metadata": {
        "execution": {
          "iopub.execute_input": "2023-10-07T05:39:06.915112Z",
          "iopub.status.busy": "2023-10-07T05:39:06.914863Z",
          "iopub.status.idle": "2023-10-07T05:39:06.953444Z",
          "shell.execute_reply": "2023-10-07T05:39:06.952765Z"
        },
        "papermill": {
          "duration": 0.046939,
          "end_time": "2023-10-07T05:39:06.954929",
          "exception": false,
          "start_time": "2023-10-07T05:39:06.907990",
          "status": "completed"
        },
        "tags": [],
        "colab": {
          "base_uri": "https://localhost:8080/"
        },
        "id": "afca312d",
        "outputId": "be1c4b0a-8716-4ef9-f3c6-07a34f143443"
      },
      "outputs": [
        {
          "output_type": "display_data",
          "data": {
            "text/html": [
              "<html>\n",
              "<head><meta charset=\"utf-8\" /></head>\n",
              "<body>\n",
              "    <div>            <script src=\"https://cdnjs.cloudflare.com/ajax/libs/mathjax/2.7.5/MathJax.js?config=TeX-AMS-MML_SVG\"></script><script type=\"text/javascript\">if (window.MathJax && window.MathJax.Hub && window.MathJax.Hub.Config) {window.MathJax.Hub.Config({SVG: {font: \"STIX-Web\"}});}</script>                <script type=\"text/javascript\">window.PlotlyConfig = {MathJaxConfig: 'local'};</script>\n",
              "        <script charset=\"utf-8\" src=\"https://cdn.plot.ly/plotly-2.24.1.min.js\"></script>                <div id=\"2b61c650-b053-4562-8f0d-afb249f6b343\" class=\"plotly-graph-div\" style=\"height:525px; width:100%;\"></div>            <script type=\"text/javascript\">                                    window.PLOTLYENV=window.PLOTLYENV || {};                                    if (document.getElementById(\"2b61c650-b053-4562-8f0d-afb249f6b343\")) {                    Plotly.newPlot(                        \"2b61c650-b053-4562-8f0d-afb249f6b343\",                        [{\"alignmentgroup\":\"True\",\"hovertemplate\":\"Season=%{x}\\u003cbr\\u003eNumber of Goals\\u26bd=%{y}\\u003cbr\\u003eFootball Club=%{text}\\u003cextra\\u003e\\u003c\\u002fextra\\u003e\",\"legendgroup\":\"\",\"marker\":{\"color\":[\"#645CBB\",\"#7C6CC1\",\"#9481C7\",\"#AB97CD\",\"#d6caed\"],\"pattern\":{\"shape\":\"\"}},\"name\":\"\",\"offsetgroup\":\"\",\"orientation\":\"v\",\"showlegend\":false,\"text\":[\"Real Madrid\",\"Real Madrid\",\"Real Madrid\",\"Real Madrid\",\"Real Madrid\"],\"textposition\":\"auto\",\"x\":[\"14\\u002f15\",\"11\\u002f12\",\"12\\u002f13\",\"10\\u002f11\",\"15\\u002f16\"],\"xaxis\":\"x\",\"y\":[61,60,55,53,51],\"yaxis\":\"y\",\"type\":\"bar\"}],                        {\"template\":{\"data\":{\"histogram2dcontour\":[{\"type\":\"histogram2dcontour\",\"colorbar\":{\"outlinewidth\":0,\"ticks\":\"\"},\"colorscale\":[[0.0,\"#0d0887\"],[0.1111111111111111,\"#46039f\"],[0.2222222222222222,\"#7201a8\"],[0.3333333333333333,\"#9c179e\"],[0.4444444444444444,\"#bd3786\"],[0.5555555555555556,\"#d8576b\"],[0.6666666666666666,\"#ed7953\"],[0.7777777777777778,\"#fb9f3a\"],[0.8888888888888888,\"#fdca26\"],[1.0,\"#f0f921\"]]}],\"choropleth\":[{\"type\":\"choropleth\",\"colorbar\":{\"outlinewidth\":0,\"ticks\":\"\"}}],\"histogram2d\":[{\"type\":\"histogram2d\",\"colorbar\":{\"outlinewidth\":0,\"ticks\":\"\"},\"colorscale\":[[0.0,\"#0d0887\"],[0.1111111111111111,\"#46039f\"],[0.2222222222222222,\"#7201a8\"],[0.3333333333333333,\"#9c179e\"],[0.4444444444444444,\"#bd3786\"],[0.5555555555555556,\"#d8576b\"],[0.6666666666666666,\"#ed7953\"],[0.7777777777777778,\"#fb9f3a\"],[0.8888888888888888,\"#fdca26\"],[1.0,\"#f0f921\"]]}],\"heatmap\":[{\"type\":\"heatmap\",\"colorbar\":{\"outlinewidth\":0,\"ticks\":\"\"},\"colorscale\":[[0.0,\"#0d0887\"],[0.1111111111111111,\"#46039f\"],[0.2222222222222222,\"#7201a8\"],[0.3333333333333333,\"#9c179e\"],[0.4444444444444444,\"#bd3786\"],[0.5555555555555556,\"#d8576b\"],[0.6666666666666666,\"#ed7953\"],[0.7777777777777778,\"#fb9f3a\"],[0.8888888888888888,\"#fdca26\"],[1.0,\"#f0f921\"]]}],\"heatmapgl\":[{\"type\":\"heatmapgl\",\"colorbar\":{\"outlinewidth\":0,\"ticks\":\"\"},\"colorscale\":[[0.0,\"#0d0887\"],[0.1111111111111111,\"#46039f\"],[0.2222222222222222,\"#7201a8\"],[0.3333333333333333,\"#9c179e\"],[0.4444444444444444,\"#bd3786\"],[0.5555555555555556,\"#d8576b\"],[0.6666666666666666,\"#ed7953\"],[0.7777777777777778,\"#fb9f3a\"],[0.8888888888888888,\"#fdca26\"],[1.0,\"#f0f921\"]]}],\"contourcarpet\":[{\"type\":\"contourcarpet\",\"colorbar\":{\"outlinewidth\":0,\"ticks\":\"\"}}],\"contour\":[{\"type\":\"contour\",\"colorbar\":{\"outlinewidth\":0,\"ticks\":\"\"},\"colorscale\":[[0.0,\"#0d0887\"],[0.1111111111111111,\"#46039f\"],[0.2222222222222222,\"#7201a8\"],[0.3333333333333333,\"#9c179e\"],[0.4444444444444444,\"#bd3786\"],[0.5555555555555556,\"#d8576b\"],[0.6666666666666666,\"#ed7953\"],[0.7777777777777778,\"#fb9f3a\"],[0.8888888888888888,\"#fdca26\"],[1.0,\"#f0f921\"]]}],\"surface\":[{\"type\":\"surface\",\"colorbar\":{\"outlinewidth\":0,\"ticks\":\"\"},\"colorscale\":[[0.0,\"#0d0887\"],[0.1111111111111111,\"#46039f\"],[0.2222222222222222,\"#7201a8\"],[0.3333333333333333,\"#9c179e\"],[0.4444444444444444,\"#bd3786\"],[0.5555555555555556,\"#d8576b\"],[0.6666666666666666,\"#ed7953\"],[0.7777777777777778,\"#fb9f3a\"],[0.8888888888888888,\"#fdca26\"],[1.0,\"#f0f921\"]]}],\"mesh3d\":[{\"type\":\"mesh3d\",\"colorbar\":{\"outlinewidth\":0,\"ticks\":\"\"}}],\"scatter\":[{\"fillpattern\":{\"fillmode\":\"overlay\",\"size\":10,\"solidity\":0.2},\"type\":\"scatter\"}],\"parcoords\":[{\"type\":\"parcoords\",\"line\":{\"colorbar\":{\"outlinewidth\":0,\"ticks\":\"\"}}}],\"scatterpolargl\":[{\"type\":\"scatterpolargl\",\"marker\":{\"colorbar\":{\"outlinewidth\":0,\"ticks\":\"\"}}}],\"bar\":[{\"error_x\":{\"color\":\"#2a3f5f\"},\"error_y\":{\"color\":\"#2a3f5f\"},\"marker\":{\"line\":{\"color\":\"#E5ECF6\",\"width\":0.5},\"pattern\":{\"fillmode\":\"overlay\",\"size\":10,\"solidity\":0.2}},\"type\":\"bar\"}],\"scattergeo\":[{\"type\":\"scattergeo\",\"marker\":{\"colorbar\":{\"outlinewidth\":0,\"ticks\":\"\"}}}],\"scatterpolar\":[{\"type\":\"scatterpolar\",\"marker\":{\"colorbar\":{\"outlinewidth\":0,\"ticks\":\"\"}}}],\"histogram\":[{\"marker\":{\"pattern\":{\"fillmode\":\"overlay\",\"size\":10,\"solidity\":0.2}},\"type\":\"histogram\"}],\"scattergl\":[{\"type\":\"scattergl\",\"marker\":{\"colorbar\":{\"outlinewidth\":0,\"ticks\":\"\"}}}],\"scatter3d\":[{\"type\":\"scatter3d\",\"line\":{\"colorbar\":{\"outlinewidth\":0,\"ticks\":\"\"}},\"marker\":{\"colorbar\":{\"outlinewidth\":0,\"ticks\":\"\"}}}],\"scattermapbox\":[{\"type\":\"scattermapbox\",\"marker\":{\"colorbar\":{\"outlinewidth\":0,\"ticks\":\"\"}}}],\"scatterternary\":[{\"type\":\"scatterternary\",\"marker\":{\"colorbar\":{\"outlinewidth\":0,\"ticks\":\"\"}}}],\"scattercarpet\":[{\"type\":\"scattercarpet\",\"marker\":{\"colorbar\":{\"outlinewidth\":0,\"ticks\":\"\"}}}],\"carpet\":[{\"aaxis\":{\"endlinecolor\":\"#2a3f5f\",\"gridcolor\":\"white\",\"linecolor\":\"white\",\"minorgridcolor\":\"white\",\"startlinecolor\":\"#2a3f5f\"},\"baxis\":{\"endlinecolor\":\"#2a3f5f\",\"gridcolor\":\"white\",\"linecolor\":\"white\",\"minorgridcolor\":\"white\",\"startlinecolor\":\"#2a3f5f\"},\"type\":\"carpet\"}],\"table\":[{\"cells\":{\"fill\":{\"color\":\"#EBF0F8\"},\"line\":{\"color\":\"white\"}},\"header\":{\"fill\":{\"color\":\"#C8D4E3\"},\"line\":{\"color\":\"white\"}},\"type\":\"table\"}],\"barpolar\":[{\"marker\":{\"line\":{\"color\":\"#E5ECF6\",\"width\":0.5},\"pattern\":{\"fillmode\":\"overlay\",\"size\":10,\"solidity\":0.2}},\"type\":\"barpolar\"}],\"pie\":[{\"automargin\":true,\"type\":\"pie\"}]},\"layout\":{\"autotypenumbers\":\"strict\",\"colorway\":[\"#636efa\",\"#EF553B\",\"#00cc96\",\"#ab63fa\",\"#FFA15A\",\"#19d3f3\",\"#FF6692\",\"#B6E880\",\"#FF97FF\",\"#FECB52\"],\"font\":{\"color\":\"#2a3f5f\"},\"hovermode\":\"closest\",\"hoverlabel\":{\"align\":\"left\"},\"paper_bgcolor\":\"white\",\"plot_bgcolor\":\"#E5ECF6\",\"polar\":{\"bgcolor\":\"#E5ECF6\",\"angularaxis\":{\"gridcolor\":\"white\",\"linecolor\":\"white\",\"ticks\":\"\"},\"radialaxis\":{\"gridcolor\":\"white\",\"linecolor\":\"white\",\"ticks\":\"\"}},\"ternary\":{\"bgcolor\":\"#E5ECF6\",\"aaxis\":{\"gridcolor\":\"white\",\"linecolor\":\"white\",\"ticks\":\"\"},\"baxis\":{\"gridcolor\":\"white\",\"linecolor\":\"white\",\"ticks\":\"\"},\"caxis\":{\"gridcolor\":\"white\",\"linecolor\":\"white\",\"ticks\":\"\"}},\"coloraxis\":{\"colorbar\":{\"outlinewidth\":0,\"ticks\":\"\"}},\"colorscale\":{\"sequential\":[[0.0,\"#0d0887\"],[0.1111111111111111,\"#46039f\"],[0.2222222222222222,\"#7201a8\"],[0.3333333333333333,\"#9c179e\"],[0.4444444444444444,\"#bd3786\"],[0.5555555555555556,\"#d8576b\"],[0.6666666666666666,\"#ed7953\"],[0.7777777777777778,\"#fb9f3a\"],[0.8888888888888888,\"#fdca26\"],[1.0,\"#f0f921\"]],\"sequentialminus\":[[0.0,\"#0d0887\"],[0.1111111111111111,\"#46039f\"],[0.2222222222222222,\"#7201a8\"],[0.3333333333333333,\"#9c179e\"],[0.4444444444444444,\"#bd3786\"],[0.5555555555555556,\"#d8576b\"],[0.6666666666666666,\"#ed7953\"],[0.7777777777777778,\"#fb9f3a\"],[0.8888888888888888,\"#fdca26\"],[1.0,\"#f0f921\"]],\"diverging\":[[0,\"#8e0152\"],[0.1,\"#c51b7d\"],[0.2,\"#de77ae\"],[0.3,\"#f1b6da\"],[0.4,\"#fde0ef\"],[0.5,\"#f7f7f7\"],[0.6,\"#e6f5d0\"],[0.7,\"#b8e186\"],[0.8,\"#7fbc41\"],[0.9,\"#4d9221\"],[1,\"#276419\"]]},\"xaxis\":{\"gridcolor\":\"white\",\"linecolor\":\"white\",\"ticks\":\"\",\"title\":{\"standoff\":15},\"zerolinecolor\":\"white\",\"automargin\":true,\"zerolinewidth\":2},\"yaxis\":{\"gridcolor\":\"white\",\"linecolor\":\"white\",\"ticks\":\"\",\"title\":{\"standoff\":15},\"zerolinecolor\":\"white\",\"automargin\":true,\"zerolinewidth\":2},\"scene\":{\"xaxis\":{\"backgroundcolor\":\"#E5ECF6\",\"gridcolor\":\"white\",\"linecolor\":\"white\",\"showbackground\":true,\"ticks\":\"\",\"zerolinecolor\":\"white\",\"gridwidth\":2},\"yaxis\":{\"backgroundcolor\":\"#E5ECF6\",\"gridcolor\":\"white\",\"linecolor\":\"white\",\"showbackground\":true,\"ticks\":\"\",\"zerolinecolor\":\"white\",\"gridwidth\":2},\"zaxis\":{\"backgroundcolor\":\"#E5ECF6\",\"gridcolor\":\"white\",\"linecolor\":\"white\",\"showbackground\":true,\"ticks\":\"\",\"zerolinecolor\":\"white\",\"gridwidth\":2}},\"shapedefaults\":{\"line\":{\"color\":\"#2a3f5f\"}},\"annotationdefaults\":{\"arrowcolor\":\"#2a3f5f\",\"arrowhead\":0,\"arrowwidth\":1},\"geo\":{\"bgcolor\":\"white\",\"landcolor\":\"#E5ECF6\",\"subunitcolor\":\"white\",\"showland\":true,\"showlakes\":true,\"lakecolor\":\"white\"},\"title\":{\"x\":0.05},\"mapbox\":{\"style\":\"light\"}}},\"xaxis\":{\"anchor\":\"y\",\"domain\":[0.0,1.0],\"title\":{\"text\":\"Season\"}},\"yaxis\":{\"anchor\":\"x\",\"domain\":[0.0,1.0],\"title\":{\"text\":\"Number of Goals\\u26bd\"}},\"legend\":{\"tracegroupgap\":0},\"title\":{\"text\":\"CR7's Highest-Scoring Seasons \\u26bd\\ud83d\\udd1d\"},\"barmode\":\"relative\"},                        {\"responsive\": true}                    ).then(function(){\n",
              "                            \n",
              "var gd = document.getElementById('2b61c650-b053-4562-8f0d-afb249f6b343');\n",
              "var x = new MutationObserver(function (mutations, observer) {{\n",
              "        var display = window.getComputedStyle(gd).display;\n",
              "        if (!display || display === 'none') {{\n",
              "            console.log([gd, 'removed!']);\n",
              "            Plotly.purge(gd);\n",
              "            observer.disconnect();\n",
              "        }}\n",
              "}});\n",
              "\n",
              "// Listen for the removal of the full notebook cells\n",
              "var notebookContainer = gd.closest('#notebook-container');\n",
              "if (notebookContainer) {{\n",
              "    x.observe(notebookContainer, {childList: true});\n",
              "}}\n",
              "\n",
              "// Listen for the clearing of the current output cell\n",
              "var outputEl = gd.closest('.output');\n",
              "if (outputEl) {{\n",
              "    x.observe(outputEl, {childList: true});\n",
              "}}\n",
              "\n",
              "                        })                };                            </script>        </div>\n",
              "</body>\n",
              "</html>"
            ]
          },
          "metadata": {}
        }
      ],
      "source": [
        "top_seasons = df.groupby(['Season', 'Club']).size().reset_index(name = 'Goals').sort_values(by = 'Goals', ascending=False)[:5]\n",
        "fig = px.bar(top_seasons, x='Season', y='Goals', title=\"CR7's Highest-Scoring Seasons ⚽🔝\",\n",
        "             labels={'Club': 'Football Club', 'Goals': 'Number of Goals⚽'}, text= 'Club')\n",
        "\n",
        "# Create a continuous color scale of green'\n",
        "num_bars = len(df['Club'])\n",
        "colors =  ['#645CBB', '#7C6CC1', '#9481C7', '#AB97CD', '#d6caed']\n",
        "\n",
        "# Manually update bar colors\n",
        "fig.update_traces(marker=dict(color=colors))\n",
        "# Show the plot\n",
        "fig.show()"
      ]
    },
    {
      "cell_type": "code",
      "execution_count": null,
      "id": "621f9395",
      "metadata": {
        "execution": {
          "iopub.execute_input": "2023-10-07T05:39:06.969165Z",
          "iopub.status.busy": "2023-10-07T05:39:06.968919Z",
          "iopub.status.idle": "2023-10-07T05:39:07.004413Z",
          "shell.execute_reply": "2023-10-07T05:39:07.003583Z"
        },
        "papermill": {
          "duration": 0.043846,
          "end_time": "2023-10-07T05:39:07.005713",
          "exception": false,
          "start_time": "2023-10-07T05:39:06.961867",
          "status": "completed"
        },
        "tags": [],
        "colab": {
          "base_uri": "https://localhost:8080/"
        },
        "id": "621f9395",
        "outputId": "167b9b8a-1fb8-48e0-aba7-73c78b58ff65"
      },
      "outputs": [
        {
          "output_type": "display_data",
          "data": {
            "text/html": [
              "<html>\n",
              "<head><meta charset=\"utf-8\" /></head>\n",
              "<body>\n",
              "    <div>            <script src=\"https://cdnjs.cloudflare.com/ajax/libs/mathjax/2.7.5/MathJax.js?config=TeX-AMS-MML_SVG\"></script><script type=\"text/javascript\">if (window.MathJax && window.MathJax.Hub && window.MathJax.Hub.Config) {window.MathJax.Hub.Config({SVG: {font: \"STIX-Web\"}});}</script>                <script type=\"text/javascript\">window.PlotlyConfig = {MathJaxConfig: 'local'};</script>\n",
              "        <script charset=\"utf-8\" src=\"https://cdn.plot.ly/plotly-2.24.1.min.js\"></script>                <div id=\"1bbe0d5b-5076-44fa-a1e2-bb32881edc22\" class=\"plotly-graph-div\" style=\"height:525px; width:100%;\"></div>            <script type=\"text/javascript\">                                    window.PLOTLYENV=window.PLOTLYENV || {};                                    if (document.getElementById(\"1bbe0d5b-5076-44fa-a1e2-bb32881edc22\")) {                    Plotly.newPlot(                        \"1bbe0d5b-5076-44fa-a1e2-bb32881edc22\",                        [{\"domain\":{\"x\":[0.0,1.0],\"y\":[0.0,1.0]},\"hovertemplate\":\"Type=%{label}\\u003cbr\\u003eNumber of Goals=%{value}\\u003cextra\\u003e\\u003c\\u002fextra\\u003e\",\"labels\":[\"Header\",\"Left-footed shot\",\"Long distance kick\",\"Other\",\"Penalty\",\"Right-footed shot\"],\"legendgroup\":\"\",\"name\":\"\",\"showlegend\":true,\"values\":[112,113,9,76,132,253],\"type\":\"pie\",\"text\":[\"Header\\u003cbr\\u003e112\",\"Left-footed shot\\u003cbr\\u003e113\",\"Long distance kick\\u003cbr\\u003e9\",\"Other\\u003cbr\\u003e76\",\"Penalty\\u003cbr\\u003e132\",\"Right-footed shot\\u003cbr\\u003e253\"],\"textinfo\":\"label+percent\"}],                        {\"template\":{\"data\":{\"histogram2dcontour\":[{\"type\":\"histogram2dcontour\",\"colorbar\":{\"outlinewidth\":0,\"ticks\":\"\"},\"colorscale\":[[0.0,\"#0d0887\"],[0.1111111111111111,\"#46039f\"],[0.2222222222222222,\"#7201a8\"],[0.3333333333333333,\"#9c179e\"],[0.4444444444444444,\"#bd3786\"],[0.5555555555555556,\"#d8576b\"],[0.6666666666666666,\"#ed7953\"],[0.7777777777777778,\"#fb9f3a\"],[0.8888888888888888,\"#fdca26\"],[1.0,\"#f0f921\"]]}],\"choropleth\":[{\"type\":\"choropleth\",\"colorbar\":{\"outlinewidth\":0,\"ticks\":\"\"}}],\"histogram2d\":[{\"type\":\"histogram2d\",\"colorbar\":{\"outlinewidth\":0,\"ticks\":\"\"},\"colorscale\":[[0.0,\"#0d0887\"],[0.1111111111111111,\"#46039f\"],[0.2222222222222222,\"#7201a8\"],[0.3333333333333333,\"#9c179e\"],[0.4444444444444444,\"#bd3786\"],[0.5555555555555556,\"#d8576b\"],[0.6666666666666666,\"#ed7953\"],[0.7777777777777778,\"#fb9f3a\"],[0.8888888888888888,\"#fdca26\"],[1.0,\"#f0f921\"]]}],\"heatmap\":[{\"type\":\"heatmap\",\"colorbar\":{\"outlinewidth\":0,\"ticks\":\"\"},\"colorscale\":[[0.0,\"#0d0887\"],[0.1111111111111111,\"#46039f\"],[0.2222222222222222,\"#7201a8\"],[0.3333333333333333,\"#9c179e\"],[0.4444444444444444,\"#bd3786\"],[0.5555555555555556,\"#d8576b\"],[0.6666666666666666,\"#ed7953\"],[0.7777777777777778,\"#fb9f3a\"],[0.8888888888888888,\"#fdca26\"],[1.0,\"#f0f921\"]]}],\"heatmapgl\":[{\"type\":\"heatmapgl\",\"colorbar\":{\"outlinewidth\":0,\"ticks\":\"\"},\"colorscale\":[[0.0,\"#0d0887\"],[0.1111111111111111,\"#46039f\"],[0.2222222222222222,\"#7201a8\"],[0.3333333333333333,\"#9c179e\"],[0.4444444444444444,\"#bd3786\"],[0.5555555555555556,\"#d8576b\"],[0.6666666666666666,\"#ed7953\"],[0.7777777777777778,\"#fb9f3a\"],[0.8888888888888888,\"#fdca26\"],[1.0,\"#f0f921\"]]}],\"contourcarpet\":[{\"type\":\"contourcarpet\",\"colorbar\":{\"outlinewidth\":0,\"ticks\":\"\"}}],\"contour\":[{\"type\":\"contour\",\"colorbar\":{\"outlinewidth\":0,\"ticks\":\"\"},\"colorscale\":[[0.0,\"#0d0887\"],[0.1111111111111111,\"#46039f\"],[0.2222222222222222,\"#7201a8\"],[0.3333333333333333,\"#9c179e\"],[0.4444444444444444,\"#bd3786\"],[0.5555555555555556,\"#d8576b\"],[0.6666666666666666,\"#ed7953\"],[0.7777777777777778,\"#fb9f3a\"],[0.8888888888888888,\"#fdca26\"],[1.0,\"#f0f921\"]]}],\"surface\":[{\"type\":\"surface\",\"colorbar\":{\"outlinewidth\":0,\"ticks\":\"\"},\"colorscale\":[[0.0,\"#0d0887\"],[0.1111111111111111,\"#46039f\"],[0.2222222222222222,\"#7201a8\"],[0.3333333333333333,\"#9c179e\"],[0.4444444444444444,\"#bd3786\"],[0.5555555555555556,\"#d8576b\"],[0.6666666666666666,\"#ed7953\"],[0.7777777777777778,\"#fb9f3a\"],[0.8888888888888888,\"#fdca26\"],[1.0,\"#f0f921\"]]}],\"mesh3d\":[{\"type\":\"mesh3d\",\"colorbar\":{\"outlinewidth\":0,\"ticks\":\"\"}}],\"scatter\":[{\"fillpattern\":{\"fillmode\":\"overlay\",\"size\":10,\"solidity\":0.2},\"type\":\"scatter\"}],\"parcoords\":[{\"type\":\"parcoords\",\"line\":{\"colorbar\":{\"outlinewidth\":0,\"ticks\":\"\"}}}],\"scatterpolargl\":[{\"type\":\"scatterpolargl\",\"marker\":{\"colorbar\":{\"outlinewidth\":0,\"ticks\":\"\"}}}],\"bar\":[{\"error_x\":{\"color\":\"#2a3f5f\"},\"error_y\":{\"color\":\"#2a3f5f\"},\"marker\":{\"line\":{\"color\":\"#E5ECF6\",\"width\":0.5},\"pattern\":{\"fillmode\":\"overlay\",\"size\":10,\"solidity\":0.2}},\"type\":\"bar\"}],\"scattergeo\":[{\"type\":\"scattergeo\",\"marker\":{\"colorbar\":{\"outlinewidth\":0,\"ticks\":\"\"}}}],\"scatterpolar\":[{\"type\":\"scatterpolar\",\"marker\":{\"colorbar\":{\"outlinewidth\":0,\"ticks\":\"\"}}}],\"histogram\":[{\"marker\":{\"pattern\":{\"fillmode\":\"overlay\",\"size\":10,\"solidity\":0.2}},\"type\":\"histogram\"}],\"scattergl\":[{\"type\":\"scattergl\",\"marker\":{\"colorbar\":{\"outlinewidth\":0,\"ticks\":\"\"}}}],\"scatter3d\":[{\"type\":\"scatter3d\",\"line\":{\"colorbar\":{\"outlinewidth\":0,\"ticks\":\"\"}},\"marker\":{\"colorbar\":{\"outlinewidth\":0,\"ticks\":\"\"}}}],\"scattermapbox\":[{\"type\":\"scattermapbox\",\"marker\":{\"colorbar\":{\"outlinewidth\":0,\"ticks\":\"\"}}}],\"scatterternary\":[{\"type\":\"scatterternary\",\"marker\":{\"colorbar\":{\"outlinewidth\":0,\"ticks\":\"\"}}}],\"scattercarpet\":[{\"type\":\"scattercarpet\",\"marker\":{\"colorbar\":{\"outlinewidth\":0,\"ticks\":\"\"}}}],\"carpet\":[{\"aaxis\":{\"endlinecolor\":\"#2a3f5f\",\"gridcolor\":\"white\",\"linecolor\":\"white\",\"minorgridcolor\":\"white\",\"startlinecolor\":\"#2a3f5f\"},\"baxis\":{\"endlinecolor\":\"#2a3f5f\",\"gridcolor\":\"white\",\"linecolor\":\"white\",\"minorgridcolor\":\"white\",\"startlinecolor\":\"#2a3f5f\"},\"type\":\"carpet\"}],\"table\":[{\"cells\":{\"fill\":{\"color\":\"#EBF0F8\"},\"line\":{\"color\":\"white\"}},\"header\":{\"fill\":{\"color\":\"#C8D4E3\"},\"line\":{\"color\":\"white\"}},\"type\":\"table\"}],\"barpolar\":[{\"marker\":{\"line\":{\"color\":\"#E5ECF6\",\"width\":0.5},\"pattern\":{\"fillmode\":\"overlay\",\"size\":10,\"solidity\":0.2}},\"type\":\"barpolar\"}],\"pie\":[{\"automargin\":true,\"type\":\"pie\"}]},\"layout\":{\"autotypenumbers\":\"strict\",\"colorway\":[\"#636efa\",\"#EF553B\",\"#00cc96\",\"#ab63fa\",\"#FFA15A\",\"#19d3f3\",\"#FF6692\",\"#B6E880\",\"#FF97FF\",\"#FECB52\"],\"font\":{\"color\":\"#2a3f5f\"},\"hovermode\":\"closest\",\"hoverlabel\":{\"align\":\"left\"},\"paper_bgcolor\":\"white\",\"plot_bgcolor\":\"#E5ECF6\",\"polar\":{\"bgcolor\":\"#E5ECF6\",\"angularaxis\":{\"gridcolor\":\"white\",\"linecolor\":\"white\",\"ticks\":\"\"},\"radialaxis\":{\"gridcolor\":\"white\",\"linecolor\":\"white\",\"ticks\":\"\"}},\"ternary\":{\"bgcolor\":\"#E5ECF6\",\"aaxis\":{\"gridcolor\":\"white\",\"linecolor\":\"white\",\"ticks\":\"\"},\"baxis\":{\"gridcolor\":\"white\",\"linecolor\":\"white\",\"ticks\":\"\"},\"caxis\":{\"gridcolor\":\"white\",\"linecolor\":\"white\",\"ticks\":\"\"}},\"coloraxis\":{\"colorbar\":{\"outlinewidth\":0,\"ticks\":\"\"}},\"colorscale\":{\"sequential\":[[0.0,\"#0d0887\"],[0.1111111111111111,\"#46039f\"],[0.2222222222222222,\"#7201a8\"],[0.3333333333333333,\"#9c179e\"],[0.4444444444444444,\"#bd3786\"],[0.5555555555555556,\"#d8576b\"],[0.6666666666666666,\"#ed7953\"],[0.7777777777777778,\"#fb9f3a\"],[0.8888888888888888,\"#fdca26\"],[1.0,\"#f0f921\"]],\"sequentialminus\":[[0.0,\"#0d0887\"],[0.1111111111111111,\"#46039f\"],[0.2222222222222222,\"#7201a8\"],[0.3333333333333333,\"#9c179e\"],[0.4444444444444444,\"#bd3786\"],[0.5555555555555556,\"#d8576b\"],[0.6666666666666666,\"#ed7953\"],[0.7777777777777778,\"#fb9f3a\"],[0.8888888888888888,\"#fdca26\"],[1.0,\"#f0f921\"]],\"diverging\":[[0,\"#8e0152\"],[0.1,\"#c51b7d\"],[0.2,\"#de77ae\"],[0.3,\"#f1b6da\"],[0.4,\"#fde0ef\"],[0.5,\"#f7f7f7\"],[0.6,\"#e6f5d0\"],[0.7,\"#b8e186\"],[0.8,\"#7fbc41\"],[0.9,\"#4d9221\"],[1,\"#276419\"]]},\"xaxis\":{\"gridcolor\":\"white\",\"linecolor\":\"white\",\"ticks\":\"\",\"title\":{\"standoff\":15},\"zerolinecolor\":\"white\",\"automargin\":true,\"zerolinewidth\":2},\"yaxis\":{\"gridcolor\":\"white\",\"linecolor\":\"white\",\"ticks\":\"\",\"title\":{\"standoff\":15},\"zerolinecolor\":\"white\",\"automargin\":true,\"zerolinewidth\":2},\"scene\":{\"xaxis\":{\"backgroundcolor\":\"#E5ECF6\",\"gridcolor\":\"white\",\"linecolor\":\"white\",\"showbackground\":true,\"ticks\":\"\",\"zerolinecolor\":\"white\",\"gridwidth\":2},\"yaxis\":{\"backgroundcolor\":\"#E5ECF6\",\"gridcolor\":\"white\",\"linecolor\":\"white\",\"showbackground\":true,\"ticks\":\"\",\"zerolinecolor\":\"white\",\"gridwidth\":2},\"zaxis\":{\"backgroundcolor\":\"#E5ECF6\",\"gridcolor\":\"white\",\"linecolor\":\"white\",\"showbackground\":true,\"ticks\":\"\",\"zerolinecolor\":\"white\",\"gridwidth\":2}},\"shapedefaults\":{\"line\":{\"color\":\"#2a3f5f\"}},\"annotationdefaults\":{\"arrowcolor\":\"#2a3f5f\",\"arrowhead\":0,\"arrowwidth\":1},\"geo\":{\"bgcolor\":\"white\",\"landcolor\":\"#E5ECF6\",\"subunitcolor\":\"white\",\"showland\":true,\"showlakes\":true,\"lakecolor\":\"white\"},\"title\":{\"x\":0.05},\"mapbox\":{\"style\":\"light\"}}},\"legend\":{\"tracegroupgap\":0},\"title\":{\"text\":\"CR7 Goals percentage by Type %\\u26bd\\ud83e\\udd45%\"}},                        {\"responsive\": true}                    ).then(function(){\n",
              "                            \n",
              "var gd = document.getElementById('1bbe0d5b-5076-44fa-a1e2-bb32881edc22');\n",
              "var x = new MutationObserver(function (mutations, observer) {{\n",
              "        var display = window.getComputedStyle(gd).display;\n",
              "        if (!display || display === 'none') {{\n",
              "            console.log([gd, 'removed!']);\n",
              "            Plotly.purge(gd);\n",
              "            observer.disconnect();\n",
              "        }}\n",
              "}});\n",
              "\n",
              "// Listen for the removal of the full notebook cells\n",
              "var notebookContainer = gd.closest('#notebook-container');\n",
              "if (notebookContainer) {{\n",
              "    x.observe(notebookContainer, {childList: true});\n",
              "}}\n",
              "\n",
              "// Listen for the clearing of the current output cell\n",
              "var outputEl = gd.closest('.output');\n",
              "if (outputEl) {{\n",
              "    x.observe(outputEl, {childList: true});\n",
              "}}\n",
              "\n",
              "                        })                };                            </script>        </div>\n",
              "</body>\n",
              "</html>"
            ]
          },
          "metadata": {}
        }
      ],
      "source": [
        "#Ronaldo's Goals percentage by Type %🥅%.\n",
        "goals_type = df.groupby('Type').size().reset_index(name = 'Goals') #counting how many goals for each type\n",
        "types = ['Penalty', 'Header', 'Right-footed shot', 'Left-footed shot', 'Long distance kick'] #the most common types to compare\n",
        "#This will group the goal types as specified and sum up their respective goals.\n",
        "goals_type['Type'] = goals_type['Type'].apply(lambda x: 'Other' if x not in types else x)\n",
        "goals_type = goals_type.groupby('Type').sum().reset_index()\n",
        "\n",
        "fig = px.pie(goals_type,\n",
        "             names='Type',\n",
        "             values='Goals',\n",
        "             title=\"CR7 Goals percentage by Type %⚽🥅%\",\n",
        "             labels={'Type':'Type', 'Goals':'Number of Goals'})\n",
        "\n",
        "# Create a custom text label that combines the club name and the number of goals\n",
        "custom_label = goals_type.apply(lambda row: f\"{row['Type']}<br>{row['Goals']}\", axis=1)\n",
        "\n",
        "# Customize the text labels\n",
        "fig.update_traces(textinfo=\"label+percent\", text=custom_label)\n",
        "\n",
        "# Show the plot\n",
        "fig.show()"
      ]
    },
    {
      "cell_type": "code",
      "execution_count": null,
      "id": "1f0d2d49",
      "metadata": {
        "execution": {
          "iopub.execute_input": "2023-10-07T05:39:07.020921Z",
          "iopub.status.busy": "2023-10-07T05:39:07.020569Z",
          "iopub.status.idle": "2023-10-07T05:39:07.070411Z",
          "shell.execute_reply": "2023-10-07T05:39:07.069849Z"
        },
        "papermill": {
          "duration": 0.059019,
          "end_time": "2023-10-07T05:39:07.071834",
          "exception": false,
          "start_time": "2023-10-07T05:39:07.012815",
          "status": "completed"
        },
        "tags": [],
        "colab": {
          "base_uri": "https://localhost:8080/"
        },
        "id": "1f0d2d49",
        "outputId": "3c149942-182f-4987-af00-ad42735ee55a"
      },
      "outputs": [
        {
          "output_type": "display_data",
          "data": {
            "text/html": [
              "<html>\n",
              "<head><meta charset=\"utf-8\" /></head>\n",
              "<body>\n",
              "    <div>            <script src=\"https://cdnjs.cloudflare.com/ajax/libs/mathjax/2.7.5/MathJax.js?config=TeX-AMS-MML_SVG\"></script><script type=\"text/javascript\">if (window.MathJax && window.MathJax.Hub && window.MathJax.Hub.Config) {window.MathJax.Hub.Config({SVG: {font: \"STIX-Web\"}});}</script>                <script type=\"text/javascript\">window.PlotlyConfig = {MathJaxConfig: 'local'};</script>\n",
              "        <script charset=\"utf-8\" src=\"https://cdn.plot.ly/plotly-2.24.1.min.js\"></script>                <div id=\"cc39e62d-3486-4f2b-a28d-0100096fe228\" class=\"plotly-graph-div\" style=\"height:500px; width:800px;\"></div>            <script type=\"text/javascript\">                                    window.PLOTLYENV=window.PLOTLYENV || {};                                    if (document.getElementById(\"cc39e62d-3486-4f2b-a28d-0100096fe228\")) {                    Plotly.newPlot(                        \"cc39e62d-3486-4f2b-a28d-0100096fe228\",                        [{\"alignmentgroup\":\"True\",\"bingroup\":\"x\",\"hovertemplate\":\"Club=Sporting CP\\u003cbr\\u003eVenue=%{x}\\u003cbr\\u003ecount=%{y}\\u003cextra\\u003e\\u003c\\u002fextra\\u003e\",\"legendgroup\":\"Sporting CP\",\"marker\":{\"color\":\"green\",\"pattern\":{\"shape\":\"\"}},\"name\":\"Sporting CP\",\"offsetgroup\":\"Sporting CP\",\"orientation\":\"v\",\"showlegend\":true,\"x\":[\"H\",\"H\",\"A\",\"H\",\"H\"],\"xaxis\":\"x\",\"yaxis\":\"y\",\"type\":\"histogram\"},{\"alignmentgroup\":\"True\",\"bingroup\":\"x\",\"hovertemplate\":\"Club=Manchester United\\u003cbr\\u003eVenue=%{x}\\u003cbr\\u003ecount=%{y}\\u003cextra\\u003e\\u003c\\u002fextra\\u003e\",\"legendgroup\":\"Manchester United\",\"marker\":{\"color\":\"#C70039\",\"pattern\":{\"shape\":\"\"}},\"name\":\"Manchester United\",\"offsetgroup\":\"Manchester United\",\"orientation\":\"v\",\"showlegend\":true,\"x\":[\"H\",\"H\",\"H\",\"A\",\"A\",\"H\",\"H\",\"A\",\"H\",\"A\",\"A\",\"A\",\"A\",\"H\",\"A\",\"H\",\"A\",\"H\",\"H\",\"H\",\"H\",\"H\",\"A\",\"A\",\"H\",\"A\",\"H\",\"H\",\"A\",\"A\",\"H\",\"H\",\"H\",\"A\",\"A\",\"H\",\"H\",\"H\",\"H\",\"H\",\"H\",\"A\",\"A\",\"A\",\"H\",\"H\",\"H\",\"A\",\"H\",\"A\",\"A\",\"A\",\"H\",\"H\",\"A\",\"A\",\"A\",\"H\",\"H\",\"H\",\"H\",\"H\",\"H\",\"H\",\"H\",\"H\",\"A\",\"A\",\"A\",\"H\",\"H\",\"H\",\"A\",\"H\",\"H\",\"H\",\"H\",\"A\",\"A\",\"H\",\"A\",\"H\",\"H\",\"H\",\"H\",\"A\",\"A\",\"H\",\"H\",\"H\",\"A\",\"H\",\"H\",\"H\",\"H\",\"H\",\"H\",\"H\",\"H\",\"H\",\"H\",\"A\",\"H\",\"A\",\"A\",\"H\",\"A\",\"H\",\"H\",\"H\",\"H\",\"H\",\"A\",\"H\",\"H\",\"A\",\"A\",\"H\",\"H\",\"H\",\"A\",\"A\",\"H\",\"H\",\"A\",\"A\",\"A\",\"A\",\"H\",\"H\",\"A\",\"H\",\"H\",\"H\",\"H\",\"H\",\"H\",\"H\",\"H\",\"A\",\"H\",\"H\",\"A\",\"A\",\"H\"],\"xaxis\":\"x\",\"yaxis\":\"y\",\"type\":\"histogram\"},{\"alignmentgroup\":\"True\",\"bingroup\":\"x\",\"hovertemplate\":\"Club=Real Madrid\\u003cbr\\u003eVenue=%{x}\\u003cbr\\u003ecount=%{y}\\u003cextra\\u003e\\u003c\\u002fextra\\u003e\",\"legendgroup\":\"Real Madrid\",\"marker\":{\"color\":\"#4D2DB7\",\"pattern\":{\"shape\":\"\"}},\"name\":\"Real Madrid\",\"offsetgroup\":\"Real Madrid\",\"orientation\":\"v\",\"showlegend\":true,\"x\":[\"H\",\"A\",\"A\",\"A\",\"H\",\"H\",\"A\",\"H\",\"H\",\"H\",\"A\",\"A\",\"H\",\"H\",\"H\",\"A\",\"A\",\"H\",\"A\",\"H\",\"H\",\"A\",\"A\",\"A\",\"A\",\"A\",\"H\",\"H\",\"H\",\"A\",\"A\",\"A\",\"H\",\"H\",\"H\",\"H\",\"A\",\"A\",\"H\",\"H\",\"H\",\"H\",\"H\",\"A\",\"A\",\"H\",\"H\",\"H\",\"H\",\"A\",\"A\",\"H\",\"H\",\"H\",\"A\",\"H\",\"H\",\"H\",\"A\",\"A\",\"H\",\"H\",\"H\",\"H\",\"A\",\"H\",\"H\",\"H\",\"H\",\"H\",\"H\",\"A\",\"A\",\"H\",\"A\",\"A\",\"A\",\"A\",\"A\",\"H\",\"H\",\"H\",\"A\",\"A\",\"H\",\"H\",\"A\",\"A\",\"A\",\"A\",\"H\",\"H\",\"H\",\"H\",\"H\",\"A\",\"A\",\"A\",\"A\",\"A\",\"H\",\"H\",\"H\",\"A\",\"H\",\"H\",\"A\",\"A\",\"A\",\"A\",\"A\",\"H\",\"H\",\"H\",\"H\",\"A\",\"H\",\"H\",\"H\",\"H\",\"H\",\"A\",\"A\",\"H\",\"A\",\"A\",\"H\",\"H\",\"A\",\"H\",\"H\",\"A\",\"A\",\"H\",\"H\",\"A\",\"A\",\"A\",\"H\",\"A\",\"H\",\"H\",\"H\",\"A\",\"A\",\"H\",\"A\",\"H\",\"H\",\"H\",\"H\",\"A\",\"H\",\"H\",\"H\",\"A\",\"A\",\"A\",\"A\",\"A\",\"H\",\"A\",\"A\",\"A\",\"A\",\"H\",\"H\",\"A\",\"H\",\"H\",\"H\",\"H\",\"H\",\"H\",\"A\",\"A\",\"H\",\"H\",\"H\",\"H\",\"H\",\"H\",\"H\",\"A\",\"A\",\"A\",\"A\",\"A\",\"H\",\"A\",\"H\",\"H\",\"A\",\"A\",\"A\",\"A\",\"A\",\"H\",\"H\",\"H\",\"A\",\"H\",\"A\",\"A\",\"A\",\"A\",\"H\",\"H\",\"A\",\"A\",\"H\",\"H\",\"A\",\"H\",\"H\",\"H\",\"H\",\"H\",\"H\",\"A\",\"A\",\"A\",\"H\",\"H\",\"H\",\"A\",\"A\",\"A\",\"H\",\"H\",\"A\",\"A\",\"H\",\"A\",\"A\",\"A\",\"A\",\"A\",\"H\",\"A\",\"H\",\"H\",\"H\",\"A\",\"H\",\"H\",\"H\",\"H\",\"A\",\"A\",\"H\",\"H\",\"H\",\"H\",\"H\",\"H\",\"H\",\"A\",\"A\",\"A\",\"H\",\"H\",\"H\",\"H\",\"A\",\"A\",\"H\",\"H\",\"H\",\"A\",\"A\",\"A\",\"H\",\"A\",\"H\",\"A\",\"A\",\"A\",\"H\",\"H\",\"H\",\"H\",\"A\",\"A\",\"A\",\"H\",\"A\",\"A\",\"A\",\"A\",\"H\",\"H\",\"H\",\"A\",\"H\",\"H\",\"H\",\"H\",\"H\",\"A\",\"H\",\"H\",\"A\",\"A\",\"A\",\"A\",\"H\",\"A\",\"A\",\"A\",\"H\",\"H\",\"H\",\"A\",\"A\",\"A\",\"A\",\"A\",\"H\",\"H\",\"H\",\"A\",\"A\",\"H\",\"A\",\"H\",\"A\",\"A\",\"A\",\"H\",\"H\",\"H\",\"H\",\"H\",\"H\",\"H\",\"H\",\"H\",\"H\",\"H\",\"H\",\"H\",\"H\",\"H\",\"H\",\"A\",\"A\",\"A\",\"H\",\"H\",\"H\",\"H\",\"H\",\"H\",\"A\",\"H\",\"H\",\"H\",\"H\",\"A\",\"H\",\"H\",\"A\",\"A\",\"H\",\"H\",\"A\",\"A\",\"A\",\"A\",\"A\",\"A\",\"A\",\"A\",\"H\",\"H\",\"A\",\"H\",\"H\",\"H\",\"H\",\"A\",\"A\",\"H\",\"A\",\"A\",\"A\",\"H\",\"H\",\"H\",\"A\",\"A\",\"H\",\"H\",\"H\",\"H\",\"H\",\"H\",\"H\",\"H\",\"H\",\"A\",\"A\",\"A\",\"A\",\"A\",\"A\",\"H\",\"H\",\"A\",\"A\",\"A\",\"H\",\"A\",\"A\",\"A\",\"H\",\"H\",\"H\",\"H\",\"A\",\"H\",\"H\",\"H\",\"A\",\"A\",\"H\",\"H\",\"H\",\"H\",\"H\",\"A\",\"H\",\"H\",\"H\",\"H\",\"A\",\"A\",\"A\",\"H\",\"H\",\"H\",\"H\",\"A\",\"A\",\"H\",\"H\",\"H\",\"A\",\"A\"],\"xaxis\":\"x\",\"yaxis\":\"y\",\"type\":\"histogram\"},{\"alignmentgroup\":\"True\",\"bingroup\":\"x\",\"hovertemplate\":\"Club=Juventus FC\\u003cbr\\u003eVenue=%{x}\\u003cbr\\u003ecount=%{y}\\u003cextra\\u003e\\u003c\\u002fextra\\u003e\",\"legendgroup\":\"Juventus FC\",\"marker\":{\"color\":\"#040D12\",\"pattern\":{\"shape\":\"\"}},\"name\":\"Juventus FC\",\"offsetgroup\":\"Juventus FC\",\"orientation\":\"v\",\"showlegend\":true,\"x\":[\"H\",\"H\",\"A\",\"A\",\"H\",\"A\",\"A\",\"H\",\"A\",\"H\",\"A\",\"A\",\"A\",\"H\",\"H\",\"H\",\"A\",\"H\",\"H\",\"A\",\"H\",\"H\",\"H\",\"H\",\"A\",\"H\",\"A\",\"H\",\"H\",\"H\",\"H\",\"H\",\"H\",\"H\",\"H\",\"A\",\"A\",\"H\",\"H\",\"A\",\"H\",\"H\",\"H\",\"A\",\"H\",\"H\",\"H\",\"A\",\"H\",\"H\",\"A\",\"A\",\"A\",\"A\",\"H\",\"A\",\"H\",\"A\",\"H\",\"H\",\"H\",\"H\",\"H\",\"H\",\"H\",\"H\",\"A\",\"A\",\"A\",\"A\",\"A\",\"H\",\"H\",\"H\",\"H\",\"A\",\"A\",\"A\",\"A\",\"A\",\"A\",\"H\",\"H\",\"H\",\"H\",\"A\",\"A\",\"H\",\"H\",\"H\",\"A\",\"H\",\"A\",\"A\",\"A\",\"A\",\"H\",\"A\",\"A\",\"A\",\"H\"],\"xaxis\":\"x\",\"yaxis\":\"y\",\"type\":\"histogram\"},{\"alignmentgroup\":\"True\",\"bingroup\":\"x\",\"hovertemplate\":\"Club=Al-Nassr FC\\u003cbr\\u003eVenue=%{x}\\u003cbr\\u003ecount=%{y}\\u003cextra\\u003e\\u003c\\u002fextra\\u003e\",\"legendgroup\":\"Al-Nassr FC\",\"marker\":{\"color\":\"#F8DE22\",\"pattern\":{\"shape\":\"\"}},\"name\":\"Al-Nassr FC\",\"offsetgroup\":\"Al-Nassr FC\",\"orientation\":\"v\",\"showlegend\":true,\"x\":[\"A\",\"A\",\"A\",\"A\",\"A\",\"A\",\"A\",\"A\",\"H\"],\"xaxis\":\"x\",\"yaxis\":\"y\",\"type\":\"histogram\"}],                        {\"template\":{\"data\":{\"histogram2dcontour\":[{\"type\":\"histogram2dcontour\",\"colorbar\":{\"outlinewidth\":0,\"ticks\":\"\"},\"colorscale\":[[0.0,\"#0d0887\"],[0.1111111111111111,\"#46039f\"],[0.2222222222222222,\"#7201a8\"],[0.3333333333333333,\"#9c179e\"],[0.4444444444444444,\"#bd3786\"],[0.5555555555555556,\"#d8576b\"],[0.6666666666666666,\"#ed7953\"],[0.7777777777777778,\"#fb9f3a\"],[0.8888888888888888,\"#fdca26\"],[1.0,\"#f0f921\"]]}],\"choropleth\":[{\"type\":\"choropleth\",\"colorbar\":{\"outlinewidth\":0,\"ticks\":\"\"}}],\"histogram2d\":[{\"type\":\"histogram2d\",\"colorbar\":{\"outlinewidth\":0,\"ticks\":\"\"},\"colorscale\":[[0.0,\"#0d0887\"],[0.1111111111111111,\"#46039f\"],[0.2222222222222222,\"#7201a8\"],[0.3333333333333333,\"#9c179e\"],[0.4444444444444444,\"#bd3786\"],[0.5555555555555556,\"#d8576b\"],[0.6666666666666666,\"#ed7953\"],[0.7777777777777778,\"#fb9f3a\"],[0.8888888888888888,\"#fdca26\"],[1.0,\"#f0f921\"]]}],\"heatmap\":[{\"type\":\"heatmap\",\"colorbar\":{\"outlinewidth\":0,\"ticks\":\"\"},\"colorscale\":[[0.0,\"#0d0887\"],[0.1111111111111111,\"#46039f\"],[0.2222222222222222,\"#7201a8\"],[0.3333333333333333,\"#9c179e\"],[0.4444444444444444,\"#bd3786\"],[0.5555555555555556,\"#d8576b\"],[0.6666666666666666,\"#ed7953\"],[0.7777777777777778,\"#fb9f3a\"],[0.8888888888888888,\"#fdca26\"],[1.0,\"#f0f921\"]]}],\"heatmapgl\":[{\"type\":\"heatmapgl\",\"colorbar\":{\"outlinewidth\":0,\"ticks\":\"\"},\"colorscale\":[[0.0,\"#0d0887\"],[0.1111111111111111,\"#46039f\"],[0.2222222222222222,\"#7201a8\"],[0.3333333333333333,\"#9c179e\"],[0.4444444444444444,\"#bd3786\"],[0.5555555555555556,\"#d8576b\"],[0.6666666666666666,\"#ed7953\"],[0.7777777777777778,\"#fb9f3a\"],[0.8888888888888888,\"#fdca26\"],[1.0,\"#f0f921\"]]}],\"contourcarpet\":[{\"type\":\"contourcarpet\",\"colorbar\":{\"outlinewidth\":0,\"ticks\":\"\"}}],\"contour\":[{\"type\":\"contour\",\"colorbar\":{\"outlinewidth\":0,\"ticks\":\"\"},\"colorscale\":[[0.0,\"#0d0887\"],[0.1111111111111111,\"#46039f\"],[0.2222222222222222,\"#7201a8\"],[0.3333333333333333,\"#9c179e\"],[0.4444444444444444,\"#bd3786\"],[0.5555555555555556,\"#d8576b\"],[0.6666666666666666,\"#ed7953\"],[0.7777777777777778,\"#fb9f3a\"],[0.8888888888888888,\"#fdca26\"],[1.0,\"#f0f921\"]]}],\"surface\":[{\"type\":\"surface\",\"colorbar\":{\"outlinewidth\":0,\"ticks\":\"\"},\"colorscale\":[[0.0,\"#0d0887\"],[0.1111111111111111,\"#46039f\"],[0.2222222222222222,\"#7201a8\"],[0.3333333333333333,\"#9c179e\"],[0.4444444444444444,\"#bd3786\"],[0.5555555555555556,\"#d8576b\"],[0.6666666666666666,\"#ed7953\"],[0.7777777777777778,\"#fb9f3a\"],[0.8888888888888888,\"#fdca26\"],[1.0,\"#f0f921\"]]}],\"mesh3d\":[{\"type\":\"mesh3d\",\"colorbar\":{\"outlinewidth\":0,\"ticks\":\"\"}}],\"scatter\":[{\"fillpattern\":{\"fillmode\":\"overlay\",\"size\":10,\"solidity\":0.2},\"type\":\"scatter\"}],\"parcoords\":[{\"type\":\"parcoords\",\"line\":{\"colorbar\":{\"outlinewidth\":0,\"ticks\":\"\"}}}],\"scatterpolargl\":[{\"type\":\"scatterpolargl\",\"marker\":{\"colorbar\":{\"outlinewidth\":0,\"ticks\":\"\"}}}],\"bar\":[{\"error_x\":{\"color\":\"#2a3f5f\"},\"error_y\":{\"color\":\"#2a3f5f\"},\"marker\":{\"line\":{\"color\":\"#E5ECF6\",\"width\":0.5},\"pattern\":{\"fillmode\":\"overlay\",\"size\":10,\"solidity\":0.2}},\"type\":\"bar\"}],\"scattergeo\":[{\"type\":\"scattergeo\",\"marker\":{\"colorbar\":{\"outlinewidth\":0,\"ticks\":\"\"}}}],\"scatterpolar\":[{\"type\":\"scatterpolar\",\"marker\":{\"colorbar\":{\"outlinewidth\":0,\"ticks\":\"\"}}}],\"histogram\":[{\"marker\":{\"pattern\":{\"fillmode\":\"overlay\",\"size\":10,\"solidity\":0.2}},\"type\":\"histogram\"}],\"scattergl\":[{\"type\":\"scattergl\",\"marker\":{\"colorbar\":{\"outlinewidth\":0,\"ticks\":\"\"}}}],\"scatter3d\":[{\"type\":\"scatter3d\",\"line\":{\"colorbar\":{\"outlinewidth\":0,\"ticks\":\"\"}},\"marker\":{\"colorbar\":{\"outlinewidth\":0,\"ticks\":\"\"}}}],\"scattermapbox\":[{\"type\":\"scattermapbox\",\"marker\":{\"colorbar\":{\"outlinewidth\":0,\"ticks\":\"\"}}}],\"scatterternary\":[{\"type\":\"scatterternary\",\"marker\":{\"colorbar\":{\"outlinewidth\":0,\"ticks\":\"\"}}}],\"scattercarpet\":[{\"type\":\"scattercarpet\",\"marker\":{\"colorbar\":{\"outlinewidth\":0,\"ticks\":\"\"}}}],\"carpet\":[{\"aaxis\":{\"endlinecolor\":\"#2a3f5f\",\"gridcolor\":\"white\",\"linecolor\":\"white\",\"minorgridcolor\":\"white\",\"startlinecolor\":\"#2a3f5f\"},\"baxis\":{\"endlinecolor\":\"#2a3f5f\",\"gridcolor\":\"white\",\"linecolor\":\"white\",\"minorgridcolor\":\"white\",\"startlinecolor\":\"#2a3f5f\"},\"type\":\"carpet\"}],\"table\":[{\"cells\":{\"fill\":{\"color\":\"#EBF0F8\"},\"line\":{\"color\":\"white\"}},\"header\":{\"fill\":{\"color\":\"#C8D4E3\"},\"line\":{\"color\":\"white\"}},\"type\":\"table\"}],\"barpolar\":[{\"marker\":{\"line\":{\"color\":\"#E5ECF6\",\"width\":0.5},\"pattern\":{\"fillmode\":\"overlay\",\"size\":10,\"solidity\":0.2}},\"type\":\"barpolar\"}],\"pie\":[{\"automargin\":true,\"type\":\"pie\"}]},\"layout\":{\"autotypenumbers\":\"strict\",\"colorway\":[\"#636efa\",\"#EF553B\",\"#00cc96\",\"#ab63fa\",\"#FFA15A\",\"#19d3f3\",\"#FF6692\",\"#B6E880\",\"#FF97FF\",\"#FECB52\"],\"font\":{\"color\":\"#2a3f5f\"},\"hovermode\":\"closest\",\"hoverlabel\":{\"align\":\"left\"},\"paper_bgcolor\":\"white\",\"plot_bgcolor\":\"#E5ECF6\",\"polar\":{\"bgcolor\":\"#E5ECF6\",\"angularaxis\":{\"gridcolor\":\"white\",\"linecolor\":\"white\",\"ticks\":\"\"},\"radialaxis\":{\"gridcolor\":\"white\",\"linecolor\":\"white\",\"ticks\":\"\"}},\"ternary\":{\"bgcolor\":\"#E5ECF6\",\"aaxis\":{\"gridcolor\":\"white\",\"linecolor\":\"white\",\"ticks\":\"\"},\"baxis\":{\"gridcolor\":\"white\",\"linecolor\":\"white\",\"ticks\":\"\"},\"caxis\":{\"gridcolor\":\"white\",\"linecolor\":\"white\",\"ticks\":\"\"}},\"coloraxis\":{\"colorbar\":{\"outlinewidth\":0,\"ticks\":\"\"}},\"colorscale\":{\"sequential\":[[0.0,\"#0d0887\"],[0.1111111111111111,\"#46039f\"],[0.2222222222222222,\"#7201a8\"],[0.3333333333333333,\"#9c179e\"],[0.4444444444444444,\"#bd3786\"],[0.5555555555555556,\"#d8576b\"],[0.6666666666666666,\"#ed7953\"],[0.7777777777777778,\"#fb9f3a\"],[0.8888888888888888,\"#fdca26\"],[1.0,\"#f0f921\"]],\"sequentialminus\":[[0.0,\"#0d0887\"],[0.1111111111111111,\"#46039f\"],[0.2222222222222222,\"#7201a8\"],[0.3333333333333333,\"#9c179e\"],[0.4444444444444444,\"#bd3786\"],[0.5555555555555556,\"#d8576b\"],[0.6666666666666666,\"#ed7953\"],[0.7777777777777778,\"#fb9f3a\"],[0.8888888888888888,\"#fdca26\"],[1.0,\"#f0f921\"]],\"diverging\":[[0,\"#8e0152\"],[0.1,\"#c51b7d\"],[0.2,\"#de77ae\"],[0.3,\"#f1b6da\"],[0.4,\"#fde0ef\"],[0.5,\"#f7f7f7\"],[0.6,\"#e6f5d0\"],[0.7,\"#b8e186\"],[0.8,\"#7fbc41\"],[0.9,\"#4d9221\"],[1,\"#276419\"]]},\"xaxis\":{\"gridcolor\":\"white\",\"linecolor\":\"white\",\"ticks\":\"\",\"title\":{\"standoff\":15},\"zerolinecolor\":\"white\",\"automargin\":true,\"zerolinewidth\":2},\"yaxis\":{\"gridcolor\":\"white\",\"linecolor\":\"white\",\"ticks\":\"\",\"title\":{\"standoff\":15},\"zerolinecolor\":\"white\",\"automargin\":true,\"zerolinewidth\":2},\"scene\":{\"xaxis\":{\"backgroundcolor\":\"#E5ECF6\",\"gridcolor\":\"white\",\"linecolor\":\"white\",\"showbackground\":true,\"ticks\":\"\",\"zerolinecolor\":\"white\",\"gridwidth\":2},\"yaxis\":{\"backgroundcolor\":\"#E5ECF6\",\"gridcolor\":\"white\",\"linecolor\":\"white\",\"showbackground\":true,\"ticks\":\"\",\"zerolinecolor\":\"white\",\"gridwidth\":2},\"zaxis\":{\"backgroundcolor\":\"#E5ECF6\",\"gridcolor\":\"white\",\"linecolor\":\"white\",\"showbackground\":true,\"ticks\":\"\",\"zerolinecolor\":\"white\",\"gridwidth\":2}},\"shapedefaults\":{\"line\":{\"color\":\"#2a3f5f\"}},\"annotationdefaults\":{\"arrowcolor\":\"#2a3f5f\",\"arrowhead\":0,\"arrowwidth\":1},\"geo\":{\"bgcolor\":\"white\",\"landcolor\":\"#E5ECF6\",\"subunitcolor\":\"white\",\"showland\":true,\"showlakes\":true,\"lakecolor\":\"white\"},\"title\":{\"x\":0.05},\"mapbox\":{\"style\":\"light\"}}},\"xaxis\":{\"anchor\":\"y\",\"domain\":[0.0,1.0],\"title\":{\"text\":\"Venue\"}},\"yaxis\":{\"anchor\":\"x\",\"domain\":[0.0,1.0],\"title\":{\"text\":\"count\"}},\"legend\":{\"title\":{\"text\":\"Club\"},\"tracegroupgap\":0},\"title\":{\"text\":\"CR7 goals per Venue: Home VS Away \\ud83c\\udfe0\"},\"barmode\":\"relative\",\"height\":500,\"width\":800},                        {\"responsive\": true}                    ).then(function(){\n",
              "                            \n",
              "var gd = document.getElementById('cc39e62d-3486-4f2b-a28d-0100096fe228');\n",
              "var x = new MutationObserver(function (mutations, observer) {{\n",
              "        var display = window.getComputedStyle(gd).display;\n",
              "        if (!display || display === 'none') {{\n",
              "            console.log([gd, 'removed!']);\n",
              "            Plotly.purge(gd);\n",
              "            observer.disconnect();\n",
              "        }}\n",
              "}});\n",
              "\n",
              "// Listen for the removal of the full notebook cells\n",
              "var notebookContainer = gd.closest('#notebook-container');\n",
              "if (notebookContainer) {{\n",
              "    x.observe(notebookContainer, {childList: true});\n",
              "}}\n",
              "\n",
              "// Listen for the clearing of the current output cell\n",
              "var outputEl = gd.closest('.output');\n",
              "if (outputEl) {{\n",
              "    x.observe(outputEl, {childList: true});\n",
              "}}\n",
              "\n",
              "                        })                };                            </script>        </div>\n",
              "</body>\n",
              "</html>"
            ]
          },
          "metadata": {}
        }
      ],
      "source": [
        "#CR7 goals per Venue: Home VS Away\n",
        "px.histogram(\n",
        "    data_frame=df,              # Data source\n",
        "    x='Venue',                 # Column for x-axis\n",
        "    title=\"CR7 goals per Venue: Home VS Away 🏠\",   # Chart title\n",
        "    height=500,                 # Height of the chart\n",
        "    width = 800,                # Width of the chart\n",
        "    color='Club' , # Color based on 'Club' column\n",
        "    color_discrete_map= color_map, #A specific color for each club\n",
        "    hover_name='Club',          # Display 'Club' name on hover\n",
        "    hover_data='Club' # Additional hover data\n",
        "\n",
        ")"
      ]
    },
    {
      "cell_type": "code",
      "execution_count": null,
      "id": "5cd6fc16",
      "metadata": {
        "execution": {
          "iopub.execute_input": "2023-10-07T05:39:07.087553Z",
          "iopub.status.busy": "2023-10-07T05:39:07.086872Z",
          "iopub.status.idle": "2023-10-07T05:39:07.130571Z",
          "shell.execute_reply": "2023-10-07T05:39:07.129837Z"
        },
        "papermill": {
          "duration": 0.052882,
          "end_time": "2023-10-07T05:39:07.132002",
          "exception": false,
          "start_time": "2023-10-07T05:39:07.079120",
          "status": "completed"
        },
        "tags": [],
        "colab": {
          "base_uri": "https://localhost:8080/"
        },
        "id": "5cd6fc16",
        "outputId": "e0589969-a0cd-47df-9705-711e7536ae1c"
      },
      "outputs": [
        {
          "output_type": "display_data",
          "data": {
            "text/html": [
              "<html>\n",
              "<head><meta charset=\"utf-8\" /></head>\n",
              "<body>\n",
              "    <div>            <script src=\"https://cdnjs.cloudflare.com/ajax/libs/mathjax/2.7.5/MathJax.js?config=TeX-AMS-MML_SVG\"></script><script type=\"text/javascript\">if (window.MathJax && window.MathJax.Hub && window.MathJax.Hub.Config) {window.MathJax.Hub.Config({SVG: {font: \"STIX-Web\"}});}</script>                <script type=\"text/javascript\">window.PlotlyConfig = {MathJaxConfig: 'local'};</script>\n",
              "        <script charset=\"utf-8\" src=\"https://cdn.plot.ly/plotly-2.24.1.min.js\"></script>                <div id=\"ff04c622-62ae-4083-8513-76ccdbbb87d0\" class=\"plotly-graph-div\" style=\"height:450px; width:100%;\"></div>            <script type=\"text/javascript\">                                    window.PLOTLYENV=window.PLOTLYENV || {};                                    if (document.getElementById(\"ff04c622-62ae-4083-8513-76ccdbbb87d0\")) {                    Plotly.newPlot(                        \"ff04c622-62ae-4083-8513-76ccdbbb87d0\",                        [{\"alignmentgroup\":\"True\",\"hovertemplate\":\"Position=%{x}\\u003cbr\\u003eNumber of Goals\\u26bd=%{text}\\u003cextra\\u003e\\u003c\\u002fextra\\u003e\",\"legendgroup\":\"LW\",\"marker\":{\"color\":\"#636efa\",\"pattern\":{\"shape\":\"\"}},\"name\":\"LW\",\"offsetgroup\":\"LW\",\"orientation\":\"v\",\"showlegend\":true,\"text\":[367.0],\"textposition\":\"auto\",\"x\":[\"LW\"],\"xaxis\":\"x\",\"y\":[367],\"yaxis\":\"y\",\"type\":\"bar\"},{\"alignmentgroup\":\"True\",\"hovertemplate\":\"Position=%{x}\\u003cbr\\u003eNumber of Goals\\u26bd=%{text}\\u003cextra\\u003e\\u003c\\u002fextra\\u003e\",\"legendgroup\":\"CF\",\"marker\":{\"color\":\"#EF553B\",\"pattern\":{\"shape\":\"\"}},\"name\":\"CF\",\"offsetgroup\":\"CF\",\"orientation\":\"v\",\"showlegend\":true,\"text\":[224.0],\"textposition\":\"auto\",\"x\":[\"CF\"],\"xaxis\":\"x\",\"y\":[224],\"yaxis\":\"y\",\"type\":\"bar\"},{\"alignmentgroup\":\"True\",\"hovertemplate\":\"Position=%{x}\\u003cbr\\u003eNumber of Goals\\u26bd=%{text}\\u003cextra\\u003e\\u003c\\u002fextra\\u003e\",\"legendgroup\":\"RW\",\"marker\":{\"color\":\"#00cc96\",\"pattern\":{\"shape\":\"\"}},\"name\":\"RW\",\"offsetgroup\":\"RW\",\"orientation\":\"v\",\"showlegend\":true,\"text\":[119.0],\"textposition\":\"auto\",\"x\":[\"RW\"],\"xaxis\":\"x\",\"y\":[119],\"yaxis\":\"y\",\"type\":\"bar\"}],                        {\"template\":{\"data\":{\"histogram2dcontour\":[{\"type\":\"histogram2dcontour\",\"colorbar\":{\"outlinewidth\":0,\"ticks\":\"\"},\"colorscale\":[[0.0,\"#0d0887\"],[0.1111111111111111,\"#46039f\"],[0.2222222222222222,\"#7201a8\"],[0.3333333333333333,\"#9c179e\"],[0.4444444444444444,\"#bd3786\"],[0.5555555555555556,\"#d8576b\"],[0.6666666666666666,\"#ed7953\"],[0.7777777777777778,\"#fb9f3a\"],[0.8888888888888888,\"#fdca26\"],[1.0,\"#f0f921\"]]}],\"choropleth\":[{\"type\":\"choropleth\",\"colorbar\":{\"outlinewidth\":0,\"ticks\":\"\"}}],\"histogram2d\":[{\"type\":\"histogram2d\",\"colorbar\":{\"outlinewidth\":0,\"ticks\":\"\"},\"colorscale\":[[0.0,\"#0d0887\"],[0.1111111111111111,\"#46039f\"],[0.2222222222222222,\"#7201a8\"],[0.3333333333333333,\"#9c179e\"],[0.4444444444444444,\"#bd3786\"],[0.5555555555555556,\"#d8576b\"],[0.6666666666666666,\"#ed7953\"],[0.7777777777777778,\"#fb9f3a\"],[0.8888888888888888,\"#fdca26\"],[1.0,\"#f0f921\"]]}],\"heatmap\":[{\"type\":\"heatmap\",\"colorbar\":{\"outlinewidth\":0,\"ticks\":\"\"},\"colorscale\":[[0.0,\"#0d0887\"],[0.1111111111111111,\"#46039f\"],[0.2222222222222222,\"#7201a8\"],[0.3333333333333333,\"#9c179e\"],[0.4444444444444444,\"#bd3786\"],[0.5555555555555556,\"#d8576b\"],[0.6666666666666666,\"#ed7953\"],[0.7777777777777778,\"#fb9f3a\"],[0.8888888888888888,\"#fdca26\"],[1.0,\"#f0f921\"]]}],\"heatmapgl\":[{\"type\":\"heatmapgl\",\"colorbar\":{\"outlinewidth\":0,\"ticks\":\"\"},\"colorscale\":[[0.0,\"#0d0887\"],[0.1111111111111111,\"#46039f\"],[0.2222222222222222,\"#7201a8\"],[0.3333333333333333,\"#9c179e\"],[0.4444444444444444,\"#bd3786\"],[0.5555555555555556,\"#d8576b\"],[0.6666666666666666,\"#ed7953\"],[0.7777777777777778,\"#fb9f3a\"],[0.8888888888888888,\"#fdca26\"],[1.0,\"#f0f921\"]]}],\"contourcarpet\":[{\"type\":\"contourcarpet\",\"colorbar\":{\"outlinewidth\":0,\"ticks\":\"\"}}],\"contour\":[{\"type\":\"contour\",\"colorbar\":{\"outlinewidth\":0,\"ticks\":\"\"},\"colorscale\":[[0.0,\"#0d0887\"],[0.1111111111111111,\"#46039f\"],[0.2222222222222222,\"#7201a8\"],[0.3333333333333333,\"#9c179e\"],[0.4444444444444444,\"#bd3786\"],[0.5555555555555556,\"#d8576b\"],[0.6666666666666666,\"#ed7953\"],[0.7777777777777778,\"#fb9f3a\"],[0.8888888888888888,\"#fdca26\"],[1.0,\"#f0f921\"]]}],\"surface\":[{\"type\":\"surface\",\"colorbar\":{\"outlinewidth\":0,\"ticks\":\"\"},\"colorscale\":[[0.0,\"#0d0887\"],[0.1111111111111111,\"#46039f\"],[0.2222222222222222,\"#7201a8\"],[0.3333333333333333,\"#9c179e\"],[0.4444444444444444,\"#bd3786\"],[0.5555555555555556,\"#d8576b\"],[0.6666666666666666,\"#ed7953\"],[0.7777777777777778,\"#fb9f3a\"],[0.8888888888888888,\"#fdca26\"],[1.0,\"#f0f921\"]]}],\"mesh3d\":[{\"type\":\"mesh3d\",\"colorbar\":{\"outlinewidth\":0,\"ticks\":\"\"}}],\"scatter\":[{\"fillpattern\":{\"fillmode\":\"overlay\",\"size\":10,\"solidity\":0.2},\"type\":\"scatter\"}],\"parcoords\":[{\"type\":\"parcoords\",\"line\":{\"colorbar\":{\"outlinewidth\":0,\"ticks\":\"\"}}}],\"scatterpolargl\":[{\"type\":\"scatterpolargl\",\"marker\":{\"colorbar\":{\"outlinewidth\":0,\"ticks\":\"\"}}}],\"bar\":[{\"error_x\":{\"color\":\"#2a3f5f\"},\"error_y\":{\"color\":\"#2a3f5f\"},\"marker\":{\"line\":{\"color\":\"#E5ECF6\",\"width\":0.5},\"pattern\":{\"fillmode\":\"overlay\",\"size\":10,\"solidity\":0.2}},\"type\":\"bar\"}],\"scattergeo\":[{\"type\":\"scattergeo\",\"marker\":{\"colorbar\":{\"outlinewidth\":0,\"ticks\":\"\"}}}],\"scatterpolar\":[{\"type\":\"scatterpolar\",\"marker\":{\"colorbar\":{\"outlinewidth\":0,\"ticks\":\"\"}}}],\"histogram\":[{\"marker\":{\"pattern\":{\"fillmode\":\"overlay\",\"size\":10,\"solidity\":0.2}},\"type\":\"histogram\"}],\"scattergl\":[{\"type\":\"scattergl\",\"marker\":{\"colorbar\":{\"outlinewidth\":0,\"ticks\":\"\"}}}],\"scatter3d\":[{\"type\":\"scatter3d\",\"line\":{\"colorbar\":{\"outlinewidth\":0,\"ticks\":\"\"}},\"marker\":{\"colorbar\":{\"outlinewidth\":0,\"ticks\":\"\"}}}],\"scattermapbox\":[{\"type\":\"scattermapbox\",\"marker\":{\"colorbar\":{\"outlinewidth\":0,\"ticks\":\"\"}}}],\"scatterternary\":[{\"type\":\"scatterternary\",\"marker\":{\"colorbar\":{\"outlinewidth\":0,\"ticks\":\"\"}}}],\"scattercarpet\":[{\"type\":\"scattercarpet\",\"marker\":{\"colorbar\":{\"outlinewidth\":0,\"ticks\":\"\"}}}],\"carpet\":[{\"aaxis\":{\"endlinecolor\":\"#2a3f5f\",\"gridcolor\":\"white\",\"linecolor\":\"white\",\"minorgridcolor\":\"white\",\"startlinecolor\":\"#2a3f5f\"},\"baxis\":{\"endlinecolor\":\"#2a3f5f\",\"gridcolor\":\"white\",\"linecolor\":\"white\",\"minorgridcolor\":\"white\",\"startlinecolor\":\"#2a3f5f\"},\"type\":\"carpet\"}],\"table\":[{\"cells\":{\"fill\":{\"color\":\"#EBF0F8\"},\"line\":{\"color\":\"white\"}},\"header\":{\"fill\":{\"color\":\"#C8D4E3\"},\"line\":{\"color\":\"white\"}},\"type\":\"table\"}],\"barpolar\":[{\"marker\":{\"line\":{\"color\":\"#E5ECF6\",\"width\":0.5},\"pattern\":{\"fillmode\":\"overlay\",\"size\":10,\"solidity\":0.2}},\"type\":\"barpolar\"}],\"pie\":[{\"automargin\":true,\"type\":\"pie\"}]},\"layout\":{\"autotypenumbers\":\"strict\",\"colorway\":[\"#636efa\",\"#EF553B\",\"#00cc96\",\"#ab63fa\",\"#FFA15A\",\"#19d3f3\",\"#FF6692\",\"#B6E880\",\"#FF97FF\",\"#FECB52\"],\"font\":{\"color\":\"#2a3f5f\"},\"hovermode\":\"closest\",\"hoverlabel\":{\"align\":\"left\"},\"paper_bgcolor\":\"white\",\"plot_bgcolor\":\"#E5ECF6\",\"polar\":{\"bgcolor\":\"#E5ECF6\",\"angularaxis\":{\"gridcolor\":\"white\",\"linecolor\":\"white\",\"ticks\":\"\"},\"radialaxis\":{\"gridcolor\":\"white\",\"linecolor\":\"white\",\"ticks\":\"\"}},\"ternary\":{\"bgcolor\":\"#E5ECF6\",\"aaxis\":{\"gridcolor\":\"white\",\"linecolor\":\"white\",\"ticks\":\"\"},\"baxis\":{\"gridcolor\":\"white\",\"linecolor\":\"white\",\"ticks\":\"\"},\"caxis\":{\"gridcolor\":\"white\",\"linecolor\":\"white\",\"ticks\":\"\"}},\"coloraxis\":{\"colorbar\":{\"outlinewidth\":0,\"ticks\":\"\"}},\"colorscale\":{\"sequential\":[[0.0,\"#0d0887\"],[0.1111111111111111,\"#46039f\"],[0.2222222222222222,\"#7201a8\"],[0.3333333333333333,\"#9c179e\"],[0.4444444444444444,\"#bd3786\"],[0.5555555555555556,\"#d8576b\"],[0.6666666666666666,\"#ed7953\"],[0.7777777777777778,\"#fb9f3a\"],[0.8888888888888888,\"#fdca26\"],[1.0,\"#f0f921\"]],\"sequentialminus\":[[0.0,\"#0d0887\"],[0.1111111111111111,\"#46039f\"],[0.2222222222222222,\"#7201a8\"],[0.3333333333333333,\"#9c179e\"],[0.4444444444444444,\"#bd3786\"],[0.5555555555555556,\"#d8576b\"],[0.6666666666666666,\"#ed7953\"],[0.7777777777777778,\"#fb9f3a\"],[0.8888888888888888,\"#fdca26\"],[1.0,\"#f0f921\"]],\"diverging\":[[0,\"#8e0152\"],[0.1,\"#c51b7d\"],[0.2,\"#de77ae\"],[0.3,\"#f1b6da\"],[0.4,\"#fde0ef\"],[0.5,\"#f7f7f7\"],[0.6,\"#e6f5d0\"],[0.7,\"#b8e186\"],[0.8,\"#7fbc41\"],[0.9,\"#4d9221\"],[1,\"#276419\"]]},\"xaxis\":{\"gridcolor\":\"white\",\"linecolor\":\"white\",\"ticks\":\"\",\"title\":{\"standoff\":15},\"zerolinecolor\":\"white\",\"automargin\":true,\"zerolinewidth\":2},\"yaxis\":{\"gridcolor\":\"white\",\"linecolor\":\"white\",\"ticks\":\"\",\"title\":{\"standoff\":15},\"zerolinecolor\":\"white\",\"automargin\":true,\"zerolinewidth\":2},\"scene\":{\"xaxis\":{\"backgroundcolor\":\"#E5ECF6\",\"gridcolor\":\"white\",\"linecolor\":\"white\",\"showbackground\":true,\"ticks\":\"\",\"zerolinecolor\":\"white\",\"gridwidth\":2},\"yaxis\":{\"backgroundcolor\":\"#E5ECF6\",\"gridcolor\":\"white\",\"linecolor\":\"white\",\"showbackground\":true,\"ticks\":\"\",\"zerolinecolor\":\"white\",\"gridwidth\":2},\"zaxis\":{\"backgroundcolor\":\"#E5ECF6\",\"gridcolor\":\"white\",\"linecolor\":\"white\",\"showbackground\":true,\"ticks\":\"\",\"zerolinecolor\":\"white\",\"gridwidth\":2}},\"shapedefaults\":{\"line\":{\"color\":\"#2a3f5f\"}},\"annotationdefaults\":{\"arrowcolor\":\"#2a3f5f\",\"arrowhead\":0,\"arrowwidth\":1},\"geo\":{\"bgcolor\":\"white\",\"landcolor\":\"#E5ECF6\",\"subunitcolor\":\"white\",\"showland\":true,\"showlakes\":true,\"lakecolor\":\"white\"},\"title\":{\"x\":0.05},\"mapbox\":{\"style\":\"light\"}}},\"xaxis\":{\"anchor\":\"y\",\"domain\":[0.0,1.0],\"title\":{\"text\":\"Position\"},\"categoryorder\":\"array\",\"categoryarray\":[\"LW\",\"CF\",\"RW\"]},\"yaxis\":{\"anchor\":\"x\",\"domain\":[0.0,1.0],\"title\":{\"text\":\"Number of Goals\\u26bd\"}},\"legend\":{\"title\":{\"text\":\"Position\"},\"tracegroupgap\":0},\"title\":{\"text\":\"CR7's Goals per Playing Position \\u26bd7\\ufe0f\\u20e3\"},\"barmode\":\"relative\",\"height\":450},                        {\"responsive\": true}                    ).then(function(){\n",
              "                            \n",
              "var gd = document.getElementById('ff04c622-62ae-4083-8513-76ccdbbb87d0');\n",
              "var x = new MutationObserver(function (mutations, observer) {{\n",
              "        var display = window.getComputedStyle(gd).display;\n",
              "        if (!display || display === 'none') {{\n",
              "            console.log([gd, 'removed!']);\n",
              "            Plotly.purge(gd);\n",
              "            observer.disconnect();\n",
              "        }}\n",
              "}});\n",
              "\n",
              "// Listen for the removal of the full notebook cells\n",
              "var notebookContainer = gd.closest('#notebook-container');\n",
              "if (notebookContainer) {{\n",
              "    x.observe(notebookContainer, {childList: true});\n",
              "}}\n",
              "\n",
              "// Listen for the clearing of the current output cell\n",
              "var outputEl = gd.closest('.output');\n",
              "if (outputEl) {{\n",
              "    x.observe(outputEl, {childList: true});\n",
              "}}\n",
              "\n",
              "                        })                };                            </script>        </div>\n",
              "</body>\n",
              "</html>"
            ]
          },
          "metadata": {}
        }
      ],
      "source": [
        "#CR7 Goals per Playing Position\n",
        "goals_by_pos = df.groupby('Playing_Position').size().reset_index(name = 'Goals').sort_values(by = 'Goals', ascending= False)\n",
        "fig = px.bar(goals_by_pos, x='Playing_Position', y='Goals', title=\"CR7's Goals per Playing Position ⚽7️⃣\",\n",
        "             labels={'Playing_Position': 'Position', 'Goals': 'Number of Goals⚽'}, text= 'Goals', color = 'Playing_Position',height=450 )\n",
        "\n",
        "# Show the plot\n",
        "fig.show()"
      ]
    },
    {
      "cell_type": "code",
      "execution_count": null,
      "id": "6effeda1",
      "metadata": {
        "execution": {
          "iopub.execute_input": "2023-10-07T05:39:07.147021Z",
          "iopub.status.busy": "2023-10-07T05:39:07.146796Z",
          "iopub.status.idle": "2023-10-07T05:39:07.178297Z",
          "shell.execute_reply": "2023-10-07T05:39:07.177534Z"
        },
        "papermill": {
          "duration": 0.040391,
          "end_time": "2023-10-07T05:39:07.179643",
          "exception": false,
          "start_time": "2023-10-07T05:39:07.139252",
          "status": "completed"
        },
        "tags": [],
        "colab": {
          "base_uri": "https://localhost:8080/"
        },
        "id": "6effeda1",
        "outputId": "3c005362-fa91-4f80-e445-01f922f105d6"
      },
      "outputs": [
        {
          "output_type": "display_data",
          "data": {
            "text/html": [
              "<html>\n",
              "<head><meta charset=\"utf-8\" /></head>\n",
              "<body>\n",
              "    <div>            <script src=\"https://cdnjs.cloudflare.com/ajax/libs/mathjax/2.7.5/MathJax.js?config=TeX-AMS-MML_SVG\"></script><script type=\"text/javascript\">if (window.MathJax && window.MathJax.Hub && window.MathJax.Hub.Config) {window.MathJax.Hub.Config({SVG: {font: \"STIX-Web\"}});}</script>                <script type=\"text/javascript\">window.PlotlyConfig = {MathJaxConfig: 'local'};</script>\n",
              "        <script charset=\"utf-8\" src=\"https://cdn.plot.ly/plotly-2.24.1.min.js\"></script>                <div id=\"e325ba82-8bbf-4753-a220-cf2e7aac5387\" class=\"plotly-graph-div\" style=\"height:500px; width:100%;\"></div>            <script type=\"text/javascript\">                                    window.PLOTLYENV=window.PLOTLYENV || {};                                    if (document.getElementById(\"e325ba82-8bbf-4753-a220-cf2e7aac5387\")) {                    Plotly.newPlot(                        \"e325ba82-8bbf-4753-a220-cf2e7aac5387\",                        [{\"domain\":{\"x\":[0.0,1.0],\"y\":[0.0,1.0]},\"hole\":0.4,\"hovertemplate\":\"winLoss=%{label}\\u003cbr\\u003evalue=%{value}\\u003cextra\\u003e\\u003c\\u002fextra\\u003e\",\"labels\":[\"win\",\"draw\",\"loss\"],\"legendgroup\":\"\",\"name\":\"\",\"showlegend\":true,\"values\":[392,45,31],\"type\":\"pie\"}],                        {\"template\":{\"data\":{\"histogram2dcontour\":[{\"type\":\"histogram2dcontour\",\"colorbar\":{\"outlinewidth\":0,\"ticks\":\"\"},\"colorscale\":[[0.0,\"#0d0887\"],[0.1111111111111111,\"#46039f\"],[0.2222222222222222,\"#7201a8\"],[0.3333333333333333,\"#9c179e\"],[0.4444444444444444,\"#bd3786\"],[0.5555555555555556,\"#d8576b\"],[0.6666666666666666,\"#ed7953\"],[0.7777777777777778,\"#fb9f3a\"],[0.8888888888888888,\"#fdca26\"],[1.0,\"#f0f921\"]]}],\"choropleth\":[{\"type\":\"choropleth\",\"colorbar\":{\"outlinewidth\":0,\"ticks\":\"\"}}],\"histogram2d\":[{\"type\":\"histogram2d\",\"colorbar\":{\"outlinewidth\":0,\"ticks\":\"\"},\"colorscale\":[[0.0,\"#0d0887\"],[0.1111111111111111,\"#46039f\"],[0.2222222222222222,\"#7201a8\"],[0.3333333333333333,\"#9c179e\"],[0.4444444444444444,\"#bd3786\"],[0.5555555555555556,\"#d8576b\"],[0.6666666666666666,\"#ed7953\"],[0.7777777777777778,\"#fb9f3a\"],[0.8888888888888888,\"#fdca26\"],[1.0,\"#f0f921\"]]}],\"heatmap\":[{\"type\":\"heatmap\",\"colorbar\":{\"outlinewidth\":0,\"ticks\":\"\"},\"colorscale\":[[0.0,\"#0d0887\"],[0.1111111111111111,\"#46039f\"],[0.2222222222222222,\"#7201a8\"],[0.3333333333333333,\"#9c179e\"],[0.4444444444444444,\"#bd3786\"],[0.5555555555555556,\"#d8576b\"],[0.6666666666666666,\"#ed7953\"],[0.7777777777777778,\"#fb9f3a\"],[0.8888888888888888,\"#fdca26\"],[1.0,\"#f0f921\"]]}],\"heatmapgl\":[{\"type\":\"heatmapgl\",\"colorbar\":{\"outlinewidth\":0,\"ticks\":\"\"},\"colorscale\":[[0.0,\"#0d0887\"],[0.1111111111111111,\"#46039f\"],[0.2222222222222222,\"#7201a8\"],[0.3333333333333333,\"#9c179e\"],[0.4444444444444444,\"#bd3786\"],[0.5555555555555556,\"#d8576b\"],[0.6666666666666666,\"#ed7953\"],[0.7777777777777778,\"#fb9f3a\"],[0.8888888888888888,\"#fdca26\"],[1.0,\"#f0f921\"]]}],\"contourcarpet\":[{\"type\":\"contourcarpet\",\"colorbar\":{\"outlinewidth\":0,\"ticks\":\"\"}}],\"contour\":[{\"type\":\"contour\",\"colorbar\":{\"outlinewidth\":0,\"ticks\":\"\"},\"colorscale\":[[0.0,\"#0d0887\"],[0.1111111111111111,\"#46039f\"],[0.2222222222222222,\"#7201a8\"],[0.3333333333333333,\"#9c179e\"],[0.4444444444444444,\"#bd3786\"],[0.5555555555555556,\"#d8576b\"],[0.6666666666666666,\"#ed7953\"],[0.7777777777777778,\"#fb9f3a\"],[0.8888888888888888,\"#fdca26\"],[1.0,\"#f0f921\"]]}],\"surface\":[{\"type\":\"surface\",\"colorbar\":{\"outlinewidth\":0,\"ticks\":\"\"},\"colorscale\":[[0.0,\"#0d0887\"],[0.1111111111111111,\"#46039f\"],[0.2222222222222222,\"#7201a8\"],[0.3333333333333333,\"#9c179e\"],[0.4444444444444444,\"#bd3786\"],[0.5555555555555556,\"#d8576b\"],[0.6666666666666666,\"#ed7953\"],[0.7777777777777778,\"#fb9f3a\"],[0.8888888888888888,\"#fdca26\"],[1.0,\"#f0f921\"]]}],\"mesh3d\":[{\"type\":\"mesh3d\",\"colorbar\":{\"outlinewidth\":0,\"ticks\":\"\"}}],\"scatter\":[{\"fillpattern\":{\"fillmode\":\"overlay\",\"size\":10,\"solidity\":0.2},\"type\":\"scatter\"}],\"parcoords\":[{\"type\":\"parcoords\",\"line\":{\"colorbar\":{\"outlinewidth\":0,\"ticks\":\"\"}}}],\"scatterpolargl\":[{\"type\":\"scatterpolargl\",\"marker\":{\"colorbar\":{\"outlinewidth\":0,\"ticks\":\"\"}}}],\"bar\":[{\"error_x\":{\"color\":\"#2a3f5f\"},\"error_y\":{\"color\":\"#2a3f5f\"},\"marker\":{\"line\":{\"color\":\"#E5ECF6\",\"width\":0.5},\"pattern\":{\"fillmode\":\"overlay\",\"size\":10,\"solidity\":0.2}},\"type\":\"bar\"}],\"scattergeo\":[{\"type\":\"scattergeo\",\"marker\":{\"colorbar\":{\"outlinewidth\":0,\"ticks\":\"\"}}}],\"scatterpolar\":[{\"type\":\"scatterpolar\",\"marker\":{\"colorbar\":{\"outlinewidth\":0,\"ticks\":\"\"}}}],\"histogram\":[{\"marker\":{\"pattern\":{\"fillmode\":\"overlay\",\"size\":10,\"solidity\":0.2}},\"type\":\"histogram\"}],\"scattergl\":[{\"type\":\"scattergl\",\"marker\":{\"colorbar\":{\"outlinewidth\":0,\"ticks\":\"\"}}}],\"scatter3d\":[{\"type\":\"scatter3d\",\"line\":{\"colorbar\":{\"outlinewidth\":0,\"ticks\":\"\"}},\"marker\":{\"colorbar\":{\"outlinewidth\":0,\"ticks\":\"\"}}}],\"scattermapbox\":[{\"type\":\"scattermapbox\",\"marker\":{\"colorbar\":{\"outlinewidth\":0,\"ticks\":\"\"}}}],\"scatterternary\":[{\"type\":\"scatterternary\",\"marker\":{\"colorbar\":{\"outlinewidth\":0,\"ticks\":\"\"}}}],\"scattercarpet\":[{\"type\":\"scattercarpet\",\"marker\":{\"colorbar\":{\"outlinewidth\":0,\"ticks\":\"\"}}}],\"carpet\":[{\"aaxis\":{\"endlinecolor\":\"#2a3f5f\",\"gridcolor\":\"white\",\"linecolor\":\"white\",\"minorgridcolor\":\"white\",\"startlinecolor\":\"#2a3f5f\"},\"baxis\":{\"endlinecolor\":\"#2a3f5f\",\"gridcolor\":\"white\",\"linecolor\":\"white\",\"minorgridcolor\":\"white\",\"startlinecolor\":\"#2a3f5f\"},\"type\":\"carpet\"}],\"table\":[{\"cells\":{\"fill\":{\"color\":\"#EBF0F8\"},\"line\":{\"color\":\"white\"}},\"header\":{\"fill\":{\"color\":\"#C8D4E3\"},\"line\":{\"color\":\"white\"}},\"type\":\"table\"}],\"barpolar\":[{\"marker\":{\"line\":{\"color\":\"#E5ECF6\",\"width\":0.5},\"pattern\":{\"fillmode\":\"overlay\",\"size\":10,\"solidity\":0.2}},\"type\":\"barpolar\"}],\"pie\":[{\"automargin\":true,\"type\":\"pie\"}]},\"layout\":{\"autotypenumbers\":\"strict\",\"colorway\":[\"#636efa\",\"#EF553B\",\"#00cc96\",\"#ab63fa\",\"#FFA15A\",\"#19d3f3\",\"#FF6692\",\"#B6E880\",\"#FF97FF\",\"#FECB52\"],\"font\":{\"color\":\"#2a3f5f\"},\"hovermode\":\"closest\",\"hoverlabel\":{\"align\":\"left\"},\"paper_bgcolor\":\"white\",\"plot_bgcolor\":\"#E5ECF6\",\"polar\":{\"bgcolor\":\"#E5ECF6\",\"angularaxis\":{\"gridcolor\":\"white\",\"linecolor\":\"white\",\"ticks\":\"\"},\"radialaxis\":{\"gridcolor\":\"white\",\"linecolor\":\"white\",\"ticks\":\"\"}},\"ternary\":{\"bgcolor\":\"#E5ECF6\",\"aaxis\":{\"gridcolor\":\"white\",\"linecolor\":\"white\",\"ticks\":\"\"},\"baxis\":{\"gridcolor\":\"white\",\"linecolor\":\"white\",\"ticks\":\"\"},\"caxis\":{\"gridcolor\":\"white\",\"linecolor\":\"white\",\"ticks\":\"\"}},\"coloraxis\":{\"colorbar\":{\"outlinewidth\":0,\"ticks\":\"\"}},\"colorscale\":{\"sequential\":[[0.0,\"#0d0887\"],[0.1111111111111111,\"#46039f\"],[0.2222222222222222,\"#7201a8\"],[0.3333333333333333,\"#9c179e\"],[0.4444444444444444,\"#bd3786\"],[0.5555555555555556,\"#d8576b\"],[0.6666666666666666,\"#ed7953\"],[0.7777777777777778,\"#fb9f3a\"],[0.8888888888888888,\"#fdca26\"],[1.0,\"#f0f921\"]],\"sequentialminus\":[[0.0,\"#0d0887\"],[0.1111111111111111,\"#46039f\"],[0.2222222222222222,\"#7201a8\"],[0.3333333333333333,\"#9c179e\"],[0.4444444444444444,\"#bd3786\"],[0.5555555555555556,\"#d8576b\"],[0.6666666666666666,\"#ed7953\"],[0.7777777777777778,\"#fb9f3a\"],[0.8888888888888888,\"#fdca26\"],[1.0,\"#f0f921\"]],\"diverging\":[[0,\"#8e0152\"],[0.1,\"#c51b7d\"],[0.2,\"#de77ae\"],[0.3,\"#f1b6da\"],[0.4,\"#fde0ef\"],[0.5,\"#f7f7f7\"],[0.6,\"#e6f5d0\"],[0.7,\"#b8e186\"],[0.8,\"#7fbc41\"],[0.9,\"#4d9221\"],[1,\"#276419\"]]},\"xaxis\":{\"gridcolor\":\"white\",\"linecolor\":\"white\",\"ticks\":\"\",\"title\":{\"standoff\":15},\"zerolinecolor\":\"white\",\"automargin\":true,\"zerolinewidth\":2},\"yaxis\":{\"gridcolor\":\"white\",\"linecolor\":\"white\",\"ticks\":\"\",\"title\":{\"standoff\":15},\"zerolinecolor\":\"white\",\"automargin\":true,\"zerolinewidth\":2},\"scene\":{\"xaxis\":{\"backgroundcolor\":\"#E5ECF6\",\"gridcolor\":\"white\",\"linecolor\":\"white\",\"showbackground\":true,\"ticks\":\"\",\"zerolinecolor\":\"white\",\"gridwidth\":2},\"yaxis\":{\"backgroundcolor\":\"#E5ECF6\",\"gridcolor\":\"white\",\"linecolor\":\"white\",\"showbackground\":true,\"ticks\":\"\",\"zerolinecolor\":\"white\",\"gridwidth\":2},\"zaxis\":{\"backgroundcolor\":\"#E5ECF6\",\"gridcolor\":\"white\",\"linecolor\":\"white\",\"showbackground\":true,\"ticks\":\"\",\"zerolinecolor\":\"white\",\"gridwidth\":2}},\"shapedefaults\":{\"line\":{\"color\":\"#2a3f5f\"}},\"annotationdefaults\":{\"arrowcolor\":\"#2a3f5f\",\"arrowhead\":0,\"arrowwidth\":1},\"geo\":{\"bgcolor\":\"white\",\"landcolor\":\"#E5ECF6\",\"subunitcolor\":\"white\",\"showland\":true,\"showlakes\":true,\"lakecolor\":\"white\"},\"title\":{\"x\":0.05},\"mapbox\":{\"style\":\"light\"}}},\"legend\":{\"tracegroupgap\":0},\"title\":{\"text\":\"Ratio of victories to games played by CR7 \\u2705\"},\"height\":500},                        {\"responsive\": true}                    ).then(function(){\n",
              "                            \n",
              "var gd = document.getElementById('e325ba82-8bbf-4753-a220-cf2e7aac5387');\n",
              "var x = new MutationObserver(function (mutations, observer) {{\n",
              "        var display = window.getComputedStyle(gd).display;\n",
              "        if (!display || display === 'none') {{\n",
              "            console.log([gd, 'removed!']);\n",
              "            Plotly.purge(gd);\n",
              "            observer.disconnect();\n",
              "        }}\n",
              "}});\n",
              "\n",
              "// Listen for the removal of the full notebook cells\n",
              "var notebookContainer = gd.closest('#notebook-container');\n",
              "if (notebookContainer) {{\n",
              "    x.observe(notebookContainer, {childList: true});\n",
              "}}\n",
              "\n",
              "// Listen for the clearing of the current output cell\n",
              "var outputEl = gd.closest('.output');\n",
              "if (outputEl) {{\n",
              "    x.observe(outputEl, {childList: true});\n",
              "}}\n",
              "\n",
              "                        })                };                            </script>        </div>\n",
              "</body>\n",
              "</html>"
            ]
          },
          "metadata": {}
        }
      ],
      "source": [
        "#Ratio of victories to games played by CR7.\n",
        "winLoss_counts = df.drop_duplicates(subset='Date').reset_index()['winLoss'].value_counts()\n",
        "fig = px.pie(winLoss_counts, values=winLoss_counts.values, names=winLoss_counts.index, title=\"Ratio of victories to games played by CR7 ✅\", hole=0.4,height=500 )\n",
        "fig.show()"
      ]
    },
    {
      "cell_type": "code",
      "execution_count": null,
      "id": "14ed0ca9",
      "metadata": {
        "execution": {
          "iopub.execute_input": "2023-10-07T05:39:07.195754Z",
          "iopub.status.busy": "2023-10-07T05:39:07.195320Z",
          "iopub.status.idle": "2023-10-07T05:39:07.250410Z",
          "shell.execute_reply": "2023-10-07T05:39:07.249469Z"
        },
        "papermill": {
          "duration": 0.064538,
          "end_time": "2023-10-07T05:39:07.251834",
          "exception": false,
          "start_time": "2023-10-07T05:39:07.187296",
          "status": "completed"
        },
        "tags": [],
        "colab": {
          "base_uri": "https://localhost:8080/"
        },
        "id": "14ed0ca9",
        "outputId": "403ba7a6-ea7b-450c-d81c-ccae9bb2b9e9"
      },
      "outputs": [
        {
          "output_type": "display_data",
          "data": {
            "text/html": [
              "<html>\n",
              "<head><meta charset=\"utf-8\" /></head>\n",
              "<body>\n",
              "    <div>            <script src=\"https://cdnjs.cloudflare.com/ajax/libs/mathjax/2.7.5/MathJax.js?config=TeX-AMS-MML_SVG\"></script><script type=\"text/javascript\">if (window.MathJax && window.MathJax.Hub && window.MathJax.Hub.Config) {window.MathJax.Hub.Config({SVG: {font: \"STIX-Web\"}});}</script>                <script type=\"text/javascript\">window.PlotlyConfig = {MathJaxConfig: 'local'};</script>\n",
              "        <script charset=\"utf-8\" src=\"https://cdn.plot.ly/plotly-2.24.1.min.js\"></script>                <div id=\"f11f9785-d612-4cfd-8bf7-3e477997f4bd\" class=\"plotly-graph-div\" style=\"height:525px; width:100%;\"></div>            <script type=\"text/javascript\">                                    window.PLOTLYENV=window.PLOTLYENV || {};                                    if (document.getElementById(\"f11f9785-d612-4cfd-8bf7-3e477997f4bd\")) {                    Plotly.newPlot(                        \"f11f9785-d612-4cfd-8bf7-3e477997f4bd\",                        [{\"alignmentgroup\":\"True\",\"hovertemplate\":\"Time=%{x}\\u003cbr\\u003eNumber of Goals\\u26bd=%{text}\\u003cextra\\u003e\\u003c\\u002fextra\\u003e\",\"legendgroup\":\"Second half\",\"marker\":{\"color\":\"#636efa\",\"pattern\":{\"shape\":\"\"}},\"name\":\"Second half\",\"offsetgroup\":\"Second half\",\"orientation\":\"v\",\"showlegend\":true,\"text\":[365.0],\"textposition\":\"auto\",\"x\":[\"Second half\"],\"xaxis\":\"x\",\"y\":[365],\"yaxis\":\"y\",\"type\":\"bar\"},{\"alignmentgroup\":\"True\",\"hovertemplate\":\"Time=%{x}\\u003cbr\\u003eNumber of Goals\\u26bd=%{text}\\u003cextra\\u003e\\u003c\\u002fextra\\u003e\",\"legendgroup\":\"First half\",\"marker\":{\"color\":\"#EF553B\",\"pattern\":{\"shape\":\"\"}},\"name\":\"First half\",\"offsetgroup\":\"First half\",\"orientation\":\"v\",\"showlegend\":true,\"text\":[317.0],\"textposition\":\"auto\",\"x\":[\"First half\"],\"xaxis\":\"x\",\"y\":[317],\"yaxis\":\"y\",\"type\":\"bar\"},{\"alignmentgroup\":\"True\",\"hovertemplate\":\"Time=%{x}\\u003cbr\\u003eNumber of Goals\\u26bd=%{text}\\u003cextra\\u003e\\u003c\\u002fextra\\u003e\",\"legendgroup\":\"Plus 90\",\"marker\":{\"color\":\"#00cc96\",\"pattern\":{\"shape\":\"\"}},\"name\":\"Plus 90\",\"offsetgroup\":\"Plus 90\",\"orientation\":\"v\",\"showlegend\":true,\"text\":[22.0],\"textposition\":\"auto\",\"x\":[\"Plus 90\"],\"xaxis\":\"x\",\"y\":[22],\"yaxis\":\"y\",\"type\":\"bar\"},{\"alignmentgroup\":\"True\",\"hovertemplate\":\"Time=%{x}\\u003cbr\\u003eNumber of Goals\\u26bd=%{text}\\u003cextra\\u003e\\u003c\\u002fextra\\u003e\",\"legendgroup\":\"Extra Time\",\"marker\":{\"color\":\"#ab63fa\",\"pattern\":{\"shape\":\"\"}},\"name\":\"Extra Time\",\"offsetgroup\":\"Extra Time\",\"orientation\":\"v\",\"showlegend\":true,\"text\":[6.0],\"textposition\":\"auto\",\"x\":[\"Extra Time\"],\"xaxis\":\"x\",\"y\":[6],\"yaxis\":\"y\",\"type\":\"bar\"}],                        {\"template\":{\"data\":{\"histogram2dcontour\":[{\"type\":\"histogram2dcontour\",\"colorbar\":{\"outlinewidth\":0,\"ticks\":\"\"},\"colorscale\":[[0.0,\"#0d0887\"],[0.1111111111111111,\"#46039f\"],[0.2222222222222222,\"#7201a8\"],[0.3333333333333333,\"#9c179e\"],[0.4444444444444444,\"#bd3786\"],[0.5555555555555556,\"#d8576b\"],[0.6666666666666666,\"#ed7953\"],[0.7777777777777778,\"#fb9f3a\"],[0.8888888888888888,\"#fdca26\"],[1.0,\"#f0f921\"]]}],\"choropleth\":[{\"type\":\"choropleth\",\"colorbar\":{\"outlinewidth\":0,\"ticks\":\"\"}}],\"histogram2d\":[{\"type\":\"histogram2d\",\"colorbar\":{\"outlinewidth\":0,\"ticks\":\"\"},\"colorscale\":[[0.0,\"#0d0887\"],[0.1111111111111111,\"#46039f\"],[0.2222222222222222,\"#7201a8\"],[0.3333333333333333,\"#9c179e\"],[0.4444444444444444,\"#bd3786\"],[0.5555555555555556,\"#d8576b\"],[0.6666666666666666,\"#ed7953\"],[0.7777777777777778,\"#fb9f3a\"],[0.8888888888888888,\"#fdca26\"],[1.0,\"#f0f921\"]]}],\"heatmap\":[{\"type\":\"heatmap\",\"colorbar\":{\"outlinewidth\":0,\"ticks\":\"\"},\"colorscale\":[[0.0,\"#0d0887\"],[0.1111111111111111,\"#46039f\"],[0.2222222222222222,\"#7201a8\"],[0.3333333333333333,\"#9c179e\"],[0.4444444444444444,\"#bd3786\"],[0.5555555555555556,\"#d8576b\"],[0.6666666666666666,\"#ed7953\"],[0.7777777777777778,\"#fb9f3a\"],[0.8888888888888888,\"#fdca26\"],[1.0,\"#f0f921\"]]}],\"heatmapgl\":[{\"type\":\"heatmapgl\",\"colorbar\":{\"outlinewidth\":0,\"ticks\":\"\"},\"colorscale\":[[0.0,\"#0d0887\"],[0.1111111111111111,\"#46039f\"],[0.2222222222222222,\"#7201a8\"],[0.3333333333333333,\"#9c179e\"],[0.4444444444444444,\"#bd3786\"],[0.5555555555555556,\"#d8576b\"],[0.6666666666666666,\"#ed7953\"],[0.7777777777777778,\"#fb9f3a\"],[0.8888888888888888,\"#fdca26\"],[1.0,\"#f0f921\"]]}],\"contourcarpet\":[{\"type\":\"contourcarpet\",\"colorbar\":{\"outlinewidth\":0,\"ticks\":\"\"}}],\"contour\":[{\"type\":\"contour\",\"colorbar\":{\"outlinewidth\":0,\"ticks\":\"\"},\"colorscale\":[[0.0,\"#0d0887\"],[0.1111111111111111,\"#46039f\"],[0.2222222222222222,\"#7201a8\"],[0.3333333333333333,\"#9c179e\"],[0.4444444444444444,\"#bd3786\"],[0.5555555555555556,\"#d8576b\"],[0.6666666666666666,\"#ed7953\"],[0.7777777777777778,\"#fb9f3a\"],[0.8888888888888888,\"#fdca26\"],[1.0,\"#f0f921\"]]}],\"surface\":[{\"type\":\"surface\",\"colorbar\":{\"outlinewidth\":0,\"ticks\":\"\"},\"colorscale\":[[0.0,\"#0d0887\"],[0.1111111111111111,\"#46039f\"],[0.2222222222222222,\"#7201a8\"],[0.3333333333333333,\"#9c179e\"],[0.4444444444444444,\"#bd3786\"],[0.5555555555555556,\"#d8576b\"],[0.6666666666666666,\"#ed7953\"],[0.7777777777777778,\"#fb9f3a\"],[0.8888888888888888,\"#fdca26\"],[1.0,\"#f0f921\"]]}],\"mesh3d\":[{\"type\":\"mesh3d\",\"colorbar\":{\"outlinewidth\":0,\"ticks\":\"\"}}],\"scatter\":[{\"fillpattern\":{\"fillmode\":\"overlay\",\"size\":10,\"solidity\":0.2},\"type\":\"scatter\"}],\"parcoords\":[{\"type\":\"parcoords\",\"line\":{\"colorbar\":{\"outlinewidth\":0,\"ticks\":\"\"}}}],\"scatterpolargl\":[{\"type\":\"scatterpolargl\",\"marker\":{\"colorbar\":{\"outlinewidth\":0,\"ticks\":\"\"}}}],\"bar\":[{\"error_x\":{\"color\":\"#2a3f5f\"},\"error_y\":{\"color\":\"#2a3f5f\"},\"marker\":{\"line\":{\"color\":\"#E5ECF6\",\"width\":0.5},\"pattern\":{\"fillmode\":\"overlay\",\"size\":10,\"solidity\":0.2}},\"type\":\"bar\"}],\"scattergeo\":[{\"type\":\"scattergeo\",\"marker\":{\"colorbar\":{\"outlinewidth\":0,\"ticks\":\"\"}}}],\"scatterpolar\":[{\"type\":\"scatterpolar\",\"marker\":{\"colorbar\":{\"outlinewidth\":0,\"ticks\":\"\"}}}],\"histogram\":[{\"marker\":{\"pattern\":{\"fillmode\":\"overlay\",\"size\":10,\"solidity\":0.2}},\"type\":\"histogram\"}],\"scattergl\":[{\"type\":\"scattergl\",\"marker\":{\"colorbar\":{\"outlinewidth\":0,\"ticks\":\"\"}}}],\"scatter3d\":[{\"type\":\"scatter3d\",\"line\":{\"colorbar\":{\"outlinewidth\":0,\"ticks\":\"\"}},\"marker\":{\"colorbar\":{\"outlinewidth\":0,\"ticks\":\"\"}}}],\"scattermapbox\":[{\"type\":\"scattermapbox\",\"marker\":{\"colorbar\":{\"outlinewidth\":0,\"ticks\":\"\"}}}],\"scatterternary\":[{\"type\":\"scatterternary\",\"marker\":{\"colorbar\":{\"outlinewidth\":0,\"ticks\":\"\"}}}],\"scattercarpet\":[{\"type\":\"scattercarpet\",\"marker\":{\"colorbar\":{\"outlinewidth\":0,\"ticks\":\"\"}}}],\"carpet\":[{\"aaxis\":{\"endlinecolor\":\"#2a3f5f\",\"gridcolor\":\"white\",\"linecolor\":\"white\",\"minorgridcolor\":\"white\",\"startlinecolor\":\"#2a3f5f\"},\"baxis\":{\"endlinecolor\":\"#2a3f5f\",\"gridcolor\":\"white\",\"linecolor\":\"white\",\"minorgridcolor\":\"white\",\"startlinecolor\":\"#2a3f5f\"},\"type\":\"carpet\"}],\"table\":[{\"cells\":{\"fill\":{\"color\":\"#EBF0F8\"},\"line\":{\"color\":\"white\"}},\"header\":{\"fill\":{\"color\":\"#C8D4E3\"},\"line\":{\"color\":\"white\"}},\"type\":\"table\"}],\"barpolar\":[{\"marker\":{\"line\":{\"color\":\"#E5ECF6\",\"width\":0.5},\"pattern\":{\"fillmode\":\"overlay\",\"size\":10,\"solidity\":0.2}},\"type\":\"barpolar\"}],\"pie\":[{\"automargin\":true,\"type\":\"pie\"}]},\"layout\":{\"autotypenumbers\":\"strict\",\"colorway\":[\"#636efa\",\"#EF553B\",\"#00cc96\",\"#ab63fa\",\"#FFA15A\",\"#19d3f3\",\"#FF6692\",\"#B6E880\",\"#FF97FF\",\"#FECB52\"],\"font\":{\"color\":\"#2a3f5f\"},\"hovermode\":\"closest\",\"hoverlabel\":{\"align\":\"left\"},\"paper_bgcolor\":\"white\",\"plot_bgcolor\":\"#E5ECF6\",\"polar\":{\"bgcolor\":\"#E5ECF6\",\"angularaxis\":{\"gridcolor\":\"white\",\"linecolor\":\"white\",\"ticks\":\"\"},\"radialaxis\":{\"gridcolor\":\"white\",\"linecolor\":\"white\",\"ticks\":\"\"}},\"ternary\":{\"bgcolor\":\"#E5ECF6\",\"aaxis\":{\"gridcolor\":\"white\",\"linecolor\":\"white\",\"ticks\":\"\"},\"baxis\":{\"gridcolor\":\"white\",\"linecolor\":\"white\",\"ticks\":\"\"},\"caxis\":{\"gridcolor\":\"white\",\"linecolor\":\"white\",\"ticks\":\"\"}},\"coloraxis\":{\"colorbar\":{\"outlinewidth\":0,\"ticks\":\"\"}},\"colorscale\":{\"sequential\":[[0.0,\"#0d0887\"],[0.1111111111111111,\"#46039f\"],[0.2222222222222222,\"#7201a8\"],[0.3333333333333333,\"#9c179e\"],[0.4444444444444444,\"#bd3786\"],[0.5555555555555556,\"#d8576b\"],[0.6666666666666666,\"#ed7953\"],[0.7777777777777778,\"#fb9f3a\"],[0.8888888888888888,\"#fdca26\"],[1.0,\"#f0f921\"]],\"sequentialminus\":[[0.0,\"#0d0887\"],[0.1111111111111111,\"#46039f\"],[0.2222222222222222,\"#7201a8\"],[0.3333333333333333,\"#9c179e\"],[0.4444444444444444,\"#bd3786\"],[0.5555555555555556,\"#d8576b\"],[0.6666666666666666,\"#ed7953\"],[0.7777777777777778,\"#fb9f3a\"],[0.8888888888888888,\"#fdca26\"],[1.0,\"#f0f921\"]],\"diverging\":[[0,\"#8e0152\"],[0.1,\"#c51b7d\"],[0.2,\"#de77ae\"],[0.3,\"#f1b6da\"],[0.4,\"#fde0ef\"],[0.5,\"#f7f7f7\"],[0.6,\"#e6f5d0\"],[0.7,\"#b8e186\"],[0.8,\"#7fbc41\"],[0.9,\"#4d9221\"],[1,\"#276419\"]]},\"xaxis\":{\"gridcolor\":\"white\",\"linecolor\":\"white\",\"ticks\":\"\",\"title\":{\"standoff\":15},\"zerolinecolor\":\"white\",\"automargin\":true,\"zerolinewidth\":2},\"yaxis\":{\"gridcolor\":\"white\",\"linecolor\":\"white\",\"ticks\":\"\",\"title\":{\"standoff\":15},\"zerolinecolor\":\"white\",\"automargin\":true,\"zerolinewidth\":2},\"scene\":{\"xaxis\":{\"backgroundcolor\":\"#E5ECF6\",\"gridcolor\":\"white\",\"linecolor\":\"white\",\"showbackground\":true,\"ticks\":\"\",\"zerolinecolor\":\"white\",\"gridwidth\":2},\"yaxis\":{\"backgroundcolor\":\"#E5ECF6\",\"gridcolor\":\"white\",\"linecolor\":\"white\",\"showbackground\":true,\"ticks\":\"\",\"zerolinecolor\":\"white\",\"gridwidth\":2},\"zaxis\":{\"backgroundcolor\":\"#E5ECF6\",\"gridcolor\":\"white\",\"linecolor\":\"white\",\"showbackground\":true,\"ticks\":\"\",\"zerolinecolor\":\"white\",\"gridwidth\":2}},\"shapedefaults\":{\"line\":{\"color\":\"#2a3f5f\"}},\"annotationdefaults\":{\"arrowcolor\":\"#2a3f5f\",\"arrowhead\":0,\"arrowwidth\":1},\"geo\":{\"bgcolor\":\"white\",\"landcolor\":\"#E5ECF6\",\"subunitcolor\":\"white\",\"showland\":true,\"showlakes\":true,\"lakecolor\":\"white\"},\"title\":{\"x\":0.05},\"mapbox\":{\"style\":\"light\"}}},\"xaxis\":{\"anchor\":\"y\",\"domain\":[0.0,1.0],\"title\":{\"text\":\"Time\"},\"categoryorder\":\"array\",\"categoryarray\":[\"Second half\",\"First half\",\"Plus 90\",\"Extra Time\"]},\"yaxis\":{\"anchor\":\"x\",\"domain\":[0.0,1.0],\"title\":{\"text\":\"Number of Goals\\u26bd\"}},\"legend\":{\"title\":{\"text\":\"Time\"},\"tracegroupgap\":0},\"title\":{\"text\":\"CR7 Goals per time \\u231a\\u26bd\"},\"barmode\":\"relative\"},                        {\"responsive\": true}                    ).then(function(){\n",
              "                            \n",
              "var gd = document.getElementById('f11f9785-d612-4cfd-8bf7-3e477997f4bd');\n",
              "var x = new MutationObserver(function (mutations, observer) {{\n",
              "        var display = window.getComputedStyle(gd).display;\n",
              "        if (!display || display === 'none') {{\n",
              "            console.log([gd, 'removed!']);\n",
              "            Plotly.purge(gd);\n",
              "            observer.disconnect();\n",
              "        }}\n",
              "}});\n",
              "\n",
              "// Listen for the removal of the full notebook cells\n",
              "var notebookContainer = gd.closest('#notebook-container');\n",
              "if (notebookContainer) {{\n",
              "    x.observe(notebookContainer, {childList: true});\n",
              "}}\n",
              "\n",
              "// Listen for the clearing of the current output cell\n",
              "var outputEl = gd.closest('.output');\n",
              "if (outputEl) {{\n",
              "    x.observe(outputEl, {childList: true});\n",
              "}}\n",
              "\n",
              "                        })                };                            </script>        </div>\n",
              "</body>\n",
              "</html>"
            ]
          },
          "metadata": {}
        }
      ],
      "source": [
        "#CR7 Goals per time ⌚⚽\n",
        "#let's do some reshaping\n",
        "first_half = list(range(1,46,1)) #a list contains mins from 1 to 45\n",
        "second_half = list(range(46,91,1)) #a list contains mins from 46 to 90\n",
        "\n",
        "mins = df['Minute'].apply(lambda x: '45' if '45+' in x else x) #a temp change for better summary\n",
        "#applying time inverval categories to the data\n",
        "mins = mins.apply(lambda x: 'First half' if eval(x) in first_half else('Second half' if eval(x) in second_half else ('Plus 90' if '90+' in x else 'Extra Time')))\n",
        "\n",
        "#creating a dataframe that will be visualized using plotly\n",
        "goals_by_time = pd.DataFrame(mins.value_counts()).reset_index()\n",
        "\n",
        "# Create a bar plot using Plotly Express\n",
        "fig = px.bar(goals_by_time, x='Minute', y='count', title=\"CR7 Goals per time ⌚⚽\",\n",
        "            labels={'Minute': 'Time', 'count': 'Number of Goals⚽'}, text= 'count',\n",
        "            color = 'Minute')\n",
        "\n",
        "# Show the plot\n",
        "fig.show()"
      ]
    },
    {
      "cell_type": "code",
      "execution_count": null,
      "id": "5dad163d",
      "metadata": {
        "execution": {
          "iopub.execute_input": "2023-10-07T05:39:07.267893Z",
          "iopub.status.busy": "2023-10-07T05:39:07.267566Z",
          "iopub.status.idle": "2023-10-07T05:39:07.336292Z",
          "shell.execute_reply": "2023-10-07T05:39:07.335752Z"
        },
        "papermill": {
          "duration": 0.078104,
          "end_time": "2023-10-07T05:39:07.337634",
          "exception": false,
          "start_time": "2023-10-07T05:39:07.259530",
          "status": "completed"
        },
        "tags": [],
        "colab": {
          "base_uri": "https://localhost:8080/"
        },
        "id": "5dad163d",
        "outputId": "4cf0d5a6-5bca-4a40-f045-6efefe85f997"
      },
      "outputs": [
        {
          "output_type": "display_data",
          "data": {
            "text/html": [
              "<html>\n",
              "<head><meta charset=\"utf-8\" /></head>\n",
              "<body>\n",
              "    <div>            <script src=\"https://cdnjs.cloudflare.com/ajax/libs/mathjax/2.7.5/MathJax.js?config=TeX-AMS-MML_SVG\"></script><script type=\"text/javascript\">if (window.MathJax && window.MathJax.Hub && window.MathJax.Hub.Config) {window.MathJax.Hub.Config({SVG: {font: \"STIX-Web\"}});}</script>                <script type=\"text/javascript\">window.PlotlyConfig = {MathJaxConfig: 'local'};</script>\n",
              "        <script charset=\"utf-8\" src=\"https://cdn.plot.ly/plotly-2.24.1.min.js\"></script>                <div id=\"958b40bf-65c2-457a-b628-5c5fdf4169a7\" class=\"plotly-graph-div\" style=\"height:525px; width:100%;\"></div>            <script type=\"text/javascript\">                                    window.PLOTLYENV=window.PLOTLYENV || {};                                    if (document.getElementById(\"958b40bf-65c2-457a-b628-5c5fdf4169a7\")) {                    Plotly.newPlot(                        \"958b40bf-65c2-457a-b628-5c5fdf4169a7\",                        [{\"hovertemplate\":\"Date=%{x}\\u003cbr\\u003eCumulative_Goals=%{y}\\u003cextra\\u003e\\u003c\\u002fextra\\u003e\",\"legendgroup\":\"\",\"line\":{\"color\":\"#636efa\",\"dash\":\"solid\"},\"marker\":{\"symbol\":\"circle\"},\"mode\":\"lines\",\"name\":\"\",\"orientation\":\"v\",\"showlegend\":false,\"x\":[\"2002-07-10T00:00:00\",\"2002-07-10T00:00:00\",\"2002-10-26T00:00:00\",\"2002-11-24T00:00:00\",\"2002-12-18T00:00:00\",\"2003-01-11T00:00:00\",\"2004-02-14T00:00:00\",\"2004-03-20T00:00:00\",\"2004-10-04T00:00:00\",\"2004-05-15T00:00:00\",\"2004-05-22T00:00:00\",\"2004-04-12T00:00:00\",\"2005-01-19T00:00:00\",\"2005-01-22T00:00:00\",\"2005-01-02T00:00:00\",\"2005-01-02T00:00:00\",\"2005-02-19T00:00:00\",\"2005-12-03T00:00:00\",\"2005-03-19T00:00:00\",\"2005-04-17T00:00:00\",\"2005-09-08T00:00:00\",\"2005-10-29T00:00:00\",\"2005-11-30T00:00:00\",\"2005-12-31T00:00:00\",\"2005-12-31T00:00:00\",\"2006-04-02T00:00:00\",\"2006-04-02T00:00:00\",\"2006-11-02T00:00:00\",\"2006-11-02T00:00:00\",\"2006-02-26T00:00:00\",\"2006-06-03T00:00:00\",\"2006-07-05T00:00:00\",\"2006-08-20T00:00:00\",\"2006-09-23T00:00:00\",\"2006-10-28T00:00:00\",\"2006-04-11T00:00:00\",\"2006-11-29T00:00:00\",\"2006-09-12T00:00:00\",\"2006-12-23T00:00:00\",\"2006-12-23T00:00:00\",\"2006-12-26T00:00:00\",\"2006-12-26T00:00:00\",\"2006-12-30T00:00:00\",\"2006-12-30T00:00:00\",\"2007-01-13T00:00:00\",\"2007-01-31T00:00:00\",\"2007-03-02T00:00:00\",\"2007-02-24T00:00:00\",\"2007-10-03T00:00:00\",\"2007-03-19T00:00:00\",\"2007-10-04T00:00:00\",\"2007-10-04T00:00:00\",\"2007-04-14T00:00:00\",\"2007-04-24T00:00:00\",\"2007-05-05T00:00:00\",\"2007-09-19T00:00:00\",\"2007-09-29T00:00:00\",\"2007-06-10T00:00:00\",\"2007-06-10T00:00:00\",\"2007-10-23T00:00:00\",\"2007-10-23T00:00:00\",\"2007-03-11T00:00:00\",\"2007-07-11T00:00:00\",\"2007-11-11T00:00:00\",\"2007-11-11T00:00:00\",\"2007-11-27T00:00:00\",\"2007-03-12T00:00:00\",\"2007-03-12T00:00:00\",\"2007-08-12T00:00:00\",\"2007-12-23T00:00:00\",\"2007-12-23T00:00:00\",\"2007-12-26T00:00:00\",\"2007-12-29T00:00:00\",\"2008-05-01T00:00:00\",\"2008-12-01T00:00:00\",\"2008-12-01T00:00:00\",\"2008-12-01T00:00:00\",\"2008-01-19T00:00:00\",\"2008-01-27T00:00:00\",\"2008-01-27T00:00:00\",\"2008-01-30T00:00:00\",\"2008-01-30T00:00:00\",\"2008-02-23T00:00:00\",\"2008-02-23T00:00:00\",\"2008-04-03T00:00:00\",\"2008-03-15T00:00:00\",\"2008-03-19T00:00:00\",\"2008-03-19T00:00:00\",\"2008-03-23T00:00:00\",\"2008-03-29T00:00:00\",\"2008-01-04T00:00:00\",\"2008-06-04T00:00:00\",\"2008-04-13T00:00:00\",\"2008-03-05T00:00:00\",\"2008-03-05T00:00:00\",\"2008-11-05T00:00:00\",\"2008-05-21T00:00:00\",\"2008-09-23T00:00:00\",\"2008-09-27T00:00:00\",\"2008-10-18T00:00:00\",\"2008-10-29T00:00:00\",\"2008-10-29T00:00:00\",\"2008-01-11T00:00:00\",\"2008-01-11T00:00:00\",\"2008-11-15T00:00:00\",\"2008-11-15T00:00:00\",\"2008-12-18T00:00:00\",\"2009-01-20T00:00:00\",\"2009-01-27T00:00:00\",\"2009-01-27T00:00:00\",\"2009-01-31T00:00:00\",\"2009-02-15T00:00:00\",\"2009-02-21T00:00:00\",\"2009-11-03T00:00:00\",\"2009-03-14T00:00:00\",\"2009-05-04T00:00:00\",\"2009-05-04T00:00:00\",\"2009-04-15T00:00:00\",\"2009-04-25T00:00:00\",\"2009-04-25T00:00:00\",\"2009-05-05T00:00:00\",\"2009-05-05T00:00:00\",\"2009-10-05T00:00:00\",\"2009-08-29T00:00:00\",\"2009-12-09T00:00:00\",\"2009-09-15T00:00:00\",\"2009-09-15T00:00:00\",\"2009-09-20T00:00:00\",\"2009-09-20T00:00:00\",\"2009-09-23T00:00:00\",\"2009-09-30T00:00:00\",\"2009-09-30T00:00:00\",\"2009-05-12T00:00:00\",\"2009-08-12T00:00:00\",\"2009-08-12T00:00:00\",\"2009-12-19T00:00:00\",\"2010-01-24T00:00:00\",\"2010-01-24T00:00:00\",\"2010-02-13T00:00:00\",\"2010-02-13T00:00:00\",\"2010-02-21T00:00:00\",\"2010-02-27T00:00:00\",\"2010-06-03T00:00:00\",\"2010-10-03T00:00:00\",\"2010-03-14T00:00:00\",\"2010-03-25T00:00:00\",\"2010-03-25T00:00:00\",\"2010-04-04T00:00:00\",\"2010-04-15T00:00:00\",\"2010-04-18T00:00:00\",\"2010-02-05T00:00:00\",\"2010-02-05T00:00:00\",\"2010-05-05T00:00:00\",\"2010-05-05T00:00:00\",\"2010-05-05T00:00:00\",\"2010-08-05T00:00:00\",\"2010-09-21T00:00:00\",\"2010-03-10T00:00:00\",\"2010-03-10T00:00:00\",\"2010-10-16T00:00:00\",\"2010-10-16T00:00:00\",\"2010-10-19T00:00:00\",\"2010-10-23T00:00:00\",\"2010-10-23T00:00:00\",\"2010-10-23T00:00:00\",\"2010-10-23T00:00:00\",\"2010-10-30T00:00:00\",\"2010-10-30T00:00:00\",\"2010-10-11T00:00:00\",\"2010-11-20T00:00:00\",\"2010-11-20T00:00:00\",\"2010-11-20T00:00:00\",\"2010-11-23T00:00:00\",\"2010-11-23T00:00:00\",\"2010-04-12T00:00:00\",\"2010-04-12T00:00:00\",\"2010-08-12T00:00:00\",\"2010-12-12T00:00:00\",\"2010-12-22T00:00:00\",\"2010-12-22T00:00:00\",\"2010-12-22T00:00:00\",\"2011-03-01T00:00:00\",\"2011-03-01T00:00:00\",\"2011-09-01T00:00:00\",\"2011-09-01T00:00:00\",\"2011-09-01T00:00:00\",\"2011-01-13T00:00:00\",\"2011-01-20T00:00:00\",\"2011-06-02T00:00:00\",\"2011-06-02T00:00:00\",\"2011-03-03T00:00:00\",\"2011-03-03T00:00:00\",\"2011-03-03T00:00:00\",\"2011-05-04T00:00:00\",\"2011-09-04T00:00:00\",\"2011-04-13T00:00:00\",\"2011-04-16T00:00:00\",\"2011-04-20T00:00:00\",\"2011-07-05T00:00:00\",\"2011-07-05T00:00:00\",\"2011-07-05T00:00:00\",\"2011-07-05T00:00:00\",\"2011-10-05T00:00:00\",\"2011-10-05T00:00:00\",\"2011-10-05T00:00:00\",\"2011-05-15T00:00:00\",\"2011-05-15T00:00:00\",\"2011-05-21T00:00:00\",\"2011-05-21T00:00:00\",\"2011-08-17T00:00:00\",\"2011-08-28T00:00:00\",\"2011-08-28T00:00:00\",\"2011-08-28T00:00:00\",\"2011-10-09T00:00:00\",\"2011-09-24T00:00:00\",\"2011-09-24T00:00:00\",\"2011-09-24T00:00:00\",\"2011-09-27T00:00:00\",\"2011-10-22T00:00:00\",\"2011-10-22T00:00:00\",\"2011-10-22T00:00:00\",\"2011-02-11T00:00:00\",\"2011-02-11T00:00:00\",\"2011-06-11T00:00:00\",\"2011-06-11T00:00:00\",\"2011-06-11T00:00:00\",\"2011-11-19T00:00:00\",\"2011-11-26T00:00:00\",\"2011-11-26T00:00:00\",\"2011-03-12T00:00:00\",\"2011-12-13T00:00:00\",\"2011-12-17T00:00:00\",\"2011-12-17T00:00:00\",\"2011-12-17T00:00:00\",\"2012-07-01T00:00:00\",\"2012-01-18T00:00:00\",\"2012-01-22T00:00:00\",\"2012-01-22T00:00:00\",\"2012-01-25T00:00:00\",\"2012-01-28T00:00:00\",\"2012-12-02T00:00:00\",\"2012-12-02T00:00:00\",\"2012-12-02T00:00:00\",\"2012-02-18T00:00:00\",\"2012-02-21T00:00:00\",\"2012-02-26T00:00:00\",\"2012-04-03T00:00:00\",\"2012-10-03T00:00:00\",\"2012-10-03T00:00:00\",\"2012-03-14T00:00:00\",\"2012-03-14T00:00:00\",\"2012-03-21T00:00:00\",\"2012-03-24T00:00:00\",\"2012-03-24T00:00:00\",\"2012-03-31T00:00:00\",\"2012-03-31T00:00:00\",\"2012-04-04T00:00:00\",\"2012-04-04T00:00:00\",\"2012-11-04T00:00:00\",\"2012-11-04T00:00:00\",\"2012-11-04T00:00:00\",\"2012-04-14T00:00:00\",\"2012-04-21T00:00:00\",\"2012-04-25T00:00:00\",\"2012-04-25T00:00:00\",\"2012-04-29T00:00:00\",\"2012-02-05T00:00:00\",\"2012-05-05T00:00:00\",\"2012-05-13T00:00:00\",\"2012-08-23T00:00:00\",\"2012-08-29T00:00:00\",\"2012-02-09T00:00:00\",\"2012-02-09T00:00:00\",\"2012-09-18T00:00:00\",\"2012-09-24T00:00:00\",\"2012-09-30T00:00:00\",\"2012-09-30T00:00:00\",\"2012-09-30T00:00:00\",\"2012-03-10T00:00:00\",\"2012-03-10T00:00:00\",\"2012-03-10T00:00:00\",\"2012-07-10T00:00:00\",\"2012-07-10T00:00:00\",\"2012-10-20T00:00:00\",\"2012-10-24T00:00:00\",\"2012-10-28T00:00:00\",\"2012-10-28T00:00:00\",\"2012-11-11T00:00:00\",\"2012-01-12T00:00:00\",\"2012-04-12T00:00:00\",\"2012-12-12T00:00:00\",\"2012-12-16T00:00:00\",\"2013-06-01T00:00:00\",\"2013-06-01T00:00:00\",\"2013-09-01T00:00:00\",\"2013-09-01T00:00:00\",\"2013-09-01T00:00:00\",\"2013-01-20T00:00:00\",\"2013-01-20T00:00:00\",\"2013-01-27T00:00:00\",\"2013-01-27T00:00:00\",\"2013-01-27T00:00:00\",\"2013-09-02T00:00:00\",\"2013-09-02T00:00:00\",\"2013-09-02T00:00:00\",\"2013-02-13T00:00:00\",\"2013-02-26T00:00:00\",\"2013-02-26T00:00:00\",\"2013-05-03T00:00:00\",\"2013-10-03T00:00:00\",\"2013-10-03T00:00:00\",\"2013-03-16T00:00:00\",\"2013-03-30T00:00:00\",\"2013-03-04T00:00:00\",\"2013-06-04T00:00:00\",\"2013-09-04T00:00:00\",\"2013-09-04T00:00:00\",\"2013-04-14T00:00:00\",\"2013-04-14T00:00:00\",\"2013-04-24T00:00:00\",\"2013-04-05T00:00:00\",\"2013-04-05T00:00:00\",\"2013-08-05T00:00:00\",\"2013-05-17T00:00:00\",\"2013-01-09T00:00:00\",\"2013-09-14T00:00:00\",\"2013-09-17T00:00:00\",\"2013-09-17T00:00:00\",\"2013-09-17T00:00:00\",\"2013-09-22T00:00:00\",\"2013-09-22T00:00:00\",\"2013-09-25T00:00:00\",\"2013-09-25T00:00:00\",\"2013-02-10T00:00:00\",\"2013-02-10T00:00:00\",\"2013-05-10T00:00:00\",\"2013-10-19T00:00:00\",\"2013-10-23T00:00:00\",\"2013-10-23T00:00:00\",\"2013-10-30T00:00:00\",\"2013-10-30T00:00:00\",\"2013-10-30T00:00:00\",\"2013-02-11T00:00:00\",\"2013-02-11T00:00:00\",\"2013-05-11T00:00:00\",\"2013-09-11T00:00:00\",\"2013-09-11T00:00:00\",\"2013-09-11T00:00:00\",\"2013-11-23T00:00:00\",\"2013-10-12T00:00:00\",\"2013-12-22T00:00:00\",\"2014-06-01T00:00:00\",\"2014-06-01T00:00:00\",\"2014-01-15T00:00:00\",\"2014-01-18T00:00:00\",\"2014-01-25T00:00:00\",\"2014-11-02T00:00:00\",\"2014-11-02T00:00:00\",\"2014-02-26T00:00:00\",\"2014-02-26T00:00:00\",\"2014-02-03T00:00:00\",\"2014-09-03T00:00:00\",\"2014-03-15T00:00:00\",\"2014-03-18T00:00:00\",\"2014-03-18T00:00:00\",\"2014-03-23T00:00:00\",\"2014-03-26T00:00:00\",\"2014-03-29T00:00:00\",\"2014-02-04T00:00:00\",\"2014-04-26T00:00:00\",\"2014-04-26T00:00:00\",\"2014-04-29T00:00:00\",\"2014-04-29T00:00:00\",\"2014-04-05T00:00:00\",\"2014-05-24T00:00:00\",\"2014-12-08T00:00:00\",\"2014-12-08T00:00:00\",\"2014-08-25T00:00:00\",\"2014-09-13T00:00:00\",\"2014-09-16T00:00:00\",\"2014-09-20T00:00:00\",\"2014-09-20T00:00:00\",\"2014-09-20T00:00:00\",\"2014-09-23T00:00:00\",\"2014-09-23T00:00:00\",\"2014-09-23T00:00:00\",\"2014-09-23T00:00:00\",\"2014-09-27T00:00:00\",\"2014-01-10T00:00:00\",\"2014-05-10T00:00:00\",\"2014-05-10T00:00:00\",\"2014-05-10T00:00:00\",\"2014-10-18T00:00:00\",\"2014-10-18T00:00:00\",\"2014-10-22T00:00:00\",\"2014-10-25T00:00:00\",\"2014-01-11T00:00:00\",\"2014-08-11T00:00:00\",\"2014-11-22T00:00:00\",\"2014-11-22T00:00:00\",\"2014-11-26T00:00:00\",\"2014-06-12T00:00:00\",\"2014-06-12T00:00:00\",\"2014-06-12T00:00:00\",\"2014-09-12T00:00:00\",\"2014-12-12T00:00:00\",\"2014-12-12T00:00:00\",\"2015-04-01T00:00:00\",\"2015-01-15T00:00:00\",\"2015-01-18T00:00:00\",\"2015-01-18T00:00:00\",\"2015-02-18T00:00:00\",\"2015-02-22T00:00:00\",\"2015-01-03T00:00:00\",\"2015-10-03T00:00:00\",\"2015-10-03T00:00:00\",\"2015-03-22T00:00:00\",\"2015-05-04T00:00:00\",\"2015-05-04T00:00:00\",\"2015-05-04T00:00:00\",\"2015-05-04T00:00:00\",\"2015-05-04T00:00:00\",\"2015-08-04T00:00:00\",\"2015-11-04T00:00:00\",\"2015-04-18T00:00:00\",\"2015-02-05T00:00:00\",\"2015-02-05T00:00:00\",\"2015-02-05T00:00:00\",\"2015-05-05T00:00:00\",\"2015-05-13T00:00:00\",\"2015-05-17T00:00:00\",\"2015-05-17T00:00:00\",\"2015-05-17T00:00:00\",\"2015-05-23T00:00:00\",\"2015-05-23T00:00:00\",\"2015-05-23T00:00:00\",\"2015-12-09T00:00:00\",\"2015-12-09T00:00:00\",\"2015-12-09T00:00:00\",\"2015-12-09T00:00:00\",\"2015-12-09T00:00:00\",\"2015-09-15T00:00:00\",\"2015-09-15T00:00:00\",\"2015-09-15T00:00:00\",\"2015-09-30T00:00:00\",\"2015-09-30T00:00:00\",\"2015-10-17T00:00:00\",\"2015-10-24T00:00:00\",\"2015-10-31T00:00:00\",\"2015-11-25T00:00:00\",\"2015-11-25T00:00:00\",\"2015-11-29T00:00:00\",\"2015-05-12T00:00:00\",\"2015-08-12T00:00:00\",\"2015-08-12T00:00:00\",\"2015-08-12T00:00:00\",\"2015-08-12T00:00:00\",\"2015-12-20T00:00:00\",\"2015-12-20T00:00:00\",\"2015-12-30T00:00:00\",\"2015-12-30T00:00:00\",\"2016-01-17T00:00:00\",\"2016-01-17T00:00:00\",\"2016-01-31T00:00:00\",\"2016-01-31T00:00:00\",\"2016-01-31T00:00:00\",\"2016-02-13T00:00:00\",\"2016-02-13T00:00:00\",\"2016-02-17T00:00:00\",\"2016-02-21T00:00:00\",\"2016-02-03T00:00:00\",\"2016-05-03T00:00:00\",\"2016-05-03T00:00:00\",\"2016-05-03T00:00:00\",\"2016-05-03T00:00:00\",\"2016-08-03T00:00:00\",\"2016-03-20T00:00:00\",\"2016-02-04T00:00:00\",\"2016-09-04T00:00:00\",\"2016-12-04T00:00:00\",\"2016-12-04T00:00:00\",\"2016-12-04T00:00:00\",\"2016-04-16T00:00:00\",\"2016-08-05T00:00:00\",\"2016-08-05T00:00:00\",\"2016-05-14T00:00:00\",\"2016-05-14T00:00:00\",\"2016-10-09T00:00:00\",\"2016-09-14T00:00:00\",\"2016-09-27T00:00:00\",\"2016-10-15T00:00:00\",\"2016-10-29T00:00:00\",\"2016-10-29T00:00:00\",\"2016-10-29T00:00:00\",\"2016-11-19T00:00:00\",\"2016-11-19T00:00:00\",\"2016-11-19T00:00:00\",\"2016-11-26T00:00:00\",\"2016-11-26T00:00:00\",\"2016-12-15T00:00:00\",\"2016-12-18T00:00:00\",\"2016-12-18T00:00:00\",\"2016-12-18T00:00:00\",\"2017-07-01T00:00:00\",\"2017-01-15T00:00:00\",\"2017-01-25T00:00:00\",\"2017-01-29T00:00:00\",\"2017-11-02T00:00:00\",\"2017-02-22T00:00:00\",\"2017-02-26T00:00:00\",\"2017-01-03T00:00:00\",\"2017-01-03T00:00:00\",\"2017-12-03T00:00:00\",\"2017-12-04T00:00:00\",\"2017-12-04T00:00:00\",\"2017-04-18T00:00:00\",\"2017-04-18T00:00:00\",\"2017-04-18T00:00:00\",\"2017-04-29T00:00:00\",\"2017-02-05T00:00:00\",\"2017-02-05T00:00:00\",\"2017-02-05T00:00:00\",\"2017-05-14T00:00:00\",\"2017-05-14T00:00:00\",\"2017-05-17T00:00:00\",\"2017-05-17T00:00:00\",\"2017-05-21T00:00:00\",\"2017-03-06T00:00:00\",\"2017-03-06T00:00:00\",\"2017-08-13T00:00:00\",\"2017-09-13T00:00:00\",\"2017-09-13T00:00:00\",\"2017-09-26T00:00:00\",\"2017-09-26T00:00:00\",\"2017-10-14T00:00:00\",\"2017-10-17T00:00:00\",\"2017-01-11T00:00:00\",\"2017-11-21T00:00:00\",\"2017-11-21T00:00:00\",\"2017-11-25T00:00:00\",\"2017-06-12T00:00:00\",\"2017-09-12T00:00:00\",\"2017-09-12T00:00:00\",\"2017-12-13T00:00:00\",\"2017-12-16T00:00:00\",\"2018-01-21T00:00:00\",\"2018-01-21T00:00:00\",\"2018-01-27T00:00:00\",\"2018-01-27T00:00:00\",\"2018-10-02T00:00:00\",\"2018-10-02T00:00:00\",\"2018-10-02T00:00:00\",\"2018-02-14T00:00:00\",\"2018-02-14T00:00:00\",\"2018-02-18T00:00:00\",\"2018-02-24T00:00:00\",\"2018-02-24T00:00:00\",\"2018-03-03T00:00:00\",\"2018-03-03T00:00:00\",\"2018-06-03T00:00:00\",\"2018-10-03T00:00:00\",\"2018-10-03T00:00:00\",\"2018-03-18T00:00:00\",\"2018-03-18T00:00:00\",\"2018-03-18T00:00:00\",\"2018-03-18T00:00:00\",\"2018-03-04T00:00:00\",\"2018-03-04T00:00:00\",\"2018-08-04T00:00:00\",\"2018-11-04T00:00:00\",\"2018-04-18T00:00:00\",\"2018-06-05T00:00:00\",\"2018-05-19T00:00:00\",\"2018-09-16T00:00:00\",\"2018-09-16T00:00:00\",\"2018-09-23T00:00:00\",\"2018-06-10T00:00:00\",\"2018-10-20T00:00:00\",\"2018-10-27T00:00:00\",\"2018-10-27T00:00:00\",\"2018-07-11T00:00:00\",\"2018-11-11T00:00:00\",\"2018-11-24T00:00:00\",\"2018-01-12T00:00:00\",\"2018-12-15T00:00:00\",\"2018-12-26T00:00:00\",\"2018-12-29T00:00:00\",\"2018-12-29T00:00:00\",\"2019-01-16T00:00:00\",\"2019-01-27T00:00:00\",\"2019-02-02T00:00:00\",\"2019-02-02T00:00:00\",\"2019-10-02T00:00:00\",\"2019-02-15T00:00:00\",\"2019-12-03T00:00:00\",\"2019-12-03T00:00:00\",\"2019-12-03T00:00:00\",\"2019-10-04T00:00:00\",\"2019-04-16T00:00:00\",\"2019-04-27T00:00:00\",\"2019-03-05T00:00:00\",\"2019-08-31T00:00:00\",\"2019-09-21T00:00:00\",\"2019-09-28T00:00:00\",\"2019-01-10T00:00:00\",\"2019-10-19T00:00:00\",\"2019-10-30T00:00:00\",\"2019-01-12T00:00:00\",\"2019-07-12T00:00:00\",\"2019-11-12T00:00:00\",\"2019-12-15T00:00:00\",\"2019-12-15T00:00:00\",\"2019-12-18T00:00:00\",\"2020-06-01T00:00:00\",\"2020-06-01T00:00:00\",\"2020-06-01T00:00:00\",\"2020-12-01T00:00:00\",\"2020-01-19T00:00:00\",\"2020-01-19T00:00:00\",\"2020-01-22T00:00:00\",\"2020-01-26T00:00:00\",\"2020-02-02T00:00:00\",\"2020-02-02T00:00:00\",\"2020-08-02T00:00:00\",\"2020-02-13T00:00:00\",\"2020-02-22T00:00:00\",\"2020-06-22T00:00:00\",\"2020-06-26T00:00:00\",\"2020-06-30T00:00:00\",\"2020-04-07T00:00:00\",\"2020-07-07T00:00:00\",\"2020-11-07T00:00:00\",\"2020-11-07T00:00:00\",\"2020-07-20T00:00:00\",\"2020-07-20T00:00:00\",\"2020-07-26T00:00:00\",\"2020-07-08T00:00:00\",\"2020-07-08T00:00:00\",\"2020-09-20T00:00:00\",\"2020-09-27T00:00:00\",\"2020-09-27T00:00:00\",\"2020-01-11T00:00:00\",\"2020-01-11T00:00:00\",\"2020-08-11T00:00:00\",\"2020-11-21T00:00:00\",\"2020-11-21T00:00:00\",\"2020-11-24T00:00:00\",\"2020-02-12T00:00:00\",\"2020-08-12T00:00:00\",\"2020-08-12T00:00:00\",\"2020-12-13T00:00:00\",\"2020-12-13T00:00:00\",\"2020-12-19T00:00:00\",\"2020-12-19T00:00:00\",\"2021-03-01T00:00:00\",\"2021-03-01T00:00:00\",\"2021-10-01T00:00:00\",\"2021-01-20T00:00:00\",\"2021-02-02T00:00:00\",\"2021-02-02T00:00:00\",\"2021-06-02T00:00:00\",\"2021-02-22T00:00:00\",\"2021-02-22T00:00:00\",\"2021-02-27T00:00:00\",\"2021-02-03T00:00:00\",\"2021-03-14T00:00:00\",\"2021-03-14T00:00:00\",\"2021-03-14T00:00:00\",\"2021-03-04T00:00:00\",\"2021-07-04T00:00:00\",\"2021-02-05T00:00:00\",\"2021-02-05T00:00:00\",\"2021-12-05T00:00:00\",\"2021-05-15T00:00:00\",\"2021-11-09T00:00:00\",\"2021-11-09T00:00:00\",\"2021-09-14T00:00:00\",\"2021-09-19T00:00:00\",\"2021-09-29T00:00:00\",\"2021-10-20T00:00:00\",\"2021-10-30T00:00:00\",\"2021-02-11T00:00:00\",\"2021-02-11T00:00:00\",\"2021-11-23T00:00:00\",\"2021-02-12T00:00:00\",\"2021-02-12T00:00:00\",\"2021-11-12T00:00:00\",\"2021-12-30T00:00:00\",\"2022-02-15T00:00:00\",\"2022-12-03T00:00:00\",\"2022-12-03T00:00:00\",\"2022-12-03T00:00:00\",\"2022-04-16T00:00:00\",\"2022-04-16T00:00:00\",\"2022-04-16T00:00:00\",\"2022-04-23T00:00:00\",\"2022-04-28T00:00:00\",\"2022-02-05T00:00:00\",\"2022-09-15T00:00:00\",\"2022-09-10T00:00:00\",\"2022-10-27T00:00:00\",\"2023-03-02T00:00:00\",\"2023-09-02T00:00:00\",\"2023-09-02T00:00:00\",\"2023-09-02T00:00:00\",\"2023-09-02T00:00:00\",\"2023-02-25T00:00:00\",\"2023-02-25T00:00:00\",\"2023-02-25T00:00:00\",\"2023-03-18T00:00:00\"],\"xaxis\":\"x\",\"y\":[1.0,2.0,3.0,4.0,5.0,6.0,7.0,8.0,9.0,10.0,11.0,12.0,13.0,14.0,15.0,16.0,17.0,18.0,19.0,20.0,21.0,22.0,23.0,24.0,25.0,26.0,27.0,28.0,29.0,30.0,31.0,32.0,33.0,34.0,35.0,36.0,37.0,38.0,39.0,40.0,41.0,42.0,43.0,44.0,45.0,46.0,47.0,48.0,49.0,50.0,51.0,52.0,53.0,54.0,55.0,56.0,57.0,58.0,59.0,60.0,61.0,62.0,63.0,64.0,65.0,66.0,67.0,68.0,69.0,70.0,71.0,72.0,73.0,74.0,75.0,76.0,77.0,78.0,79.0,80.0,81.0,82.0,83.0,84.0,85.0,86.0,87.0,88.0,89.0,90.0,91.0,92.0,93.0,94.0,95.0,96.0,97.0,98.0,99.0,100.0,101.0,102.0,103.0,104.0,105.0,106.0,107.0,108.0,109.0,110.0,111.0,112.0,113.0,114.0,115.0,116.0,117.0,118.0,119.0,120.0,121.0,122.0,123.0,124.0,125.0,126.0,127.0,128.0,129.0,130.0,131.0,132.0,133.0,134.0,135.0,136.0,137.0,138.0,139.0,140.0,141.0,142.0,143.0,144.0,145.0,146.0,147.0,148.0,149.0,150.0,151.0,152.0,153.0,154.0,155.0,156.0,157.0,158.0,159.0,160.0,161.0,162.0,163.0,164.0,165.0,166.0,167.0,168.0,169.0,170.0,171.0,172.0,173.0,174.0,175.0,176.0,177.0,178.0,179.0,180.0,181.0,182.0,183.0,184.0,185.0,186.0,187.0,188.0,189.0,190.0,191.0,192.0,193.0,194.0,195.0,196.0,197.0,198.0,199.0,200.0,201.0,202.0,203.0,204.0,205.0,206.0,207.0,208.0,209.0,210.0,211.0,212.0,213.0,214.0,215.0,216.0,217.0,218.0,219.0,220.0,221.0,222.0,223.0,224.0,225.0,226.0,227.0,228.0,229.0,230.0,231.0,232.0,233.0,234.0,235.0,236.0,237.0,238.0,239.0,240.0,241.0,242.0,243.0,244.0,245.0,246.0,247.0,248.0,249.0,250.0,251.0,252.0,253.0,254.0,255.0,256.0,257.0,258.0,259.0,260.0,261.0,262.0,263.0,264.0,265.0,266.0,267.0,268.0,269.0,270.0,271.0,272.0,273.0,274.0,275.0,276.0,277.0,278.0,279.0,280.0,281.0,282.0,283.0,284.0,285.0,286.0,287.0,288.0,289.0,290.0,291.0,292.0,293.0,294.0,295.0,296.0,297.0,298.0,299.0,300.0,301.0,302.0,303.0,304.0,305.0,306.0,307.0,308.0,309.0,310.0,311.0,312.0,313.0,314.0,315.0,316.0,317.0,318.0,319.0,320.0,321.0,322.0,323.0,324.0,325.0,326.0,327.0,328.0,329.0,330.0,331.0,332.0,333.0,334.0,335.0,336.0,337.0,338.0,339.0,340.0,341.0,342.0,343.0,344.0,345.0,346.0,347.0,348.0,349.0,350.0,351.0,352.0,353.0,354.0,355.0,356.0,357.0,358.0,359.0,360.0,361.0,362.0,363.0,364.0,365.0,366.0,367.0,368.0,369.0,370.0,371.0,372.0,373.0,374.0,375.0,376.0,377.0,378.0,379.0,380.0,381.0,382.0,383.0,384.0,385.0,386.0,387.0,388.0,389.0,390.0,391.0,392.0,393.0,394.0,395.0,396.0,397.0,398.0,399.0,400.0,401.0,402.0,403.0,404.0,405.0,406.0,407.0,408.0,409.0,410.0,411.0,412.0,413.0,414.0,415.0,416.0,417.0,418.0,419.0,420.0,421.0,422.0,423.0,424.0,425.0,426.0,427.0,428.0,429.0,430.0,431.0,432.0,433.0,434.0,435.0,436.0,437.0,438.0,439.0,440.0,441.0,442.0,443.0,444.0,445.0,446.0,447.0,448.0,449.0,450.0,451.0,452.0,453.0,454.0,455.0,456.0,457.0,458.0,459.0,460.0,461.0,462.0,463.0,464.0,465.0,466.0,467.0,468.0,469.0,470.0,471.0,472.0,473.0,474.0,475.0,476.0,477.0,478.0,479.0,480.0,481.0,482.0,483.0,484.0,485.0,486.0,487.0,488.0,489.0,490.0,491.0,492.0,493.0,494.0,495.0,496.0,497.0,498.0,499.0,500.0,501.0,502.0,503.0,504.0,505.0,506.0,507.0,508.0,509.0,510.0,511.0,512.0,513.0,514.0,515.0,516.0,517.0,518.0,519.0,520.0,521.0,522.0,523.0,524.0,525.0,526.0,527.0,528.0,529.0,530.0,531.0,532.0,533.0,534.0,535.0,536.0,537.0,538.0,539.0,540.0,541.0,542.0,543.0,544.0,545.0,546.0,547.0,548.0,549.0,550.0,551.0,552.0,553.0,554.0,555.0,556.0,557.0,558.0,559.0,560.0,561.0,562.0,563.0,564.0,565.0,566.0,567.0,568.0,569.0,570.0,571.0,572.0,573.0,574.0,575.0,576.0,577.0,578.0,579.0,580.0,581.0,582.0,583.0,584.0,585.0,586.0,587.0,588.0,589.0,590.0,591.0,592.0,593.0,594.0,595.0,596.0,597.0,598.0,599.0,600.0,601.0,602.0,603.0,604.0,605.0,606.0,607.0,608.0,609.0,610.0,611.0,612.0,613.0,614.0,615.0,616.0,617.0,618.0,619.0,620.0,621.0,622.0,623.0,624.0,625.0,626.0,627.0,628.0,629.0,630.0,631.0,632.0,633.0,634.0,635.0,636.0,637.0,638.0,639.0,640.0,641.0,642.0,643.0,644.0,645.0,646.0,647.0,648.0,649.0,650.0,651.0,652.0,653.0,654.0,655.0,656.0,657.0,658.0,659.0,660.0,661.0,662.0,663.0,664.0,665.0,666.0,667.0,668.0,669.0,670.0,671.0,672.0,673.0,674.0,675.0,676.0,677.0,678.0,679.0,680.0,681.0,682.0,683.0,684.0,685.0,686.0,687.0,688.0,689.0,690.0,691.0,692.0,693.0,694.0,695.0,696.0,697.0,698.0,699.0,700.0,701.0,702.0,703.0,704.0,705.0,706.0,707.0,708.0,709.0,710.0],\"yaxis\":\"y\",\"type\":\"scatter\"}],                        {\"template\":{\"data\":{\"histogram2dcontour\":[{\"type\":\"histogram2dcontour\",\"colorbar\":{\"outlinewidth\":0,\"ticks\":\"\"},\"colorscale\":[[0.0,\"#0d0887\"],[0.1111111111111111,\"#46039f\"],[0.2222222222222222,\"#7201a8\"],[0.3333333333333333,\"#9c179e\"],[0.4444444444444444,\"#bd3786\"],[0.5555555555555556,\"#d8576b\"],[0.6666666666666666,\"#ed7953\"],[0.7777777777777778,\"#fb9f3a\"],[0.8888888888888888,\"#fdca26\"],[1.0,\"#f0f921\"]]}],\"choropleth\":[{\"type\":\"choropleth\",\"colorbar\":{\"outlinewidth\":0,\"ticks\":\"\"}}],\"histogram2d\":[{\"type\":\"histogram2d\",\"colorbar\":{\"outlinewidth\":0,\"ticks\":\"\"},\"colorscale\":[[0.0,\"#0d0887\"],[0.1111111111111111,\"#46039f\"],[0.2222222222222222,\"#7201a8\"],[0.3333333333333333,\"#9c179e\"],[0.4444444444444444,\"#bd3786\"],[0.5555555555555556,\"#d8576b\"],[0.6666666666666666,\"#ed7953\"],[0.7777777777777778,\"#fb9f3a\"],[0.8888888888888888,\"#fdca26\"],[1.0,\"#f0f921\"]]}],\"heatmap\":[{\"type\":\"heatmap\",\"colorbar\":{\"outlinewidth\":0,\"ticks\":\"\"},\"colorscale\":[[0.0,\"#0d0887\"],[0.1111111111111111,\"#46039f\"],[0.2222222222222222,\"#7201a8\"],[0.3333333333333333,\"#9c179e\"],[0.4444444444444444,\"#bd3786\"],[0.5555555555555556,\"#d8576b\"],[0.6666666666666666,\"#ed7953\"],[0.7777777777777778,\"#fb9f3a\"],[0.8888888888888888,\"#fdca26\"],[1.0,\"#f0f921\"]]}],\"heatmapgl\":[{\"type\":\"heatmapgl\",\"colorbar\":{\"outlinewidth\":0,\"ticks\":\"\"},\"colorscale\":[[0.0,\"#0d0887\"],[0.1111111111111111,\"#46039f\"],[0.2222222222222222,\"#7201a8\"],[0.3333333333333333,\"#9c179e\"],[0.4444444444444444,\"#bd3786\"],[0.5555555555555556,\"#d8576b\"],[0.6666666666666666,\"#ed7953\"],[0.7777777777777778,\"#fb9f3a\"],[0.8888888888888888,\"#fdca26\"],[1.0,\"#f0f921\"]]}],\"contourcarpet\":[{\"type\":\"contourcarpet\",\"colorbar\":{\"outlinewidth\":0,\"ticks\":\"\"}}],\"contour\":[{\"type\":\"contour\",\"colorbar\":{\"outlinewidth\":0,\"ticks\":\"\"},\"colorscale\":[[0.0,\"#0d0887\"],[0.1111111111111111,\"#46039f\"],[0.2222222222222222,\"#7201a8\"],[0.3333333333333333,\"#9c179e\"],[0.4444444444444444,\"#bd3786\"],[0.5555555555555556,\"#d8576b\"],[0.6666666666666666,\"#ed7953\"],[0.7777777777777778,\"#fb9f3a\"],[0.8888888888888888,\"#fdca26\"],[1.0,\"#f0f921\"]]}],\"surface\":[{\"type\":\"surface\",\"colorbar\":{\"outlinewidth\":0,\"ticks\":\"\"},\"colorscale\":[[0.0,\"#0d0887\"],[0.1111111111111111,\"#46039f\"],[0.2222222222222222,\"#7201a8\"],[0.3333333333333333,\"#9c179e\"],[0.4444444444444444,\"#bd3786\"],[0.5555555555555556,\"#d8576b\"],[0.6666666666666666,\"#ed7953\"],[0.7777777777777778,\"#fb9f3a\"],[0.8888888888888888,\"#fdca26\"],[1.0,\"#f0f921\"]]}],\"mesh3d\":[{\"type\":\"mesh3d\",\"colorbar\":{\"outlinewidth\":0,\"ticks\":\"\"}}],\"scatter\":[{\"fillpattern\":{\"fillmode\":\"overlay\",\"size\":10,\"solidity\":0.2},\"type\":\"scatter\"}],\"parcoords\":[{\"type\":\"parcoords\",\"line\":{\"colorbar\":{\"outlinewidth\":0,\"ticks\":\"\"}}}],\"scatterpolargl\":[{\"type\":\"scatterpolargl\",\"marker\":{\"colorbar\":{\"outlinewidth\":0,\"ticks\":\"\"}}}],\"bar\":[{\"error_x\":{\"color\":\"#2a3f5f\"},\"error_y\":{\"color\":\"#2a3f5f\"},\"marker\":{\"line\":{\"color\":\"#E5ECF6\",\"width\":0.5},\"pattern\":{\"fillmode\":\"overlay\",\"size\":10,\"solidity\":0.2}},\"type\":\"bar\"}],\"scattergeo\":[{\"type\":\"scattergeo\",\"marker\":{\"colorbar\":{\"outlinewidth\":0,\"ticks\":\"\"}}}],\"scatterpolar\":[{\"type\":\"scatterpolar\",\"marker\":{\"colorbar\":{\"outlinewidth\":0,\"ticks\":\"\"}}}],\"histogram\":[{\"marker\":{\"pattern\":{\"fillmode\":\"overlay\",\"size\":10,\"solidity\":0.2}},\"type\":\"histogram\"}],\"scattergl\":[{\"type\":\"scattergl\",\"marker\":{\"colorbar\":{\"outlinewidth\":0,\"ticks\":\"\"}}}],\"scatter3d\":[{\"type\":\"scatter3d\",\"line\":{\"colorbar\":{\"outlinewidth\":0,\"ticks\":\"\"}},\"marker\":{\"colorbar\":{\"outlinewidth\":0,\"ticks\":\"\"}}}],\"scattermapbox\":[{\"type\":\"scattermapbox\",\"marker\":{\"colorbar\":{\"outlinewidth\":0,\"ticks\":\"\"}}}],\"scatterternary\":[{\"type\":\"scatterternary\",\"marker\":{\"colorbar\":{\"outlinewidth\":0,\"ticks\":\"\"}}}],\"scattercarpet\":[{\"type\":\"scattercarpet\",\"marker\":{\"colorbar\":{\"outlinewidth\":0,\"ticks\":\"\"}}}],\"carpet\":[{\"aaxis\":{\"endlinecolor\":\"#2a3f5f\",\"gridcolor\":\"white\",\"linecolor\":\"white\",\"minorgridcolor\":\"white\",\"startlinecolor\":\"#2a3f5f\"},\"baxis\":{\"endlinecolor\":\"#2a3f5f\",\"gridcolor\":\"white\",\"linecolor\":\"white\",\"minorgridcolor\":\"white\",\"startlinecolor\":\"#2a3f5f\"},\"type\":\"carpet\"}],\"table\":[{\"cells\":{\"fill\":{\"color\":\"#EBF0F8\"},\"line\":{\"color\":\"white\"}},\"header\":{\"fill\":{\"color\":\"#C8D4E3\"},\"line\":{\"color\":\"white\"}},\"type\":\"table\"}],\"barpolar\":[{\"marker\":{\"line\":{\"color\":\"#E5ECF6\",\"width\":0.5},\"pattern\":{\"fillmode\":\"overlay\",\"size\":10,\"solidity\":0.2}},\"type\":\"barpolar\"}],\"pie\":[{\"automargin\":true,\"type\":\"pie\"}]},\"layout\":{\"autotypenumbers\":\"strict\",\"colorway\":[\"#636efa\",\"#EF553B\",\"#00cc96\",\"#ab63fa\",\"#FFA15A\",\"#19d3f3\",\"#FF6692\",\"#B6E880\",\"#FF97FF\",\"#FECB52\"],\"font\":{\"color\":\"#2a3f5f\"},\"hovermode\":\"closest\",\"hoverlabel\":{\"align\":\"left\"},\"paper_bgcolor\":\"white\",\"plot_bgcolor\":\"#E5ECF6\",\"polar\":{\"bgcolor\":\"#E5ECF6\",\"angularaxis\":{\"gridcolor\":\"white\",\"linecolor\":\"white\",\"ticks\":\"\"},\"radialaxis\":{\"gridcolor\":\"white\",\"linecolor\":\"white\",\"ticks\":\"\"}},\"ternary\":{\"bgcolor\":\"#E5ECF6\",\"aaxis\":{\"gridcolor\":\"white\",\"linecolor\":\"white\",\"ticks\":\"\"},\"baxis\":{\"gridcolor\":\"white\",\"linecolor\":\"white\",\"ticks\":\"\"},\"caxis\":{\"gridcolor\":\"white\",\"linecolor\":\"white\",\"ticks\":\"\"}},\"coloraxis\":{\"colorbar\":{\"outlinewidth\":0,\"ticks\":\"\"}},\"colorscale\":{\"sequential\":[[0.0,\"#0d0887\"],[0.1111111111111111,\"#46039f\"],[0.2222222222222222,\"#7201a8\"],[0.3333333333333333,\"#9c179e\"],[0.4444444444444444,\"#bd3786\"],[0.5555555555555556,\"#d8576b\"],[0.6666666666666666,\"#ed7953\"],[0.7777777777777778,\"#fb9f3a\"],[0.8888888888888888,\"#fdca26\"],[1.0,\"#f0f921\"]],\"sequentialminus\":[[0.0,\"#0d0887\"],[0.1111111111111111,\"#46039f\"],[0.2222222222222222,\"#7201a8\"],[0.3333333333333333,\"#9c179e\"],[0.4444444444444444,\"#bd3786\"],[0.5555555555555556,\"#d8576b\"],[0.6666666666666666,\"#ed7953\"],[0.7777777777777778,\"#fb9f3a\"],[0.8888888888888888,\"#fdca26\"],[1.0,\"#f0f921\"]],\"diverging\":[[0,\"#8e0152\"],[0.1,\"#c51b7d\"],[0.2,\"#de77ae\"],[0.3,\"#f1b6da\"],[0.4,\"#fde0ef\"],[0.5,\"#f7f7f7\"],[0.6,\"#e6f5d0\"],[0.7,\"#b8e186\"],[0.8,\"#7fbc41\"],[0.9,\"#4d9221\"],[1,\"#276419\"]]},\"xaxis\":{\"gridcolor\":\"white\",\"linecolor\":\"white\",\"ticks\":\"\",\"title\":{\"standoff\":15},\"zerolinecolor\":\"white\",\"automargin\":true,\"zerolinewidth\":2},\"yaxis\":{\"gridcolor\":\"white\",\"linecolor\":\"white\",\"ticks\":\"\",\"title\":{\"standoff\":15},\"zerolinecolor\":\"white\",\"automargin\":true,\"zerolinewidth\":2},\"scene\":{\"xaxis\":{\"backgroundcolor\":\"#E5ECF6\",\"gridcolor\":\"white\",\"linecolor\":\"white\",\"showbackground\":true,\"ticks\":\"\",\"zerolinecolor\":\"white\",\"gridwidth\":2},\"yaxis\":{\"backgroundcolor\":\"#E5ECF6\",\"gridcolor\":\"white\",\"linecolor\":\"white\",\"showbackground\":true,\"ticks\":\"\",\"zerolinecolor\":\"white\",\"gridwidth\":2},\"zaxis\":{\"backgroundcolor\":\"#E5ECF6\",\"gridcolor\":\"white\",\"linecolor\":\"white\",\"showbackground\":true,\"ticks\":\"\",\"zerolinecolor\":\"white\",\"gridwidth\":2}},\"shapedefaults\":{\"line\":{\"color\":\"#2a3f5f\"}},\"annotationdefaults\":{\"arrowcolor\":\"#2a3f5f\",\"arrowhead\":0,\"arrowwidth\":1},\"geo\":{\"bgcolor\":\"white\",\"landcolor\":\"#E5ECF6\",\"subunitcolor\":\"white\",\"showland\":true,\"showlakes\":true,\"lakecolor\":\"white\"},\"title\":{\"x\":0.05},\"mapbox\":{\"style\":\"light\"}}},\"xaxis\":{\"anchor\":\"y\",\"domain\":[0.0,1.0],\"title\":{\"text\":\"Date\"},\"range\":[\"2005-01-01\",\"2023-12-31\"]},\"yaxis\":{\"anchor\":\"x\",\"domain\":[0.0,1.0],\"title\":{\"text\":\"Cumulative_Goals\"}},\"legend\":{\"tracegroupgap\":0},\"title\":{\"text\":\"CR7 Goals Trend Over Time \\ud83d\\udc10\"}},                        {\"responsive\": true}                    ).then(function(){\n",
              "                            \n",
              "var gd = document.getElementById('958b40bf-65c2-457a-b628-5c5fdf4169a7');\n",
              "var x = new MutationObserver(function (mutations, observer) {{\n",
              "        var display = window.getComputedStyle(gd).display;\n",
              "        if (!display || display === 'none') {{\n",
              "            console.log([gd, 'removed!']);\n",
              "            Plotly.purge(gd);\n",
              "            observer.disconnect();\n",
              "        }}\n",
              "}});\n",
              "\n",
              "// Listen for the removal of the full notebook cells\n",
              "var notebookContainer = gd.closest('#notebook-container');\n",
              "if (notebookContainer) {{\n",
              "    x.observe(notebookContainer, {childList: true});\n",
              "}}\n",
              "\n",
              "// Listen for the clearing of the current output cell\n",
              "var outputEl = gd.closest('.output');\n",
              "if (outputEl) {{\n",
              "    x.observe(outputEl, {childList: true});\n",
              "}}\n",
              "\n",
              "                        })                };                            </script>        </div>\n",
              "</body>\n",
              "</html>"
            ]
          },
          "metadata": {}
        }
      ],
      "source": [
        "#GR7 goals trend Over Time\n",
        "df[\"Cumulative_Goals\"] = df['Date'].expanding().count()\n",
        "\n",
        "fig = px.line(df, x=\"Date\", y=\"Cumulative_Goals\", title=\"CR7 Goals Trend Over Time 🐐\")\n",
        "fig.update_xaxes(range=['2005-01-01', '2023-12-31'])\n",
        "\n",
        "\n",
        "# Display the figure\n",
        "fig.show()"
      ]
    },
    {
      "cell_type": "code",
      "execution_count": null,
      "id": "c435485e",
      "metadata": {
        "execution": {
          "iopub.execute_input": "2023-10-07T05:39:07.355146Z",
          "iopub.status.busy": "2023-10-07T05:39:07.354682Z",
          "iopub.status.idle": "2023-10-07T05:39:07.403130Z",
          "shell.execute_reply": "2023-10-07T05:39:07.402374Z"
        },
        "papermill": {
          "duration": 0.059135,
          "end_time": "2023-10-07T05:39:07.405042",
          "exception": false,
          "start_time": "2023-10-07T05:39:07.345907",
          "status": "completed"
        },
        "tags": [],
        "colab": {
          "base_uri": "https://localhost:8080/"
        },
        "id": "c435485e",
        "outputId": "c4c2848b-528b-4aed-fe33-ed342b33ea6b"
      },
      "outputs": [
        {
          "output_type": "display_data",
          "data": {
            "text/html": [
              "<html>\n",
              "<head><meta charset=\"utf-8\" /></head>\n",
              "<body>\n",
              "    <div>            <script src=\"https://cdnjs.cloudflare.com/ajax/libs/mathjax/2.7.5/MathJax.js?config=TeX-AMS-MML_SVG\"></script><script type=\"text/javascript\">if (window.MathJax && window.MathJax.Hub && window.MathJax.Hub.Config) {window.MathJax.Hub.Config({SVG: {font: \"STIX-Web\"}});}</script>                <script type=\"text/javascript\">window.PlotlyConfig = {MathJaxConfig: 'local'};</script>\n",
              "        <script charset=\"utf-8\" src=\"https://cdn.plot.ly/plotly-2.24.1.min.js\"></script>                <div id=\"1b9e3747-07f1-4c35-8da7-3adb4d3d557d\" class=\"plotly-graph-div\" style=\"height:525px; width:100%;\"></div>            <script type=\"text/javascript\">                                    window.PLOTLYENV=window.PLOTLYENV || {};                                    if (document.getElementById(\"1b9e3747-07f1-4c35-8da7-3adb4d3d557d\")) {                    Plotly.newPlot(                        \"1b9e3747-07f1-4c35-8da7-3adb4d3d557d\",                        [{\"alignmentgroup\":\"True\",\"hovertemplate\":\"Player=%{x}\\u003cbr\\u003eNumber of Assists \\ud83c\\udd70=%{text}\\u003cextra\\u003e\\u003c\\u002fextra\\u003e\",\"legendgroup\":\"Karim Benzema\",\"marker\":{\"color\":\"#636efa\",\"pattern\":{\"shape\":\"\"}},\"name\":\"Karim Benzema\",\"offsetgroup\":\"Karim Benzema\",\"orientation\":\"v\",\"showlegend\":true,\"text\":[44.0],\"textposition\":\"auto\",\"x\":[\"Karim Benzema\"],\"xaxis\":\"x\",\"y\":[44],\"yaxis\":\"y\",\"type\":\"bar\"},{\"alignmentgroup\":\"True\",\"hovertemplate\":\"Player=%{x}\\u003cbr\\u003eNumber of Assists \\ud83c\\udd70=%{text}\\u003cextra\\u003e\\u003c\\u002fextra\\u003e\",\"legendgroup\":\"Gareth Bale\",\"marker\":{\"color\":\"#EF553B\",\"pattern\":{\"shape\":\"\"}},\"name\":\"Gareth Bale\",\"offsetgroup\":\"Gareth Bale\",\"orientation\":\"v\",\"showlegend\":true,\"text\":[29.0],\"textposition\":\"auto\",\"x\":[\"Gareth Bale\"],\"xaxis\":\"x\",\"y\":[29],\"yaxis\":\"y\",\"type\":\"bar\"},{\"alignmentgroup\":\"True\",\"hovertemplate\":\"Player=%{x}\\u003cbr\\u003eNumber of Assists \\ud83c\\udd70=%{text}\\u003cextra\\u003e\\u003c\\u002fextra\\u003e\",\"legendgroup\":\"Mesut Ozil\",\"marker\":{\"color\":\"#00cc96\",\"pattern\":{\"shape\":\"\"}},\"name\":\"Mesut Ozil\",\"offsetgroup\":\"Mesut Ozil\",\"orientation\":\"v\",\"showlegend\":true,\"text\":[26.0],\"textposition\":\"auto\",\"x\":[\"Mesut Ozil\"],\"xaxis\":\"x\",\"y\":[26],\"yaxis\":\"y\",\"type\":\"bar\"},{\"alignmentgroup\":\"True\",\"hovertemplate\":\"Player=%{x}\\u003cbr\\u003eNumber of Assists \\ud83c\\udd70=%{text}\\u003cextra\\u003e\\u003c\\u002fextra\\u003e\",\"legendgroup\":\"Marcelo\",\"marker\":{\"color\":\"#ab63fa\",\"pattern\":{\"shape\":\"\"}},\"name\":\"Marcelo\",\"offsetgroup\":\"Marcelo\",\"orientation\":\"v\",\"showlegend\":true,\"text\":[23.0],\"textposition\":\"auto\",\"x\":[\"Marcelo\"],\"xaxis\":\"x\",\"y\":[23],\"yaxis\":\"y\",\"type\":\"bar\"},{\"alignmentgroup\":\"True\",\"hovertemplate\":\"Player=%{x}\\u003cbr\\u003eNumber of Assists \\ud83c\\udd70=%{text}\\u003cextra\\u003e\\u003c\\u002fextra\\u003e\",\"legendgroup\":\"Angel Di Maria\",\"marker\":{\"color\":\"#FFA15A\",\"pattern\":{\"shape\":\"\"}},\"name\":\"Angel Di Maria\",\"offsetgroup\":\"Angel Di Maria\",\"orientation\":\"v\",\"showlegend\":true,\"text\":[22.0],\"textposition\":\"auto\",\"x\":[\"Angel Di Maria\"],\"xaxis\":\"x\",\"y\":[22],\"yaxis\":\"y\",\"type\":\"bar\"}],                        {\"template\":{\"data\":{\"histogram2dcontour\":[{\"type\":\"histogram2dcontour\",\"colorbar\":{\"outlinewidth\":0,\"ticks\":\"\"},\"colorscale\":[[0.0,\"#0d0887\"],[0.1111111111111111,\"#46039f\"],[0.2222222222222222,\"#7201a8\"],[0.3333333333333333,\"#9c179e\"],[0.4444444444444444,\"#bd3786\"],[0.5555555555555556,\"#d8576b\"],[0.6666666666666666,\"#ed7953\"],[0.7777777777777778,\"#fb9f3a\"],[0.8888888888888888,\"#fdca26\"],[1.0,\"#f0f921\"]]}],\"choropleth\":[{\"type\":\"choropleth\",\"colorbar\":{\"outlinewidth\":0,\"ticks\":\"\"}}],\"histogram2d\":[{\"type\":\"histogram2d\",\"colorbar\":{\"outlinewidth\":0,\"ticks\":\"\"},\"colorscale\":[[0.0,\"#0d0887\"],[0.1111111111111111,\"#46039f\"],[0.2222222222222222,\"#7201a8\"],[0.3333333333333333,\"#9c179e\"],[0.4444444444444444,\"#bd3786\"],[0.5555555555555556,\"#d8576b\"],[0.6666666666666666,\"#ed7953\"],[0.7777777777777778,\"#fb9f3a\"],[0.8888888888888888,\"#fdca26\"],[1.0,\"#f0f921\"]]}],\"heatmap\":[{\"type\":\"heatmap\",\"colorbar\":{\"outlinewidth\":0,\"ticks\":\"\"},\"colorscale\":[[0.0,\"#0d0887\"],[0.1111111111111111,\"#46039f\"],[0.2222222222222222,\"#7201a8\"],[0.3333333333333333,\"#9c179e\"],[0.4444444444444444,\"#bd3786\"],[0.5555555555555556,\"#d8576b\"],[0.6666666666666666,\"#ed7953\"],[0.7777777777777778,\"#fb9f3a\"],[0.8888888888888888,\"#fdca26\"],[1.0,\"#f0f921\"]]}],\"heatmapgl\":[{\"type\":\"heatmapgl\",\"colorbar\":{\"outlinewidth\":0,\"ticks\":\"\"},\"colorscale\":[[0.0,\"#0d0887\"],[0.1111111111111111,\"#46039f\"],[0.2222222222222222,\"#7201a8\"],[0.3333333333333333,\"#9c179e\"],[0.4444444444444444,\"#bd3786\"],[0.5555555555555556,\"#d8576b\"],[0.6666666666666666,\"#ed7953\"],[0.7777777777777778,\"#fb9f3a\"],[0.8888888888888888,\"#fdca26\"],[1.0,\"#f0f921\"]]}],\"contourcarpet\":[{\"type\":\"contourcarpet\",\"colorbar\":{\"outlinewidth\":0,\"ticks\":\"\"}}],\"contour\":[{\"type\":\"contour\",\"colorbar\":{\"outlinewidth\":0,\"ticks\":\"\"},\"colorscale\":[[0.0,\"#0d0887\"],[0.1111111111111111,\"#46039f\"],[0.2222222222222222,\"#7201a8\"],[0.3333333333333333,\"#9c179e\"],[0.4444444444444444,\"#bd3786\"],[0.5555555555555556,\"#d8576b\"],[0.6666666666666666,\"#ed7953\"],[0.7777777777777778,\"#fb9f3a\"],[0.8888888888888888,\"#fdca26\"],[1.0,\"#f0f921\"]]}],\"surface\":[{\"type\":\"surface\",\"colorbar\":{\"outlinewidth\":0,\"ticks\":\"\"},\"colorscale\":[[0.0,\"#0d0887\"],[0.1111111111111111,\"#46039f\"],[0.2222222222222222,\"#7201a8\"],[0.3333333333333333,\"#9c179e\"],[0.4444444444444444,\"#bd3786\"],[0.5555555555555556,\"#d8576b\"],[0.6666666666666666,\"#ed7953\"],[0.7777777777777778,\"#fb9f3a\"],[0.8888888888888888,\"#fdca26\"],[1.0,\"#f0f921\"]]}],\"mesh3d\":[{\"type\":\"mesh3d\",\"colorbar\":{\"outlinewidth\":0,\"ticks\":\"\"}}],\"scatter\":[{\"fillpattern\":{\"fillmode\":\"overlay\",\"size\":10,\"solidity\":0.2},\"type\":\"scatter\"}],\"parcoords\":[{\"type\":\"parcoords\",\"line\":{\"colorbar\":{\"outlinewidth\":0,\"ticks\":\"\"}}}],\"scatterpolargl\":[{\"type\":\"scatterpolargl\",\"marker\":{\"colorbar\":{\"outlinewidth\":0,\"ticks\":\"\"}}}],\"bar\":[{\"error_x\":{\"color\":\"#2a3f5f\"},\"error_y\":{\"color\":\"#2a3f5f\"},\"marker\":{\"line\":{\"color\":\"#E5ECF6\",\"width\":0.5},\"pattern\":{\"fillmode\":\"overlay\",\"size\":10,\"solidity\":0.2}},\"type\":\"bar\"}],\"scattergeo\":[{\"type\":\"scattergeo\",\"marker\":{\"colorbar\":{\"outlinewidth\":0,\"ticks\":\"\"}}}],\"scatterpolar\":[{\"type\":\"scatterpolar\",\"marker\":{\"colorbar\":{\"outlinewidth\":0,\"ticks\":\"\"}}}],\"histogram\":[{\"marker\":{\"pattern\":{\"fillmode\":\"overlay\",\"size\":10,\"solidity\":0.2}},\"type\":\"histogram\"}],\"scattergl\":[{\"type\":\"scattergl\",\"marker\":{\"colorbar\":{\"outlinewidth\":0,\"ticks\":\"\"}}}],\"scatter3d\":[{\"type\":\"scatter3d\",\"line\":{\"colorbar\":{\"outlinewidth\":0,\"ticks\":\"\"}},\"marker\":{\"colorbar\":{\"outlinewidth\":0,\"ticks\":\"\"}}}],\"scattermapbox\":[{\"type\":\"scattermapbox\",\"marker\":{\"colorbar\":{\"outlinewidth\":0,\"ticks\":\"\"}}}],\"scatterternary\":[{\"type\":\"scatterternary\",\"marker\":{\"colorbar\":{\"outlinewidth\":0,\"ticks\":\"\"}}}],\"scattercarpet\":[{\"type\":\"scattercarpet\",\"marker\":{\"colorbar\":{\"outlinewidth\":0,\"ticks\":\"\"}}}],\"carpet\":[{\"aaxis\":{\"endlinecolor\":\"#2a3f5f\",\"gridcolor\":\"white\",\"linecolor\":\"white\",\"minorgridcolor\":\"white\",\"startlinecolor\":\"#2a3f5f\"},\"baxis\":{\"endlinecolor\":\"#2a3f5f\",\"gridcolor\":\"white\",\"linecolor\":\"white\",\"minorgridcolor\":\"white\",\"startlinecolor\":\"#2a3f5f\"},\"type\":\"carpet\"}],\"table\":[{\"cells\":{\"fill\":{\"color\":\"#EBF0F8\"},\"line\":{\"color\":\"white\"}},\"header\":{\"fill\":{\"color\":\"#C8D4E3\"},\"line\":{\"color\":\"white\"}},\"type\":\"table\"}],\"barpolar\":[{\"marker\":{\"line\":{\"color\":\"#E5ECF6\",\"width\":0.5},\"pattern\":{\"fillmode\":\"overlay\",\"size\":10,\"solidity\":0.2}},\"type\":\"barpolar\"}],\"pie\":[{\"automargin\":true,\"type\":\"pie\"}]},\"layout\":{\"autotypenumbers\":\"strict\",\"colorway\":[\"#636efa\",\"#EF553B\",\"#00cc96\",\"#ab63fa\",\"#FFA15A\",\"#19d3f3\",\"#FF6692\",\"#B6E880\",\"#FF97FF\",\"#FECB52\"],\"font\":{\"color\":\"#2a3f5f\"},\"hovermode\":\"closest\",\"hoverlabel\":{\"align\":\"left\"},\"paper_bgcolor\":\"white\",\"plot_bgcolor\":\"#E5ECF6\",\"polar\":{\"bgcolor\":\"#E5ECF6\",\"angularaxis\":{\"gridcolor\":\"white\",\"linecolor\":\"white\",\"ticks\":\"\"},\"radialaxis\":{\"gridcolor\":\"white\",\"linecolor\":\"white\",\"ticks\":\"\"}},\"ternary\":{\"bgcolor\":\"#E5ECF6\",\"aaxis\":{\"gridcolor\":\"white\",\"linecolor\":\"white\",\"ticks\":\"\"},\"baxis\":{\"gridcolor\":\"white\",\"linecolor\":\"white\",\"ticks\":\"\"},\"caxis\":{\"gridcolor\":\"white\",\"linecolor\":\"white\",\"ticks\":\"\"}},\"coloraxis\":{\"colorbar\":{\"outlinewidth\":0,\"ticks\":\"\"}},\"colorscale\":{\"sequential\":[[0.0,\"#0d0887\"],[0.1111111111111111,\"#46039f\"],[0.2222222222222222,\"#7201a8\"],[0.3333333333333333,\"#9c179e\"],[0.4444444444444444,\"#bd3786\"],[0.5555555555555556,\"#d8576b\"],[0.6666666666666666,\"#ed7953\"],[0.7777777777777778,\"#fb9f3a\"],[0.8888888888888888,\"#fdca26\"],[1.0,\"#f0f921\"]],\"sequentialminus\":[[0.0,\"#0d0887\"],[0.1111111111111111,\"#46039f\"],[0.2222222222222222,\"#7201a8\"],[0.3333333333333333,\"#9c179e\"],[0.4444444444444444,\"#bd3786\"],[0.5555555555555556,\"#d8576b\"],[0.6666666666666666,\"#ed7953\"],[0.7777777777777778,\"#fb9f3a\"],[0.8888888888888888,\"#fdca26\"],[1.0,\"#f0f921\"]],\"diverging\":[[0,\"#8e0152\"],[0.1,\"#c51b7d\"],[0.2,\"#de77ae\"],[0.3,\"#f1b6da\"],[0.4,\"#fde0ef\"],[0.5,\"#f7f7f7\"],[0.6,\"#e6f5d0\"],[0.7,\"#b8e186\"],[0.8,\"#7fbc41\"],[0.9,\"#4d9221\"],[1,\"#276419\"]]},\"xaxis\":{\"gridcolor\":\"white\",\"linecolor\":\"white\",\"ticks\":\"\",\"title\":{\"standoff\":15},\"zerolinecolor\":\"white\",\"automargin\":true,\"zerolinewidth\":2},\"yaxis\":{\"gridcolor\":\"white\",\"linecolor\":\"white\",\"ticks\":\"\",\"title\":{\"standoff\":15},\"zerolinecolor\":\"white\",\"automargin\":true,\"zerolinewidth\":2},\"scene\":{\"xaxis\":{\"backgroundcolor\":\"#E5ECF6\",\"gridcolor\":\"white\",\"linecolor\":\"white\",\"showbackground\":true,\"ticks\":\"\",\"zerolinecolor\":\"white\",\"gridwidth\":2},\"yaxis\":{\"backgroundcolor\":\"#E5ECF6\",\"gridcolor\":\"white\",\"linecolor\":\"white\",\"showbackground\":true,\"ticks\":\"\",\"zerolinecolor\":\"white\",\"gridwidth\":2},\"zaxis\":{\"backgroundcolor\":\"#E5ECF6\",\"gridcolor\":\"white\",\"linecolor\":\"white\",\"showbackground\":true,\"ticks\":\"\",\"zerolinecolor\":\"white\",\"gridwidth\":2}},\"shapedefaults\":{\"line\":{\"color\":\"#2a3f5f\"}},\"annotationdefaults\":{\"arrowcolor\":\"#2a3f5f\",\"arrowhead\":0,\"arrowwidth\":1},\"geo\":{\"bgcolor\":\"white\",\"landcolor\":\"#E5ECF6\",\"subunitcolor\":\"white\",\"showland\":true,\"showlakes\":true,\"lakecolor\":\"white\"},\"title\":{\"x\":0.05},\"mapbox\":{\"style\":\"light\"}}},\"xaxis\":{\"anchor\":\"y\",\"domain\":[0.0,1.0],\"title\":{\"text\":\"Player\"},\"categoryorder\":\"array\",\"categoryarray\":[\"Karim Benzema\",\"Gareth Bale\",\"Mesut Ozil\",\"Marcelo\",\"Angel Di Maria\"]},\"yaxis\":{\"anchor\":\"x\",\"domain\":[0.0,1.0],\"title\":{\"text\":\"Number of Assists \\ud83c\\udd70\"}},\"legend\":{\"title\":{\"text\":\"Player\"},\"tracegroupgap\":0},\"title\":{\"text\":\"CR7's top assists come from \\ud83c\\udd70\"},\"barmode\":\"relative\"},                        {\"responsive\": true}                    ).then(function(){\n",
              "                            \n",
              "var gd = document.getElementById('1b9e3747-07f1-4c35-8da7-3adb4d3d557d');\n",
              "var x = new MutationObserver(function (mutations, observer) {{\n",
              "        var display = window.getComputedStyle(gd).display;\n",
              "        if (!display || display === 'none') {{\n",
              "            console.log([gd, 'removed!']);\n",
              "            Plotly.purge(gd);\n",
              "            observer.disconnect();\n",
              "        }}\n",
              "}});\n",
              "\n",
              "// Listen for the removal of the full notebook cells\n",
              "var notebookContainer = gd.closest('#notebook-container');\n",
              "if (notebookContainer) {{\n",
              "    x.observe(notebookContainer, {childList: true});\n",
              "}}\n",
              "\n",
              "// Listen for the clearing of the current output cell\n",
              "var outputEl = gd.closest('.output');\n",
              "if (outputEl) {{\n",
              "    x.observe(outputEl, {childList: true});\n",
              "}}\n",
              "\n",
              "                        })                };                            </script>        </div>\n",
              "</body>\n",
              "</html>"
            ]
          },
          "metadata": {}
        }
      ],
      "source": [
        "# CR7's top assists come from...\n",
        "assists = df.groupby('Goal_assist').size().reset_index(name = 'assists').sort_values(by = 'assists', ascending= False)[:5]\n",
        "# Create a bar plot using Plotly Express\n",
        "fig = px.bar(assists, x='Goal_assist', y='assists', title=\"CR7's top assists come from 🅰\",\n",
        "            labels={'Goal_assist': 'Player', 'assists': 'Number of Assists 🅰'}, text= 'assists',\n",
        "            color = 'Goal_assist')\n",
        "\n",
        "# Show the plot\n",
        "fig.show()"
      ]
    },
    {
      "cell_type": "code",
      "execution_count": null,
      "id": "8f56d851",
      "metadata": {
        "execution": {
          "iopub.execute_input": "2023-10-07T05:39:07.422846Z",
          "iopub.status.busy": "2023-10-07T05:39:07.422469Z",
          "iopub.status.idle": "2023-10-07T05:39:07.469311Z",
          "shell.execute_reply": "2023-10-07T05:39:07.468720Z"
        },
        "papermill": {
          "duration": 0.057244,
          "end_time": "2023-10-07T05:39:07.470763",
          "exception": false,
          "start_time": "2023-10-07T05:39:07.413519",
          "status": "completed"
        },
        "tags": [],
        "colab": {
          "base_uri": "https://localhost:8080/"
        },
        "id": "8f56d851",
        "outputId": "3004a5a8-b707-4444-f1c9-2a1e89ffe576"
      },
      "outputs": [
        {
          "output_type": "display_data",
          "data": {
            "text/html": [
              "<html>\n",
              "<head><meta charset=\"utf-8\" /></head>\n",
              "<body>\n",
              "    <div>            <script src=\"https://cdnjs.cloudflare.com/ajax/libs/mathjax/2.7.5/MathJax.js?config=TeX-AMS-MML_SVG\"></script><script type=\"text/javascript\">if (window.MathJax && window.MathJax.Hub && window.MathJax.Hub.Config) {window.MathJax.Hub.Config({SVG: {font: \"STIX-Web\"}});}</script>                <script type=\"text/javascript\">window.PlotlyConfig = {MathJaxConfig: 'local'};</script>\n",
              "        <script charset=\"utf-8\" src=\"https://cdn.plot.ly/plotly-2.24.1.min.js\"></script>                <div id=\"434c34b4-d514-4a03-b57d-0bb3166c3e6e\" class=\"plotly-graph-div\" style=\"height:500px; width:100%;\"></div>            <script type=\"text/javascript\">                                    window.PLOTLYENV=window.PLOTLYENV || {};                                    if (document.getElementById(\"434c34b4-d514-4a03-b57d-0bb3166c3e6e\")) {                    Plotly.newPlot(                        \"434c34b4-d514-4a03-b57d-0bb3166c3e6e\",                        [{\"alignmentgroup\":\"True\",\"bingroup\":\"x\",\"hovertemplate\":\"Club=Manchester United\\u003cbr\\u003eCompetition=%{x}\\u003cbr\\u003ecount=%{y}\\u003cextra\\u003e\\u003c\\u002fextra\\u003e\",\"legendgroup\":\"Manchester United\",\"marker\":{\"color\":\"#C70039\",\"pattern\":{\"shape\":\"\"}},\"name\":\"Manchester United\",\"offsetgroup\":\"Manchester United\",\"orientation\":\"v\",\"showlegend\":true,\"x\":[\"Premier League\",\"Premier League\",\"Premier League\"],\"xaxis\":\"x\",\"yaxis\":\"y\",\"type\":\"histogram\"},{\"alignmentgroup\":\"True\",\"bingroup\":\"x\",\"hovertemplate\":\"Club=Real Madrid\\u003cbr\\u003eCompetition=%{x}\\u003cbr\\u003ecount=%{y}\\u003cextra\\u003e\\u003c\\u002fextra\\u003e\",\"legendgroup\":\"Real Madrid\",\"marker\":{\"color\":\"#4D2DB7\",\"pattern\":{\"shape\":\"\"}},\"name\":\"Real Madrid\",\"offsetgroup\":\"Real Madrid\",\"orientation\":\"v\",\"showlegend\":true,\"x\":[\"LaLiga\",\"LaLiga\",\"LaLiga\",\"Copa del Rey\",\"LaLiga\",\"LaLiga\",\"LaLiga\",\"LaLiga\",\"LaLiga\",\"LaLiga\",\"LaLiga\",\"LaLiga\",\"LaLiga\",\"LaLiga\",\"LaLiga\",\"LaLiga\",\"UEFA Champions League\",\"Copa del Rey\",\"LaLiga\",\"LaLiga\",\"UEFA Champions League\",\"LaLiga\",\"LaLiga\",\"LaLiga\",\"LaLiga\",\"LaLiga\",\"LaLiga\",\"LaLiga\",\"LaLiga\",\"LaLiga\",\"LaLiga\",\"LaLiga\",\"UEFA Champions League\",\"UEFA Champions League\",\"LaLiga\",\"LaLiga\",\"UEFA Champions League\",\"LaLiga\",\"LaLiga\",\"FIFA Club World Cup\",\"UEFA Champions League\",\"UEFA Champions League\",\"LaLiga\",\"LaLiga\"],\"xaxis\":\"x\",\"yaxis\":\"y\",\"type\":\"histogram\"},{\"alignmentgroup\":\"True\",\"bingroup\":\"x\",\"hovertemplate\":\"Club=Juventus FC\\u003cbr\\u003eCompetition=%{x}\\u003cbr\\u003ecount=%{y}\\u003cextra\\u003e\\u003c\\u002fextra\\u003e\",\"legendgroup\":\"Juventus FC\",\"marker\":{\"color\":\"#040D12\",\"pattern\":{\"shape\":\"\"}},\"name\":\"Juventus FC\",\"offsetgroup\":\"Juventus FC\",\"orientation\":\"v\",\"showlegend\":true,\"x\":[\"UEFA Champions League\",\"Serie A\",\"Serie A\"],\"xaxis\":\"x\",\"yaxis\":\"y\",\"type\":\"histogram\"},{\"alignmentgroup\":\"True\",\"bingroup\":\"x\",\"hovertemplate\":\"Club=Al-Nassr FC\\u003cbr\\u003eCompetition=%{x}\\u003cbr\\u003ecount=%{y}\\u003cextra\\u003e\\u003c\\u002fextra\\u003e\",\"legendgroup\":\"Al-Nassr FC\",\"marker\":{\"color\":\"#F8DE22\",\"pattern\":{\"shape\":\"\"}},\"name\":\"Al-Nassr FC\",\"offsetgroup\":\"Al-Nassr FC\",\"orientation\":\"v\",\"showlegend\":true,\"x\":[\"Saudi Pro League\",\"Saudi Pro League\"],\"xaxis\":\"x\",\"yaxis\":\"y\",\"type\":\"histogram\"}],                        {\"template\":{\"data\":{\"histogram2dcontour\":[{\"type\":\"histogram2dcontour\",\"colorbar\":{\"outlinewidth\":0,\"ticks\":\"\"},\"colorscale\":[[0.0,\"#0d0887\"],[0.1111111111111111,\"#46039f\"],[0.2222222222222222,\"#7201a8\"],[0.3333333333333333,\"#9c179e\"],[0.4444444444444444,\"#bd3786\"],[0.5555555555555556,\"#d8576b\"],[0.6666666666666666,\"#ed7953\"],[0.7777777777777778,\"#fb9f3a\"],[0.8888888888888888,\"#fdca26\"],[1.0,\"#f0f921\"]]}],\"choropleth\":[{\"type\":\"choropleth\",\"colorbar\":{\"outlinewidth\":0,\"ticks\":\"\"}}],\"histogram2d\":[{\"type\":\"histogram2d\",\"colorbar\":{\"outlinewidth\":0,\"ticks\":\"\"},\"colorscale\":[[0.0,\"#0d0887\"],[0.1111111111111111,\"#46039f\"],[0.2222222222222222,\"#7201a8\"],[0.3333333333333333,\"#9c179e\"],[0.4444444444444444,\"#bd3786\"],[0.5555555555555556,\"#d8576b\"],[0.6666666666666666,\"#ed7953\"],[0.7777777777777778,\"#fb9f3a\"],[0.8888888888888888,\"#fdca26\"],[1.0,\"#f0f921\"]]}],\"heatmap\":[{\"type\":\"heatmap\",\"colorbar\":{\"outlinewidth\":0,\"ticks\":\"\"},\"colorscale\":[[0.0,\"#0d0887\"],[0.1111111111111111,\"#46039f\"],[0.2222222222222222,\"#7201a8\"],[0.3333333333333333,\"#9c179e\"],[0.4444444444444444,\"#bd3786\"],[0.5555555555555556,\"#d8576b\"],[0.6666666666666666,\"#ed7953\"],[0.7777777777777778,\"#fb9f3a\"],[0.8888888888888888,\"#fdca26\"],[1.0,\"#f0f921\"]]}],\"heatmapgl\":[{\"type\":\"heatmapgl\",\"colorbar\":{\"outlinewidth\":0,\"ticks\":\"\"},\"colorscale\":[[0.0,\"#0d0887\"],[0.1111111111111111,\"#46039f\"],[0.2222222222222222,\"#7201a8\"],[0.3333333333333333,\"#9c179e\"],[0.4444444444444444,\"#bd3786\"],[0.5555555555555556,\"#d8576b\"],[0.6666666666666666,\"#ed7953\"],[0.7777777777777778,\"#fb9f3a\"],[0.8888888888888888,\"#fdca26\"],[1.0,\"#f0f921\"]]}],\"contourcarpet\":[{\"type\":\"contourcarpet\",\"colorbar\":{\"outlinewidth\":0,\"ticks\":\"\"}}],\"contour\":[{\"type\":\"contour\",\"colorbar\":{\"outlinewidth\":0,\"ticks\":\"\"},\"colorscale\":[[0.0,\"#0d0887\"],[0.1111111111111111,\"#46039f\"],[0.2222222222222222,\"#7201a8\"],[0.3333333333333333,\"#9c179e\"],[0.4444444444444444,\"#bd3786\"],[0.5555555555555556,\"#d8576b\"],[0.6666666666666666,\"#ed7953\"],[0.7777777777777778,\"#fb9f3a\"],[0.8888888888888888,\"#fdca26\"],[1.0,\"#f0f921\"]]}],\"surface\":[{\"type\":\"surface\",\"colorbar\":{\"outlinewidth\":0,\"ticks\":\"\"},\"colorscale\":[[0.0,\"#0d0887\"],[0.1111111111111111,\"#46039f\"],[0.2222222222222222,\"#7201a8\"],[0.3333333333333333,\"#9c179e\"],[0.4444444444444444,\"#bd3786\"],[0.5555555555555556,\"#d8576b\"],[0.6666666666666666,\"#ed7953\"],[0.7777777777777778,\"#fb9f3a\"],[0.8888888888888888,\"#fdca26\"],[1.0,\"#f0f921\"]]}],\"mesh3d\":[{\"type\":\"mesh3d\",\"colorbar\":{\"outlinewidth\":0,\"ticks\":\"\"}}],\"scatter\":[{\"fillpattern\":{\"fillmode\":\"overlay\",\"size\":10,\"solidity\":0.2},\"type\":\"scatter\"}],\"parcoords\":[{\"type\":\"parcoords\",\"line\":{\"colorbar\":{\"outlinewidth\":0,\"ticks\":\"\"}}}],\"scatterpolargl\":[{\"type\":\"scatterpolargl\",\"marker\":{\"colorbar\":{\"outlinewidth\":0,\"ticks\":\"\"}}}],\"bar\":[{\"error_x\":{\"color\":\"#2a3f5f\"},\"error_y\":{\"color\":\"#2a3f5f\"},\"marker\":{\"line\":{\"color\":\"#E5ECF6\",\"width\":0.5},\"pattern\":{\"fillmode\":\"overlay\",\"size\":10,\"solidity\":0.2}},\"type\":\"bar\"}],\"scattergeo\":[{\"type\":\"scattergeo\",\"marker\":{\"colorbar\":{\"outlinewidth\":0,\"ticks\":\"\"}}}],\"scatterpolar\":[{\"type\":\"scatterpolar\",\"marker\":{\"colorbar\":{\"outlinewidth\":0,\"ticks\":\"\"}}}],\"histogram\":[{\"marker\":{\"pattern\":{\"fillmode\":\"overlay\",\"size\":10,\"solidity\":0.2}},\"type\":\"histogram\"}],\"scattergl\":[{\"type\":\"scattergl\",\"marker\":{\"colorbar\":{\"outlinewidth\":0,\"ticks\":\"\"}}}],\"scatter3d\":[{\"type\":\"scatter3d\",\"line\":{\"colorbar\":{\"outlinewidth\":0,\"ticks\":\"\"}},\"marker\":{\"colorbar\":{\"outlinewidth\":0,\"ticks\":\"\"}}}],\"scattermapbox\":[{\"type\":\"scattermapbox\",\"marker\":{\"colorbar\":{\"outlinewidth\":0,\"ticks\":\"\"}}}],\"scatterternary\":[{\"type\":\"scatterternary\",\"marker\":{\"colorbar\":{\"outlinewidth\":0,\"ticks\":\"\"}}}],\"scattercarpet\":[{\"type\":\"scattercarpet\",\"marker\":{\"colorbar\":{\"outlinewidth\":0,\"ticks\":\"\"}}}],\"carpet\":[{\"aaxis\":{\"endlinecolor\":\"#2a3f5f\",\"gridcolor\":\"white\",\"linecolor\":\"white\",\"minorgridcolor\":\"white\",\"startlinecolor\":\"#2a3f5f\"},\"baxis\":{\"endlinecolor\":\"#2a3f5f\",\"gridcolor\":\"white\",\"linecolor\":\"white\",\"minorgridcolor\":\"white\",\"startlinecolor\":\"#2a3f5f\"},\"type\":\"carpet\"}],\"table\":[{\"cells\":{\"fill\":{\"color\":\"#EBF0F8\"},\"line\":{\"color\":\"white\"}},\"header\":{\"fill\":{\"color\":\"#C8D4E3\"},\"line\":{\"color\":\"white\"}},\"type\":\"table\"}],\"barpolar\":[{\"marker\":{\"line\":{\"color\":\"#E5ECF6\",\"width\":0.5},\"pattern\":{\"fillmode\":\"overlay\",\"size\":10,\"solidity\":0.2}},\"type\":\"barpolar\"}],\"pie\":[{\"automargin\":true,\"type\":\"pie\"}]},\"layout\":{\"autotypenumbers\":\"strict\",\"colorway\":[\"#636efa\",\"#EF553B\",\"#00cc96\",\"#ab63fa\",\"#FFA15A\",\"#19d3f3\",\"#FF6692\",\"#B6E880\",\"#FF97FF\",\"#FECB52\"],\"font\":{\"color\":\"#2a3f5f\"},\"hovermode\":\"closest\",\"hoverlabel\":{\"align\":\"left\"},\"paper_bgcolor\":\"white\",\"plot_bgcolor\":\"#E5ECF6\",\"polar\":{\"bgcolor\":\"#E5ECF6\",\"angularaxis\":{\"gridcolor\":\"white\",\"linecolor\":\"white\",\"ticks\":\"\"},\"radialaxis\":{\"gridcolor\":\"white\",\"linecolor\":\"white\",\"ticks\":\"\"}},\"ternary\":{\"bgcolor\":\"#E5ECF6\",\"aaxis\":{\"gridcolor\":\"white\",\"linecolor\":\"white\",\"ticks\":\"\"},\"baxis\":{\"gridcolor\":\"white\",\"linecolor\":\"white\",\"ticks\":\"\"},\"caxis\":{\"gridcolor\":\"white\",\"linecolor\":\"white\",\"ticks\":\"\"}},\"coloraxis\":{\"colorbar\":{\"outlinewidth\":0,\"ticks\":\"\"}},\"colorscale\":{\"sequential\":[[0.0,\"#0d0887\"],[0.1111111111111111,\"#46039f\"],[0.2222222222222222,\"#7201a8\"],[0.3333333333333333,\"#9c179e\"],[0.4444444444444444,\"#bd3786\"],[0.5555555555555556,\"#d8576b\"],[0.6666666666666666,\"#ed7953\"],[0.7777777777777778,\"#fb9f3a\"],[0.8888888888888888,\"#fdca26\"],[1.0,\"#f0f921\"]],\"sequentialminus\":[[0.0,\"#0d0887\"],[0.1111111111111111,\"#46039f\"],[0.2222222222222222,\"#7201a8\"],[0.3333333333333333,\"#9c179e\"],[0.4444444444444444,\"#bd3786\"],[0.5555555555555556,\"#d8576b\"],[0.6666666666666666,\"#ed7953\"],[0.7777777777777778,\"#fb9f3a\"],[0.8888888888888888,\"#fdca26\"],[1.0,\"#f0f921\"]],\"diverging\":[[0,\"#8e0152\"],[0.1,\"#c51b7d\"],[0.2,\"#de77ae\"],[0.3,\"#f1b6da\"],[0.4,\"#fde0ef\"],[0.5,\"#f7f7f7\"],[0.6,\"#e6f5d0\"],[0.7,\"#b8e186\"],[0.8,\"#7fbc41\"],[0.9,\"#4d9221\"],[1,\"#276419\"]]},\"xaxis\":{\"gridcolor\":\"white\",\"linecolor\":\"white\",\"ticks\":\"\",\"title\":{\"standoff\":15},\"zerolinecolor\":\"white\",\"automargin\":true,\"zerolinewidth\":2},\"yaxis\":{\"gridcolor\":\"white\",\"linecolor\":\"white\",\"ticks\":\"\",\"title\":{\"standoff\":15},\"zerolinecolor\":\"white\",\"automargin\":true,\"zerolinewidth\":2},\"scene\":{\"xaxis\":{\"backgroundcolor\":\"#E5ECF6\",\"gridcolor\":\"white\",\"linecolor\":\"white\",\"showbackground\":true,\"ticks\":\"\",\"zerolinecolor\":\"white\",\"gridwidth\":2},\"yaxis\":{\"backgroundcolor\":\"#E5ECF6\",\"gridcolor\":\"white\",\"linecolor\":\"white\",\"showbackground\":true,\"ticks\":\"\",\"zerolinecolor\":\"white\",\"gridwidth\":2},\"zaxis\":{\"backgroundcolor\":\"#E5ECF6\",\"gridcolor\":\"white\",\"linecolor\":\"white\",\"showbackground\":true,\"ticks\":\"\",\"zerolinecolor\":\"white\",\"gridwidth\":2}},\"shapedefaults\":{\"line\":{\"color\":\"#2a3f5f\"}},\"annotationdefaults\":{\"arrowcolor\":\"#2a3f5f\",\"arrowhead\":0,\"arrowwidth\":1},\"geo\":{\"bgcolor\":\"white\",\"landcolor\":\"#E5ECF6\",\"subunitcolor\":\"white\",\"showland\":true,\"showlakes\":true,\"lakecolor\":\"white\"},\"title\":{\"x\":0.05},\"mapbox\":{\"style\":\"light\"}}},\"xaxis\":{\"anchor\":\"y\",\"domain\":[0.0,1.0],\"title\":{\"text\":\"Competition\"}},\"yaxis\":{\"anchor\":\"x\",\"domain\":[0.0,1.0],\"title\":{\"text\":\"count\"}},\"legend\":{\"title\":{\"text\":\"Club\"},\"tracegroupgap\":0},\"title\":{\"text\":\"CR7 Hattricks Per Competition \\ud83c\\udfaf\\ud83d\\udc10\\u26bd\"},\"barmode\":\"relative\",\"height\":500},                        {\"responsive\": true}                    ).then(function(){\n",
              "                            \n",
              "var gd = document.getElementById('434c34b4-d514-4a03-b57d-0bb3166c3e6e');\n",
              "var x = new MutationObserver(function (mutations, observer) {{\n",
              "        var display = window.getComputedStyle(gd).display;\n",
              "        if (!display || display === 'none') {{\n",
              "            console.log([gd, 'removed!']);\n",
              "            Plotly.purge(gd);\n",
              "            observer.disconnect();\n",
              "        }}\n",
              "}});\n",
              "\n",
              "// Listen for the removal of the full notebook cells\n",
              "var notebookContainer = gd.closest('#notebook-container');\n",
              "if (notebookContainer) {{\n",
              "    x.observe(notebookContainer, {childList: true});\n",
              "}}\n",
              "\n",
              "// Listen for the clearing of the current output cell\n",
              "var outputEl = gd.closest('.output');\n",
              "if (outputEl) {{\n",
              "    x.observe(outputEl, {childList: true});\n",
              "}}\n",
              "\n",
              "                        })                };                            </script>        </div>\n",
              "</body>\n",
              "</html>"
            ]
          },
          "metadata": {}
        }
      ],
      "source": [
        "#CR7 Hattricks Per Competition 🎯🐐⚽ (3 Goals or more)\n",
        "hattricks =df[df.groupby('Date')['Date'].transform('count') > 2 ].drop_duplicates(subset='Date')\n",
        "px.histogram(\n",
        "    data_frame=hattricks,              # Data source\n",
        "    x='Competition',                 # Column for x-axis\n",
        "    title=\"CR7 Hattricks Per Competition 🎯🐐⚽\",   # Chart title\n",
        "    height=500,                 # Height of the chart\n",
        "    color='Club' , # Color based on 'Club' column\n",
        "    color_discrete_map= color_map, #A specific color for each club\n",
        "    hover_name='Club',          # Display 'Club' name on hover\n",
        "    hover_data=['Competition', 'Season', 'Club']  # Additional hover data\n",
        ")"
      ]
    },
    {
      "cell_type": "code",
      "execution_count": null,
      "id": "6d88d430",
      "metadata": {
        "execution": {
          "iopub.execute_input": "2023-10-07T05:39:07.488185Z",
          "iopub.status.busy": "2023-10-07T05:39:07.487950Z",
          "iopub.status.idle": "2023-10-07T05:39:07.539082Z",
          "shell.execute_reply": "2023-10-07T05:39:07.538550Z"
        },
        "papermill": {
          "duration": 0.060977,
          "end_time": "2023-10-07T05:39:07.540308",
          "exception": false,
          "start_time": "2023-10-07T05:39:07.479331",
          "status": "completed"
        },
        "tags": [],
        "colab": {
          "base_uri": "https://localhost:8080/"
        },
        "id": "6d88d430",
        "outputId": "ca374d33-dbe3-421c-b21e-285b54559913"
      },
      "outputs": [
        {
          "output_type": "display_data",
          "data": {
            "text/html": [
              "<html>\n",
              "<head><meta charset=\"utf-8\" /></head>\n",
              "<body>\n",
              "    <div>            <script src=\"https://cdnjs.cloudflare.com/ajax/libs/mathjax/2.7.5/MathJax.js?config=TeX-AMS-MML_SVG\"></script><script type=\"text/javascript\">if (window.MathJax && window.MathJax.Hub && window.MathJax.Hub.Config) {window.MathJax.Hub.Config({SVG: {font: \"STIX-Web\"}});}</script>                <script type=\"text/javascript\">window.PlotlyConfig = {MathJaxConfig: 'local'};</script>\n",
              "        <script charset=\"utf-8\" src=\"https://cdn.plot.ly/plotly-2.24.1.min.js\"></script>                <div id=\"7bb584bc-02c2-4048-ad08-6cbace0dfd6c\" class=\"plotly-graph-div\" style=\"height:525px; width:100%;\"></div>            <script type=\"text/javascript\">                                    window.PLOTLYENV=window.PLOTLYENV || {};                                    if (document.getElementById(\"7bb584bc-02c2-4048-ad08-6cbace0dfd6c\")) {                    Plotly.newPlot(                        \"7bb584bc-02c2-4048-ad08-6cbace0dfd6c\",                        [{\"alignmentgroup\":\"True\",\"hovertemplate\":\"Stage=%{x}\\u003cbr\\u003eNumber of Goals\\u26bd=%{text}\\u003cextra\\u003e\\u003c\\u002fextra\\u003e\",\"legendgroup\":\"Group Stage\",\"marker\":{\"color\":\"#636efa\",\"pattern\":{\"shape\":\"\"}},\"name\":\"Group Stage\",\"offsetgroup\":\"Group Stage\",\"orientation\":\"v\",\"showlegend\":true,\"text\":[73.0],\"textposition\":\"auto\",\"x\":[\"Group Stage\"],\"xaxis\":\"x\",\"y\":[73],\"yaxis\":\"y\",\"type\":\"bar\"},{\"alignmentgroup\":\"True\",\"hovertemplate\":\"Stage=%{x}\\u003cbr\\u003eNumber of Goals\\u26bd=%{text}\\u003cextra\\u003e\\u003c\\u002fextra\\u003e\",\"legendgroup\":\"Quarter-Finals\",\"marker\":{\"color\":\"#EF553B\",\"pattern\":{\"shape\":\"\"}},\"name\":\"Quarter-Finals\",\"offsetgroup\":\"Quarter-Finals\",\"orientation\":\"v\",\"showlegend\":true,\"text\":[25.0],\"textposition\":\"auto\",\"x\":[\"Quarter-Finals\"],\"xaxis\":\"x\",\"y\":[25],\"yaxis\":\"y\",\"type\":\"bar\"},{\"alignmentgroup\":\"True\",\"hovertemplate\":\"Stage=%{x}\\u003cbr\\u003eNumber of Goals\\u26bd=%{text}\\u003cextra\\u003e\\u003c\\u002fextra\\u003e\",\"legendgroup\":\"last 16\",\"marker\":{\"color\":\"#00cc96\",\"pattern\":{\"shape\":\"\"}},\"name\":\"last 16\",\"offsetgroup\":\"last 16\",\"orientation\":\"v\",\"showlegend\":true,\"text\":[25.0],\"textposition\":\"auto\",\"x\":[\"last 16\"],\"xaxis\":\"x\",\"y\":[25],\"yaxis\":\"y\",\"type\":\"bar\"},{\"alignmentgroup\":\"True\",\"hovertemplate\":\"Stage=%{x}\\u003cbr\\u003eNumber of Goals\\u26bd=%{text}\\u003cextra\\u003e\\u003c\\u002fextra\\u003e\",\"legendgroup\":\"Semi-Finals\",\"marker\":{\"color\":\"#ab63fa\",\"pattern\":{\"shape\":\"\"}},\"name\":\"Semi-Finals\",\"offsetgroup\":\"Semi-Finals\",\"orientation\":\"v\",\"showlegend\":true,\"text\":[13.0],\"textposition\":\"auto\",\"x\":[\"Semi-Finals\"],\"xaxis\":\"x\",\"y\":[13],\"yaxis\":\"y\",\"type\":\"bar\"},{\"alignmentgroup\":\"True\",\"hovertemplate\":\"Stage=%{x}\\u003cbr\\u003eNumber of Goals\\u26bd=%{text}\\u003cextra\\u003e\\u003c\\u002fextra\\u003e\",\"legendgroup\":\"Final\",\"marker\":{\"color\":\"#FFA15A\",\"pattern\":{\"shape\":\"\"}},\"name\":\"Final\",\"offsetgroup\":\"Final\",\"orientation\":\"v\",\"showlegend\":true,\"text\":[4.0],\"textposition\":\"auto\",\"x\":[\"Final\"],\"xaxis\":\"x\",\"y\":[4],\"yaxis\":\"y\",\"type\":\"bar\"}],                        {\"template\":{\"data\":{\"histogram2dcontour\":[{\"type\":\"histogram2dcontour\",\"colorbar\":{\"outlinewidth\":0,\"ticks\":\"\"},\"colorscale\":[[0.0,\"#0d0887\"],[0.1111111111111111,\"#46039f\"],[0.2222222222222222,\"#7201a8\"],[0.3333333333333333,\"#9c179e\"],[0.4444444444444444,\"#bd3786\"],[0.5555555555555556,\"#d8576b\"],[0.6666666666666666,\"#ed7953\"],[0.7777777777777778,\"#fb9f3a\"],[0.8888888888888888,\"#fdca26\"],[1.0,\"#f0f921\"]]}],\"choropleth\":[{\"type\":\"choropleth\",\"colorbar\":{\"outlinewidth\":0,\"ticks\":\"\"}}],\"histogram2d\":[{\"type\":\"histogram2d\",\"colorbar\":{\"outlinewidth\":0,\"ticks\":\"\"},\"colorscale\":[[0.0,\"#0d0887\"],[0.1111111111111111,\"#46039f\"],[0.2222222222222222,\"#7201a8\"],[0.3333333333333333,\"#9c179e\"],[0.4444444444444444,\"#bd3786\"],[0.5555555555555556,\"#d8576b\"],[0.6666666666666666,\"#ed7953\"],[0.7777777777777778,\"#fb9f3a\"],[0.8888888888888888,\"#fdca26\"],[1.0,\"#f0f921\"]]}],\"heatmap\":[{\"type\":\"heatmap\",\"colorbar\":{\"outlinewidth\":0,\"ticks\":\"\"},\"colorscale\":[[0.0,\"#0d0887\"],[0.1111111111111111,\"#46039f\"],[0.2222222222222222,\"#7201a8\"],[0.3333333333333333,\"#9c179e\"],[0.4444444444444444,\"#bd3786\"],[0.5555555555555556,\"#d8576b\"],[0.6666666666666666,\"#ed7953\"],[0.7777777777777778,\"#fb9f3a\"],[0.8888888888888888,\"#fdca26\"],[1.0,\"#f0f921\"]]}],\"heatmapgl\":[{\"type\":\"heatmapgl\",\"colorbar\":{\"outlinewidth\":0,\"ticks\":\"\"},\"colorscale\":[[0.0,\"#0d0887\"],[0.1111111111111111,\"#46039f\"],[0.2222222222222222,\"#7201a8\"],[0.3333333333333333,\"#9c179e\"],[0.4444444444444444,\"#bd3786\"],[0.5555555555555556,\"#d8576b\"],[0.6666666666666666,\"#ed7953\"],[0.7777777777777778,\"#fb9f3a\"],[0.8888888888888888,\"#fdca26\"],[1.0,\"#f0f921\"]]}],\"contourcarpet\":[{\"type\":\"contourcarpet\",\"colorbar\":{\"outlinewidth\":0,\"ticks\":\"\"}}],\"contour\":[{\"type\":\"contour\",\"colorbar\":{\"outlinewidth\":0,\"ticks\":\"\"},\"colorscale\":[[0.0,\"#0d0887\"],[0.1111111111111111,\"#46039f\"],[0.2222222222222222,\"#7201a8\"],[0.3333333333333333,\"#9c179e\"],[0.4444444444444444,\"#bd3786\"],[0.5555555555555556,\"#d8576b\"],[0.6666666666666666,\"#ed7953\"],[0.7777777777777778,\"#fb9f3a\"],[0.8888888888888888,\"#fdca26\"],[1.0,\"#f0f921\"]]}],\"surface\":[{\"type\":\"surface\",\"colorbar\":{\"outlinewidth\":0,\"ticks\":\"\"},\"colorscale\":[[0.0,\"#0d0887\"],[0.1111111111111111,\"#46039f\"],[0.2222222222222222,\"#7201a8\"],[0.3333333333333333,\"#9c179e\"],[0.4444444444444444,\"#bd3786\"],[0.5555555555555556,\"#d8576b\"],[0.6666666666666666,\"#ed7953\"],[0.7777777777777778,\"#fb9f3a\"],[0.8888888888888888,\"#fdca26\"],[1.0,\"#f0f921\"]]}],\"mesh3d\":[{\"type\":\"mesh3d\",\"colorbar\":{\"outlinewidth\":0,\"ticks\":\"\"}}],\"scatter\":[{\"fillpattern\":{\"fillmode\":\"overlay\",\"size\":10,\"solidity\":0.2},\"type\":\"scatter\"}],\"parcoords\":[{\"type\":\"parcoords\",\"line\":{\"colorbar\":{\"outlinewidth\":0,\"ticks\":\"\"}}}],\"scatterpolargl\":[{\"type\":\"scatterpolargl\",\"marker\":{\"colorbar\":{\"outlinewidth\":0,\"ticks\":\"\"}}}],\"bar\":[{\"error_x\":{\"color\":\"#2a3f5f\"},\"error_y\":{\"color\":\"#2a3f5f\"},\"marker\":{\"line\":{\"color\":\"#E5ECF6\",\"width\":0.5},\"pattern\":{\"fillmode\":\"overlay\",\"size\":10,\"solidity\":0.2}},\"type\":\"bar\"}],\"scattergeo\":[{\"type\":\"scattergeo\",\"marker\":{\"colorbar\":{\"outlinewidth\":0,\"ticks\":\"\"}}}],\"scatterpolar\":[{\"type\":\"scatterpolar\",\"marker\":{\"colorbar\":{\"outlinewidth\":0,\"ticks\":\"\"}}}],\"histogram\":[{\"marker\":{\"pattern\":{\"fillmode\":\"overlay\",\"size\":10,\"solidity\":0.2}},\"type\":\"histogram\"}],\"scattergl\":[{\"type\":\"scattergl\",\"marker\":{\"colorbar\":{\"outlinewidth\":0,\"ticks\":\"\"}}}],\"scatter3d\":[{\"type\":\"scatter3d\",\"line\":{\"colorbar\":{\"outlinewidth\":0,\"ticks\":\"\"}},\"marker\":{\"colorbar\":{\"outlinewidth\":0,\"ticks\":\"\"}}}],\"scattermapbox\":[{\"type\":\"scattermapbox\",\"marker\":{\"colorbar\":{\"outlinewidth\":0,\"ticks\":\"\"}}}],\"scatterternary\":[{\"type\":\"scatterternary\",\"marker\":{\"colorbar\":{\"outlinewidth\":0,\"ticks\":\"\"}}}],\"scattercarpet\":[{\"type\":\"scattercarpet\",\"marker\":{\"colorbar\":{\"outlinewidth\":0,\"ticks\":\"\"}}}],\"carpet\":[{\"aaxis\":{\"endlinecolor\":\"#2a3f5f\",\"gridcolor\":\"white\",\"linecolor\":\"white\",\"minorgridcolor\":\"white\",\"startlinecolor\":\"#2a3f5f\"},\"baxis\":{\"endlinecolor\":\"#2a3f5f\",\"gridcolor\":\"white\",\"linecolor\":\"white\",\"minorgridcolor\":\"white\",\"startlinecolor\":\"#2a3f5f\"},\"type\":\"carpet\"}],\"table\":[{\"cells\":{\"fill\":{\"color\":\"#EBF0F8\"},\"line\":{\"color\":\"white\"}},\"header\":{\"fill\":{\"color\":\"#C8D4E3\"},\"line\":{\"color\":\"white\"}},\"type\":\"table\"}],\"barpolar\":[{\"marker\":{\"line\":{\"color\":\"#E5ECF6\",\"width\":0.5},\"pattern\":{\"fillmode\":\"overlay\",\"size\":10,\"solidity\":0.2}},\"type\":\"barpolar\"}],\"pie\":[{\"automargin\":true,\"type\":\"pie\"}]},\"layout\":{\"autotypenumbers\":\"strict\",\"colorway\":[\"#636efa\",\"#EF553B\",\"#00cc96\",\"#ab63fa\",\"#FFA15A\",\"#19d3f3\",\"#FF6692\",\"#B6E880\",\"#FF97FF\",\"#FECB52\"],\"font\":{\"color\":\"#2a3f5f\"},\"hovermode\":\"closest\",\"hoverlabel\":{\"align\":\"left\"},\"paper_bgcolor\":\"white\",\"plot_bgcolor\":\"#E5ECF6\",\"polar\":{\"bgcolor\":\"#E5ECF6\",\"angularaxis\":{\"gridcolor\":\"white\",\"linecolor\":\"white\",\"ticks\":\"\"},\"radialaxis\":{\"gridcolor\":\"white\",\"linecolor\":\"white\",\"ticks\":\"\"}},\"ternary\":{\"bgcolor\":\"#E5ECF6\",\"aaxis\":{\"gridcolor\":\"white\",\"linecolor\":\"white\",\"ticks\":\"\"},\"baxis\":{\"gridcolor\":\"white\",\"linecolor\":\"white\",\"ticks\":\"\"},\"caxis\":{\"gridcolor\":\"white\",\"linecolor\":\"white\",\"ticks\":\"\"}},\"coloraxis\":{\"colorbar\":{\"outlinewidth\":0,\"ticks\":\"\"}},\"colorscale\":{\"sequential\":[[0.0,\"#0d0887\"],[0.1111111111111111,\"#46039f\"],[0.2222222222222222,\"#7201a8\"],[0.3333333333333333,\"#9c179e\"],[0.4444444444444444,\"#bd3786\"],[0.5555555555555556,\"#d8576b\"],[0.6666666666666666,\"#ed7953\"],[0.7777777777777778,\"#fb9f3a\"],[0.8888888888888888,\"#fdca26\"],[1.0,\"#f0f921\"]],\"sequentialminus\":[[0.0,\"#0d0887\"],[0.1111111111111111,\"#46039f\"],[0.2222222222222222,\"#7201a8\"],[0.3333333333333333,\"#9c179e\"],[0.4444444444444444,\"#bd3786\"],[0.5555555555555556,\"#d8576b\"],[0.6666666666666666,\"#ed7953\"],[0.7777777777777778,\"#fb9f3a\"],[0.8888888888888888,\"#fdca26\"],[1.0,\"#f0f921\"]],\"diverging\":[[0,\"#8e0152\"],[0.1,\"#c51b7d\"],[0.2,\"#de77ae\"],[0.3,\"#f1b6da\"],[0.4,\"#fde0ef\"],[0.5,\"#f7f7f7\"],[0.6,\"#e6f5d0\"],[0.7,\"#b8e186\"],[0.8,\"#7fbc41\"],[0.9,\"#4d9221\"],[1,\"#276419\"]]},\"xaxis\":{\"gridcolor\":\"white\",\"linecolor\":\"white\",\"ticks\":\"\",\"title\":{\"standoff\":15},\"zerolinecolor\":\"white\",\"automargin\":true,\"zerolinewidth\":2},\"yaxis\":{\"gridcolor\":\"white\",\"linecolor\":\"white\",\"ticks\":\"\",\"title\":{\"standoff\":15},\"zerolinecolor\":\"white\",\"automargin\":true,\"zerolinewidth\":2},\"scene\":{\"xaxis\":{\"backgroundcolor\":\"#E5ECF6\",\"gridcolor\":\"white\",\"linecolor\":\"white\",\"showbackground\":true,\"ticks\":\"\",\"zerolinecolor\":\"white\",\"gridwidth\":2},\"yaxis\":{\"backgroundcolor\":\"#E5ECF6\",\"gridcolor\":\"white\",\"linecolor\":\"white\",\"showbackground\":true,\"ticks\":\"\",\"zerolinecolor\":\"white\",\"gridwidth\":2},\"zaxis\":{\"backgroundcolor\":\"#E5ECF6\",\"gridcolor\":\"white\",\"linecolor\":\"white\",\"showbackground\":true,\"ticks\":\"\",\"zerolinecolor\":\"white\",\"gridwidth\":2}},\"shapedefaults\":{\"line\":{\"color\":\"#2a3f5f\"}},\"annotationdefaults\":{\"arrowcolor\":\"#2a3f5f\",\"arrowhead\":0,\"arrowwidth\":1},\"geo\":{\"bgcolor\":\"white\",\"landcolor\":\"#E5ECF6\",\"subunitcolor\":\"white\",\"showland\":true,\"showlakes\":true,\"lakecolor\":\"white\"},\"title\":{\"x\":0.05},\"mapbox\":{\"style\":\"light\"}}},\"xaxis\":{\"anchor\":\"y\",\"domain\":[0.0,1.0],\"title\":{\"text\":\"Stage\"},\"categoryorder\":\"array\",\"categoryarray\":[\"Group Stage\",\"Quarter-Finals\",\"last 16\",\"Semi-Finals\",\"Final\"]},\"yaxis\":{\"anchor\":\"x\",\"domain\":[0.0,1.0],\"title\":{\"text\":\"Number of Goals\\u26bd\"}},\"legend\":{\"title\":{\"text\":\"Stage\"},\"tracegroupgap\":0},\"title\":{\"text\":\"Champions league goals per stage \\u231a\\u26bd\"},\"barmode\":\"relative\"},                        {\"responsive\": true}                    ).then(function(){\n",
              "                            \n",
              "var gd = document.getElementById('7bb584bc-02c2-4048-ad08-6cbace0dfd6c');\n",
              "var x = new MutationObserver(function (mutations, observer) {{\n",
              "        var display = window.getComputedStyle(gd).display;\n",
              "        if (!display || display === 'none') {{\n",
              "            console.log([gd, 'removed!']);\n",
              "            Plotly.purge(gd);\n",
              "            observer.disconnect();\n",
              "        }}\n",
              "}});\n",
              "\n",
              "// Listen for the removal of the full notebook cells\n",
              "var notebookContainer = gd.closest('#notebook-container');\n",
              "if (notebookContainer) {{\n",
              "    x.observe(notebookContainer, {childList: true});\n",
              "}}\n",
              "\n",
              "// Listen for the clearing of the current output cell\n",
              "var outputEl = gd.closest('.output');\n",
              "if (outputEl) {{\n",
              "    x.observe(outputEl, {childList: true});\n",
              "}}\n",
              "\n",
              "                        })                };                            </script>        </div>\n",
              "</body>\n",
              "</html>"
            ]
          },
          "metadata": {}
        }
      ],
      "source": [
        "#CR7 Champions league Analysis\n",
        "cl = df.query('Competition == \"UEFA Champions League\"') #Champions leage data\n",
        "\n",
        "#Summary stastics\n",
        "cl_goals_per_stage = cl.groupby('Matchday').size().reset_index(name = 'Goals').sort_values(by = 'Goals', ascending=False)\n",
        "\n",
        "# Create a bar plot using Plotly Express\n",
        "fig = px.bar(cl_goals_per_stage, x='Matchday', y='Goals', title=\"Champions league goals per stage ⌚⚽\",\n",
        "            labels={'Matchday': 'Stage', 'Goals': 'Number of Goals⚽'}, text= 'Goals',\n",
        "            color = 'Matchday')\n",
        "\n",
        "# Show the plot\n",
        "fig.show()"
      ]
    },
    {
      "cell_type": "markdown",
      "id": "022b9a69",
      "metadata": {
        "papermill": {
          "duration": 0.007495,
          "end_time": "2023-10-07T05:39:07.556189",
          "exception": false,
          "start_time": "2023-10-07T05:39:07.548694",
          "status": "completed"
        },
        "tags": [],
        "id": "022b9a69"
      },
      "source": [
        "<div style=\"\">\n",
        "    <div>\n",
        "        <img style=\"width:30%;float: left;margin:5px 30px 5px 1px;height:100%\" src=\"https://pbs.twimg.com/media/EaEhEzIXgAAzWMx.jpg:large\"  />\n",
        "    </div>\n",
        "    <div style=\"margin-left: 20px; font-size:15px; line-hight:1.2\">\n",
        "After an exhaustive Exploratory Data Analysis of the available data on CR7, it is undeniable that CR7, stands tall among the legends of football. The metrics, statistics, and visual representations we've delved into not only capture his exceptional talent and prowess on the football field but also underline the consistency, determination, and passion he brings to every game.\n",
        "<br>\n",
        "From his early days at Sporting Lisbon to his legendary stints at clubs like Manchester United, Real Madrid, Juventus, and beyond, CR7 has showcased a unique ability to adapt, evolve, and excel. His countless awards, accolades, and records speak for themselves, solidifying his place in the pantheon of football greats.\n",
        "<br>\n",
        "However, numbers alone cannot encapsulate the electrifying moments he has provided fans worldwide, from breathtaking goals to crucial assists and game-changing plays. Cristiano Ronaldo's impact on the game transcends mere statistics, as he has not only set the bar for excellence but has also inspired countless young players to pursue their dreams in football.\n",
        "<br><br>\n",
        "In conclusion, while debates may continue about the 'greatest of all time' in football, one thing is crystal clear: Cristiano Ronaldo, CR7, is undeniably one of the most influential and exceptional talents the sport has ever witnessed\n",
        "    </div>"
      ]
    }
  ],
  "metadata": {
    "kernelspec": {
      "display_name": "Python 3",
      "language": "python",
      "name": "python3"
    },
    "language_info": {
      "codemirror_mode": {
        "name": "ipython",
        "version": 3
      },
      "file_extension": ".py",
      "mimetype": "text/x-python",
      "name": "python",
      "nbconvert_exporter": "python",
      "pygments_lexer": "ipython3",
      "version": "3.10.4"
    },
    "papermill": {
      "default_parameters": {},
      "duration": 6.027786,
      "end_time": "2023-10-07T05:39:07.996489",
      "environment_variables": {},
      "exception": null,
      "input_path": "__notebook__.ipynb",
      "output_path": "__notebook__.ipynb",
      "parameters": {},
      "start_time": "2023-10-07T05:39:01.968703",
      "version": "2.4.0"
    },
    "colab": {
      "provenance": []
    }
  },
  "nbformat": 4,
  "nbformat_minor": 5
}